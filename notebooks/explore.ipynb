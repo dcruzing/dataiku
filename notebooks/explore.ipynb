{
 "cells": [
  {
   "attachments": {},
   "cell_type": "markdown",
   "metadata": {},
   "source": [
    "Goal of the project - identifying characteristics that are associated with a person making more or less than $50,000 per year\n",
    "\n",
    "Initial thoughts - predictions are needed but feature importance is important - more about insight for feature importance than generating predictions.\n",
    "\n",
    "Initial findings - we are missing all column names. Metadata file contains inaccuracies in column namings and columns included with the data.\n"
   ]
  },
  {
   "cell_type": "code",
   "execution_count": 1,
   "metadata": {},
   "outputs": [],
   "source": [
    "import pandas as pd\n",
    "import numpy as np\n",
    "import plotly.express as px\n",
    "import matplotlib.pyplot as plt\n",
    "import warnings\n",
    "\n",
    "warnings.simplefilter(action='ignore', category=Warning)"
   ]
  },
  {
   "cell_type": "code",
   "execution_count": null,
   "metadata": {},
   "outputs": [],
   "source": []
  },
  {
   "cell_type": "code",
   "execution_count": 2,
   "metadata": {},
   "outputs": [
    {
     "data": {
      "text/html": [
       "<div>\n",
       "<style scoped>\n",
       "    .dataframe tbody tr th:only-of-type {\n",
       "        vertical-align: middle;\n",
       "    }\n",
       "\n",
       "    .dataframe tbody tr th {\n",
       "        vertical-align: top;\n",
       "    }\n",
       "\n",
       "    .dataframe thead th {\n",
       "        text-align: right;\n",
       "    }\n",
       "</style>\n",
       "<table border=\"1\" class=\"dataframe\">\n",
       "  <thead>\n",
       "    <tr style=\"text-align: right;\">\n",
       "      <th></th>\n",
       "      <th>0</th>\n",
       "      <th>1</th>\n",
       "      <th>2</th>\n",
       "      <th>3</th>\n",
       "      <th>4</th>\n",
       "      <th>5</th>\n",
       "      <th>6</th>\n",
       "      <th>7</th>\n",
       "      <th>8</th>\n",
       "      <th>9</th>\n",
       "      <th>...</th>\n",
       "      <th>32</th>\n",
       "      <th>33</th>\n",
       "      <th>34</th>\n",
       "      <th>35</th>\n",
       "      <th>36</th>\n",
       "      <th>37</th>\n",
       "      <th>38</th>\n",
       "      <th>39</th>\n",
       "      <th>40</th>\n",
       "      <th>41</th>\n",
       "    </tr>\n",
       "  </thead>\n",
       "  <tbody>\n",
       "    <tr>\n",
       "      <th>0</th>\n",
       "      <td>73</td>\n",
       "      <td>Not in universe</td>\n",
       "      <td>0</td>\n",
       "      <td>0</td>\n",
       "      <td>High school graduate</td>\n",
       "      <td>0</td>\n",
       "      <td>Not in universe</td>\n",
       "      <td>Widowed</td>\n",
       "      <td>Not in universe or children</td>\n",
       "      <td>Not in universe</td>\n",
       "      <td>...</td>\n",
       "      <td>United-States</td>\n",
       "      <td>United-States</td>\n",
       "      <td>United-States</td>\n",
       "      <td>Native- Born in the United States</td>\n",
       "      <td>0</td>\n",
       "      <td>Not in universe</td>\n",
       "      <td>2</td>\n",
       "      <td>0</td>\n",
       "      <td>95</td>\n",
       "      <td>- 50000.</td>\n",
       "    </tr>\n",
       "    <tr>\n",
       "      <th>1</th>\n",
       "      <td>58</td>\n",
       "      <td>Self-employed-not incorporated</td>\n",
       "      <td>4</td>\n",
       "      <td>34</td>\n",
       "      <td>Some college but no degree</td>\n",
       "      <td>0</td>\n",
       "      <td>Not in universe</td>\n",
       "      <td>Divorced</td>\n",
       "      <td>Construction</td>\n",
       "      <td>Precision production craft &amp; repair</td>\n",
       "      <td>...</td>\n",
       "      <td>United-States</td>\n",
       "      <td>United-States</td>\n",
       "      <td>United-States</td>\n",
       "      <td>Native- Born in the United States</td>\n",
       "      <td>0</td>\n",
       "      <td>Not in universe</td>\n",
       "      <td>2</td>\n",
       "      <td>52</td>\n",
       "      <td>94</td>\n",
       "      <td>- 50000.</td>\n",
       "    </tr>\n",
       "    <tr>\n",
       "      <th>2</th>\n",
       "      <td>18</td>\n",
       "      <td>Not in universe</td>\n",
       "      <td>0</td>\n",
       "      <td>0</td>\n",
       "      <td>10th grade</td>\n",
       "      <td>0</td>\n",
       "      <td>High school</td>\n",
       "      <td>Never married</td>\n",
       "      <td>Not in universe or children</td>\n",
       "      <td>Not in universe</td>\n",
       "      <td>...</td>\n",
       "      <td>Vietnam</td>\n",
       "      <td>Vietnam</td>\n",
       "      <td>Vietnam</td>\n",
       "      <td>Foreign born- Not a citizen of U S</td>\n",
       "      <td>0</td>\n",
       "      <td>Not in universe</td>\n",
       "      <td>2</td>\n",
       "      <td>0</td>\n",
       "      <td>95</td>\n",
       "      <td>- 50000.</td>\n",
       "    </tr>\n",
       "    <tr>\n",
       "      <th>3</th>\n",
       "      <td>9</td>\n",
       "      <td>Not in universe</td>\n",
       "      <td>0</td>\n",
       "      <td>0</td>\n",
       "      <td>Children</td>\n",
       "      <td>0</td>\n",
       "      <td>Not in universe</td>\n",
       "      <td>Never married</td>\n",
       "      <td>Not in universe or children</td>\n",
       "      <td>Not in universe</td>\n",
       "      <td>...</td>\n",
       "      <td>United-States</td>\n",
       "      <td>United-States</td>\n",
       "      <td>United-States</td>\n",
       "      <td>Native- Born in the United States</td>\n",
       "      <td>0</td>\n",
       "      <td>Not in universe</td>\n",
       "      <td>0</td>\n",
       "      <td>0</td>\n",
       "      <td>94</td>\n",
       "      <td>- 50000.</td>\n",
       "    </tr>\n",
       "    <tr>\n",
       "      <th>4</th>\n",
       "      <td>10</td>\n",
       "      <td>Not in universe</td>\n",
       "      <td>0</td>\n",
       "      <td>0</td>\n",
       "      <td>Children</td>\n",
       "      <td>0</td>\n",
       "      <td>Not in universe</td>\n",
       "      <td>Never married</td>\n",
       "      <td>Not in universe or children</td>\n",
       "      <td>Not in universe</td>\n",
       "      <td>...</td>\n",
       "      <td>United-States</td>\n",
       "      <td>United-States</td>\n",
       "      <td>United-States</td>\n",
       "      <td>Native- Born in the United States</td>\n",
       "      <td>0</td>\n",
       "      <td>Not in universe</td>\n",
       "      <td>0</td>\n",
       "      <td>0</td>\n",
       "      <td>94</td>\n",
       "      <td>- 50000.</td>\n",
       "    </tr>\n",
       "  </tbody>\n",
       "</table>\n",
       "<p>5 rows × 42 columns</p>\n",
       "</div>"
      ],
      "text/plain": [
       "   0                                1   2   3                            4   \\\n",
       "0  73                  Not in universe   0   0         High school graduate   \n",
       "1  58   Self-employed-not incorporated   4  34   Some college but no degree   \n",
       "2  18                  Not in universe   0   0                   10th grade   \n",
       "3   9                  Not in universe   0   0                     Children   \n",
       "4  10                  Not in universe   0   0                     Children   \n",
       "\n",
       "   5                 6               7                             8   \\\n",
       "0   0   Not in universe         Widowed   Not in universe or children   \n",
       "1   0   Not in universe        Divorced                  Construction   \n",
       "2   0       High school   Never married   Not in universe or children   \n",
       "3   0   Not in universe   Never married   Not in universe or children   \n",
       "4   0   Not in universe   Never married   Not in universe or children   \n",
       "\n",
       "                                     9   ...              32              33  \\\n",
       "0                       Not in universe  ...   United-States   United-States   \n",
       "1   Precision production craft & repair  ...   United-States   United-States   \n",
       "2                       Not in universe  ...         Vietnam         Vietnam   \n",
       "3                       Not in universe  ...   United-States   United-States   \n",
       "4                       Not in universe  ...   United-States   United-States   \n",
       "\n",
       "               34                                    35 36                37  \\\n",
       "0   United-States     Native- Born in the United States  0   Not in universe   \n",
       "1   United-States     Native- Born in the United States  0   Not in universe   \n",
       "2         Vietnam   Foreign born- Not a citizen of U S   0   Not in universe   \n",
       "3   United-States     Native- Born in the United States  0   Not in universe   \n",
       "4   United-States     Native- Born in the United States  0   Not in universe   \n",
       "\n",
       "   38  39  40         41  \n",
       "0   2   0  95   - 50000.  \n",
       "1   2  52  94   - 50000.  \n",
       "2   2   0  95   - 50000.  \n",
       "3   0   0  94   - 50000.  \n",
       "4   0   0  94   - 50000.  \n",
       "\n",
       "[5 rows x 42 columns]"
      ]
     },
     "execution_count": 2,
     "metadata": {},
     "output_type": "execute_result"
    }
   ],
   "source": [
    "df = pd.read_csv('../data/census_income_learn.csv', header= None)\n",
    "df.head()"
   ]
  },
  {
   "attachments": {},
   "cell_type": "markdown",
   "metadata": {},
   "source": [
    "Column names are not included in the csv, and we have 42 features, not the 40 described in the metadata"
   ]
  },
  {
   "cell_type": "code",
   "execution_count": 3,
   "metadata": {},
   "outputs": [],
   "source": [
    "column_names = pd.read_csv('../data/census_income_metadata.txt', \n",
    "                           sep='|',\n",
    "                           header = None\n",
    "                           )[1].iloc[23:68].str.split('\\t',\n",
    "                                                      n = 1,\n",
    "                                                      expand = True\n",
    "                                                      )[0].str.lstrip().str.replace(\"'\",\"\")\n",
    "column_names = column_names[(column_names != 'adjusted gross income') &\n",
    "                            (column_names != 'federal income tax liability') &\n",
    "                             (column_names != 'total person earnings') & \n",
    "                             (column_names != 'total person income') &\n",
    "                             (column_names != 'taxable income amount')].reset_index(drop = True)\n",
    "column_names = list(column_names)\n",
    "column_names[10] = 'race'\n",
    "column_names.extend(['year', 'income'])\n",
    "df.columns = column_names"
   ]
  },
  {
   "cell_type": "code",
   "execution_count": 4,
   "metadata": {},
   "outputs": [
    {
     "data": {
      "text/html": [
       "<div>\n",
       "<style scoped>\n",
       "    .dataframe tbody tr th:only-of-type {\n",
       "        vertical-align: middle;\n",
       "    }\n",
       "\n",
       "    .dataframe tbody tr th {\n",
       "        vertical-align: top;\n",
       "    }\n",
       "\n",
       "    .dataframe thead th {\n",
       "        text-align: right;\n",
       "    }\n",
       "</style>\n",
       "<table border=\"1\" class=\"dataframe\">\n",
       "  <thead>\n",
       "    <tr style=\"text-align: right;\">\n",
       "      <th></th>\n",
       "      <th>age</th>\n",
       "      <th>class of worker</th>\n",
       "      <th>industry code</th>\n",
       "      <th>occupation code</th>\n",
       "      <th>education</th>\n",
       "      <th>wage per hour</th>\n",
       "      <th>enrolled in edu inst last wk</th>\n",
       "      <th>marital status</th>\n",
       "      <th>major industry code</th>\n",
       "      <th>major occupation code</th>\n",
       "      <th>...</th>\n",
       "      <th>country of birth father</th>\n",
       "      <th>country of birth mother</th>\n",
       "      <th>country of birth self</th>\n",
       "      <th>citizenship</th>\n",
       "      <th>own business or self employed</th>\n",
       "      <th>fill inc questionnaire for veterans admin</th>\n",
       "      <th>veterans benefits</th>\n",
       "      <th>weeks worked in year</th>\n",
       "      <th>year</th>\n",
       "      <th>income</th>\n",
       "    </tr>\n",
       "  </thead>\n",
       "  <tbody>\n",
       "    <tr>\n",
       "      <th>0</th>\n",
       "      <td>73</td>\n",
       "      <td>Not in universe</td>\n",
       "      <td>0</td>\n",
       "      <td>0</td>\n",
       "      <td>High school graduate</td>\n",
       "      <td>0</td>\n",
       "      <td>Not in universe</td>\n",
       "      <td>Widowed</td>\n",
       "      <td>Not in universe or children</td>\n",
       "      <td>Not in universe</td>\n",
       "      <td>...</td>\n",
       "      <td>United-States</td>\n",
       "      <td>United-States</td>\n",
       "      <td>United-States</td>\n",
       "      <td>Native- Born in the United States</td>\n",
       "      <td>0</td>\n",
       "      <td>Not in universe</td>\n",
       "      <td>2</td>\n",
       "      <td>0</td>\n",
       "      <td>95</td>\n",
       "      <td>- 50000.</td>\n",
       "    </tr>\n",
       "    <tr>\n",
       "      <th>1</th>\n",
       "      <td>58</td>\n",
       "      <td>Self-employed-not incorporated</td>\n",
       "      <td>4</td>\n",
       "      <td>34</td>\n",
       "      <td>Some college but no degree</td>\n",
       "      <td>0</td>\n",
       "      <td>Not in universe</td>\n",
       "      <td>Divorced</td>\n",
       "      <td>Construction</td>\n",
       "      <td>Precision production craft &amp; repair</td>\n",
       "      <td>...</td>\n",
       "      <td>United-States</td>\n",
       "      <td>United-States</td>\n",
       "      <td>United-States</td>\n",
       "      <td>Native- Born in the United States</td>\n",
       "      <td>0</td>\n",
       "      <td>Not in universe</td>\n",
       "      <td>2</td>\n",
       "      <td>52</td>\n",
       "      <td>94</td>\n",
       "      <td>- 50000.</td>\n",
       "    </tr>\n",
       "    <tr>\n",
       "      <th>2</th>\n",
       "      <td>18</td>\n",
       "      <td>Not in universe</td>\n",
       "      <td>0</td>\n",
       "      <td>0</td>\n",
       "      <td>10th grade</td>\n",
       "      <td>0</td>\n",
       "      <td>High school</td>\n",
       "      <td>Never married</td>\n",
       "      <td>Not in universe or children</td>\n",
       "      <td>Not in universe</td>\n",
       "      <td>...</td>\n",
       "      <td>Vietnam</td>\n",
       "      <td>Vietnam</td>\n",
       "      <td>Vietnam</td>\n",
       "      <td>Foreign born- Not a citizen of U S</td>\n",
       "      <td>0</td>\n",
       "      <td>Not in universe</td>\n",
       "      <td>2</td>\n",
       "      <td>0</td>\n",
       "      <td>95</td>\n",
       "      <td>- 50000.</td>\n",
       "    </tr>\n",
       "    <tr>\n",
       "      <th>3</th>\n",
       "      <td>9</td>\n",
       "      <td>Not in universe</td>\n",
       "      <td>0</td>\n",
       "      <td>0</td>\n",
       "      <td>Children</td>\n",
       "      <td>0</td>\n",
       "      <td>Not in universe</td>\n",
       "      <td>Never married</td>\n",
       "      <td>Not in universe or children</td>\n",
       "      <td>Not in universe</td>\n",
       "      <td>...</td>\n",
       "      <td>United-States</td>\n",
       "      <td>United-States</td>\n",
       "      <td>United-States</td>\n",
       "      <td>Native- Born in the United States</td>\n",
       "      <td>0</td>\n",
       "      <td>Not in universe</td>\n",
       "      <td>0</td>\n",
       "      <td>0</td>\n",
       "      <td>94</td>\n",
       "      <td>- 50000.</td>\n",
       "    </tr>\n",
       "    <tr>\n",
       "      <th>4</th>\n",
       "      <td>10</td>\n",
       "      <td>Not in universe</td>\n",
       "      <td>0</td>\n",
       "      <td>0</td>\n",
       "      <td>Children</td>\n",
       "      <td>0</td>\n",
       "      <td>Not in universe</td>\n",
       "      <td>Never married</td>\n",
       "      <td>Not in universe or children</td>\n",
       "      <td>Not in universe</td>\n",
       "      <td>...</td>\n",
       "      <td>United-States</td>\n",
       "      <td>United-States</td>\n",
       "      <td>United-States</td>\n",
       "      <td>Native- Born in the United States</td>\n",
       "      <td>0</td>\n",
       "      <td>Not in universe</td>\n",
       "      <td>0</td>\n",
       "      <td>0</td>\n",
       "      <td>94</td>\n",
       "      <td>- 50000.</td>\n",
       "    </tr>\n",
       "  </tbody>\n",
       "</table>\n",
       "<p>5 rows × 42 columns</p>\n",
       "</div>"
      ],
      "text/plain": [
       "   age                  class of worker  industry code  occupation code  \\\n",
       "0   73                  Not in universe              0                0   \n",
       "1   58   Self-employed-not incorporated              4               34   \n",
       "2   18                  Not in universe              0                0   \n",
       "3    9                  Not in universe              0                0   \n",
       "4   10                  Not in universe              0                0   \n",
       "\n",
       "                     education  wage per hour enrolled in edu inst last wk  \\\n",
       "0         High school graduate              0              Not in universe   \n",
       "1   Some college but no degree              0              Not in universe   \n",
       "2                   10th grade              0                  High school   \n",
       "3                     Children              0              Not in universe   \n",
       "4                     Children              0              Not in universe   \n",
       "\n",
       "   marital status           major industry code  \\\n",
       "0         Widowed   Not in universe or children   \n",
       "1        Divorced                  Construction   \n",
       "2   Never married   Not in universe or children   \n",
       "3   Never married   Not in universe or children   \n",
       "4   Never married   Not in universe or children   \n",
       "\n",
       "                  major occupation code  ... country of birth father  \\\n",
       "0                       Not in universe  ...           United-States   \n",
       "1   Precision production craft & repair  ...           United-States   \n",
       "2                       Not in universe  ...                 Vietnam   \n",
       "3                       Not in universe  ...           United-States   \n",
       "4                       Not in universe  ...           United-States   \n",
       "\n",
       "  country of birth mother country of birth self  \\\n",
       "0           United-States         United-States   \n",
       "1           United-States         United-States   \n",
       "2                 Vietnam               Vietnam   \n",
       "3           United-States         United-States   \n",
       "4           United-States         United-States   \n",
       "\n",
       "                            citizenship own business or self employed  \\\n",
       "0     Native- Born in the United States                             0   \n",
       "1     Native- Born in the United States                             0   \n",
       "2   Foreign born- Not a citizen of U S                              0   \n",
       "3     Native- Born in the United States                             0   \n",
       "4     Native- Born in the United States                             0   \n",
       "\n",
       "  fill inc questionnaire for veterans admin  veterans benefits  \\\n",
       "0                           Not in universe                  2   \n",
       "1                           Not in universe                  2   \n",
       "2                           Not in universe                  2   \n",
       "3                           Not in universe                  0   \n",
       "4                           Not in universe                  0   \n",
       "\n",
       "   weeks worked in year  year     income  \n",
       "0                     0    95   - 50000.  \n",
       "1                    52    94   - 50000.  \n",
       "2                     0    95   - 50000.  \n",
       "3                     0    94   - 50000.  \n",
       "4                     0    94   - 50000.  \n",
       "\n",
       "[5 rows x 42 columns]"
      ]
     },
     "execution_count": 4,
     "metadata": {},
     "output_type": "execute_result"
    }
   ],
   "source": [
    "df.head()"
   ]
  },
  {
   "cell_type": "code",
   "execution_count": 5,
   "metadata": {},
   "outputs": [],
   "source": [
    "#Perhaps worth making a data dictionary to track observed values\n",
    "data_dictionary = {}\n",
    "for i in df.columns:\n",
    "    data_dictionary[i] = {'no_of_distinct_values': df[i].nunique(), 'distinct_values': list(df[i].unique())}"
   ]
  },
  {
   "cell_type": "markdown",
   "metadata": {},
   "source": [
    "for i in df.columns:\n",
    "    print(i, df[i].unique())"
   ]
  },
  {
   "cell_type": "code",
   "execution_count": 6,
   "metadata": {},
   "outputs": [
    {
     "data": {
      "text/plain": [
       " ?                   0.499672\n",
       " Nonmover            0.413677\n",
       " MSA to MSA          0.053132\n",
       " NonMSA to nonMSA    0.014089\n",
       " Not in universe     0.007598\n",
       " MSA to nonMSA       0.003959\n",
       " NonMSA to MSA       0.003082\n",
       " Abroad to MSA       0.002270\n",
       " Not identifiable    0.002155\n",
       " Abroad to nonMSA    0.000366\n",
       "Name: migration code-change in msa, dtype: float64"
      ]
     },
     "execution_count": 6,
     "metadata": {},
     "output_type": "execute_result"
    }
   ],
   "source": [
    "df['migration code-change in msa'].value_counts(normalize=True)"
   ]
  },
  {
   "cell_type": "code",
   "execution_count": 7,
   "metadata": {},
   "outputs": [
    {
     "data": {
      "text/plain": [
       " ?                                 0.499672\n",
       " Nonmover                          0.413677\n",
       " Same county                       0.049177\n",
       " Different county same state       0.014018\n",
       " Not in universe                   0.007598\n",
       " Different region                  0.005904\n",
       " Different state same division     0.004967\n",
       " Abroad                            0.002656\n",
       " Different division same region    0.002331\n",
       "Name: migration code-change in reg, dtype: float64"
      ]
     },
     "execution_count": 7,
     "metadata": {},
     "output_type": "execute_result"
    }
   ],
   "source": [
    "df['migration code-change in reg'].value_counts(normalize=True)\n"
   ]
  },
  {
   "cell_type": "code",
   "execution_count": 8,
   "metadata": {},
   "outputs": [
    {
     "data": {
      "text/plain": [
       " ?                               0.499672\n",
       " Nonmover                        0.413677\n",
       " Same county                     0.049177\n",
       " Different county same state     0.014018\n",
       " Not in universe                 0.007598\n",
       " Different state in South        0.004877\n",
       " Different state in West         0.003403\n",
       " Different state in Midwest      0.002762\n",
       " Abroad                          0.002656\n",
       " Different state in Northeast    0.002160\n",
       "Name: migration code-move within reg, dtype: float64"
      ]
     },
     "execution_count": 8,
     "metadata": {},
     "output_type": "execute_result"
    }
   ],
   "source": [
    "df['migration code-move within reg'].value_counts(normalize=True)"
   ]
  },
  {
   "cell_type": "code",
   "execution_count": 9,
   "metadata": {},
   "outputs": [
    {
     "data": {
      "text/plain": [
       " ?                  0.499672\n",
       " Not in universe    0.421275\n",
       " No                 0.050054\n",
       " Yes                0.028999\n",
       "Name: migration prev res in sunbelt, dtype: float64"
      ]
     },
     "execution_count": 9,
     "metadata": {},
     "output_type": "execute_result"
    }
   ],
   "source": [
    "df['migration prev res in sunbelt'].value_counts(normalize=True)"
   ]
  },
  {
   "cell_type": "code",
   "execution_count": 10,
   "metadata": {},
   "outputs": [
    {
     "data": {
      "text/plain": [
       " Not in universe under 1 year old    101212\n",
       " Yes                                  82538\n",
       " No                                   15773\n",
       "Name: live in this house 1 year ago, dtype: int64"
      ]
     },
     "execution_count": 10,
     "metadata": {},
     "output_type": "execute_result"
    }
   ],
   "source": [
    "df['live in this house 1 year ago'].value_counts()"
   ]
  },
  {
   "attachments": {},
   "cell_type": "markdown",
   "metadata": {},
   "source": [
    "All of the migration attributes have a large number of missing values (almost 50%), from the paper this appears to be explained by the fact that the data was collected over 2 years\n",
    "and not all of the people interviewed were interviewed in both years.\n",
    "\n",
    "The feature 'live in this house 1 year ago' is complete and could be used instead of these migration features given the data we have is from two successive years.\n",
    "\n",
    "I'm planning to build an initial model without these migration columns due to the amount of missing data, we can always look to include these later if I believe the model performance could be improved with their inclusion.\n",
    "\n",
    "This also seems to imply that there is a lot of possible duplication within the dataset. \n",
    "In fact we can see from the metadata txt file that\n",
    "- Number of instances data = 199523\n",
    "- - Duplicate or conflicting instances : 46716\n",
    "- Number of instances in test = 99762\n",
    "- - Duplicate or conflicting instances : 20936\n",
    "\n",
    "\n",
    "<br />I don't know that we need to remove duplicates here as each record seems to be a valid record and without a unique identifier we could have multiple people with the same records legitimately. "
   ]
  },
  {
   "cell_type": "code",
   "execution_count": 11,
   "metadata": {},
   "outputs": [
    {
     "data": {
      "text/plain": [
       " - 50000.    0.937942\n",
       " 50000+.     0.062058\n",
       "Name: income, dtype: float64"
      ]
     },
     "execution_count": 11,
     "metadata": {},
     "output_type": "execute_result"
    }
   ],
   "source": [
    "df['income'].value_counts(normalize=True)"
   ]
  },
  {
   "cell_type": "code",
   "execution_count": 12,
   "metadata": {},
   "outputs": [
    {
     "data": {
      "text/plain": [
       " United-States                   0.797718\n",
       " Mexico                          0.050160\n",
       " ?                               0.033645\n",
       " Puerto-Rico                     0.013432\n",
       " Italy                           0.011086\n",
       " Canada                          0.006916\n",
       " Germany                         0.006796\n",
       " Dominican-Republic              0.006465\n",
       " Poland                          0.006074\n",
       " Philippines                     0.005784\n",
       " Cuba                            0.005638\n",
       " El-Salvador                     0.004922\n",
       " China                           0.004290\n",
       " England                         0.003974\n",
       " Columbia                        0.003077\n",
       " India                           0.002907\n",
       " South Korea                     0.002656\n",
       " Ireland                         0.002546\n",
       " Jamaica                         0.002321\n",
       " Vietnam                         0.002290\n",
       " Guatemala                       0.002230\n",
       " Japan                           0.001965\n",
       " Portugal                        0.001945\n",
       " Ecuador                         0.001900\n",
       " Haiti                           0.001759\n",
       " Greece                          0.001724\n",
       " Peru                            0.001679\n",
       " Nicaragua                       0.001579\n",
       " Hungary                         0.001534\n",
       " Scotland                        0.001238\n",
       " Iran                            0.001168\n",
       " Yugoslavia                      0.001088\n",
       " Taiwan                          0.000997\n",
       " Cambodia                        0.000982\n",
       " Honduras                        0.000972\n",
       " France                          0.000957\n",
       " Outlying-U S (Guam USVI etc)    0.000797\n",
       " Laos                            0.000772\n",
       " Trinadad&Tobago                 0.000566\n",
       " Thailand                        0.000536\n",
       " Hong Kong                       0.000531\n",
       " Holand-Netherlands              0.000256\n",
       " Panama                          0.000125\n",
       "Name: country of birth father, dtype: float64"
      ]
     },
     "execution_count": 12,
     "metadata": {},
     "output_type": "execute_result"
    }
   ],
   "source": [
    "df['country of birth father'].value_counts(normalize=True)"
   ]
  },
  {
   "cell_type": "code",
   "execution_count": 13,
   "metadata": {},
   "outputs": [
    {
     "data": {
      "text/plain": [
       "6119"
      ]
     },
     "execution_count": 13,
     "metadata": {},
     "output_type": "execute_result"
    }
   ],
   "source": [
    "len(df[df['country of birth mother'] == ' ?'])"
   ]
  },
  {
   "cell_type": "code",
   "execution_count": 14,
   "metadata": {},
   "outputs": [
    {
     "data": {
      "text/plain": [
       " United-States                   0.804313\n",
       " Mexico                          0.049022\n",
       " ?                               0.030668\n",
       " Puerto-Rico                     0.012395\n",
       " Italy                           0.009242\n",
       " Canada                          0.007272\n",
       " Germany                         0.006927\n",
       " Philippines                     0.006170\n",
       " Poland                          0.005563\n",
       " El-Salvador                     0.005553\n",
       " Cuba                            0.005553\n",
       " Dominican-Republic              0.005528\n",
       " England                         0.004526\n",
       " China                           0.003809\n",
       " Columbia                        0.003067\n",
       " South Korea                     0.003052\n",
       " Ireland                         0.003002\n",
       " India                           0.002912\n",
       " Vietnam                         0.002371\n",
       " Japan                           0.002351\n",
       " Jamaica                         0.002270\n",
       " Guatemala                       0.002225\n",
       " Ecuador                         0.001879\n",
       " Peru                            0.001779\n",
       " Haiti                           0.001769\n",
       " Portugal                        0.001714\n",
       " Nicaragua                       0.001509\n",
       " Hungary                         0.001489\n",
       " Greece                          0.001308\n",
       " Scotland                        0.001208\n",
       " Taiwan                          0.001113\n",
       " Honduras                        0.001093\n",
       " France                          0.001063\n",
       " Iran                            0.000992\n",
       " Yugoslavia                      0.000887\n",
       " Cambodia                        0.000787\n",
       " Outlying-U S (Guam USVI etc)    0.000787\n",
       " Laos                            0.000777\n",
       " Thailand                        0.000616\n",
       " Hong Kong                       0.000536\n",
       " Trinadad&Tobago                 0.000496\n",
       " Holand-Netherlands              0.000246\n",
       " Panama                          0.000160\n",
       "Name: country of birth mother, dtype: float64"
      ]
     },
     "execution_count": 14,
     "metadata": {},
     "output_type": "execute_result"
    }
   ],
   "source": [
    "df['country of birth mother'].value_counts(normalize=True)"
   ]
  },
  {
   "cell_type": "code",
   "execution_count": 15,
   "metadata": {},
   "outputs": [
    {
     "data": {
      "text/plain": [
       " Native- Born in the United States              3484\n",
       " Foreign born- Not a citizen of U S             1939\n",
       " Foreign born- U S citizen by naturalization    1077\n",
       " Native- Born abroad of American Parent(s)       181\n",
       " Native- Born in Puerto Rico or U S Outlying      32\n",
       "Name: citizenship, dtype: int64"
      ]
     },
     "execution_count": 15,
     "metadata": {},
     "output_type": "execute_result"
    }
   ],
   "source": [
    "df[df['country of birth father'] == ' ?']['citizenship'].value_counts()"
   ]
  },
  {
   "cell_type": "code",
   "execution_count": 16,
   "metadata": {},
   "outputs": [
    {
     "data": {
      "text/plain": [
       " Native- Born in the United States              2914\n",
       " Foreign born- Not a citizen of U S             1933\n",
       " Foreign born- U S citizen by naturalization    1051\n",
       " Native- Born abroad of American Parent(s)       207\n",
       " Native- Born in Puerto Rico or U S Outlying      14\n",
       "Name: citizenship, dtype: int64"
      ]
     },
     "execution_count": 16,
     "metadata": {},
     "output_type": "execute_result"
    }
   ],
   "source": [
    "df[df['country of birth mother'] == ' ?']['citizenship'].value_counts()"
   ]
  },
  {
   "attachments": {},
   "cell_type": "markdown",
   "metadata": {},
   "source": [
    "At first I thought to impute the missing parent birth location with information gained from the citizenship feature (for example if the citizenship was 'Born abroad of American Parent(s)) however on second thoughts someone could have American parents who were born abroad. \n",
    "\n",
    "\n",
    "It may be better to impute the modal value for these cases of missing data as the amount of missing data is small (<3.5%). \n",
    "In reality missing data here might signify a different country of birth but we don't have enough information to make this leap.\n"
   ]
  },
  {
   "cell_type": "code",
   "execution_count": 17,
   "metadata": {},
   "outputs": [
    {
     "data": {
      "text/plain": [
       " United-States    0.887061\n",
       " Mexico           0.028904\n",
       " ?                0.017006\n",
       " Puerto-Rico      0.007017\n",
       " Germany          0.004265\n",
       "Name: country of birth self, dtype: float64"
      ]
     },
     "execution_count": 17,
     "metadata": {},
     "output_type": "execute_result"
    }
   ],
   "source": [
    "df['country of birth self'].value_counts(normalize=True).head()"
   ]
  },
  {
   "cell_type": "code",
   "execution_count": 18,
   "metadata": {},
   "outputs": [
    {
     "data": {
      "text/plain": [
       " Foreign born- Not a citizen of U S             1972\n",
       " Foreign born- U S citizen by naturalization    1046\n",
       " Native- Born abroad of American Parent(s)       375\n",
       "Name: citizenship, dtype: int64"
      ]
     },
     "execution_count": 18,
     "metadata": {},
     "output_type": "execute_result"
    }
   ],
   "source": [
    "df[df['country of birth self'] == ' ?'].citizenship.value_counts()"
   ]
  },
  {
   "attachments": {},
   "cell_type": "markdown",
   "metadata": {},
   "source": [
    "Likewise we have a small number of missing values in the 'country of birth self' column however looking at the citizenship feature for these records show that all were born abroad so we will impute a new value here 'Born abroad'"
   ]
  },
  {
   "cell_type": "code",
   "execution_count": 19,
   "metadata": {},
   "outputs": [
    {
     "data": {
      "text/html": [
       "<div>\n",
       "<style scoped>\n",
       "    .dataframe tbody tr th:only-of-type {\n",
       "        vertical-align: middle;\n",
       "    }\n",
       "\n",
       "    .dataframe tbody tr th {\n",
       "        vertical-align: top;\n",
       "    }\n",
       "\n",
       "    .dataframe thead th {\n",
       "        text-align: right;\n",
       "    }\n",
       "</style>\n",
       "<table border=\"1\" class=\"dataframe\">\n",
       "  <thead>\n",
       "    <tr style=\"text-align: right;\">\n",
       "      <th></th>\n",
       "      <th>age</th>\n",
       "      <th>industry code</th>\n",
       "      <th>occupation code</th>\n",
       "      <th>wage per hour</th>\n",
       "      <th>capital gains</th>\n",
       "      <th>capital losses</th>\n",
       "      <th>divdends from stocks</th>\n",
       "      <th>instance weight</th>\n",
       "      <th>num persons worked for employer</th>\n",
       "      <th>own business or self employed</th>\n",
       "      <th>veterans benefits</th>\n",
       "      <th>weeks worked in year</th>\n",
       "      <th>year</th>\n",
       "    </tr>\n",
       "  </thead>\n",
       "  <tbody>\n",
       "    <tr>\n",
       "      <th>count</th>\n",
       "      <td>199523.000000</td>\n",
       "      <td>199523.000000</td>\n",
       "      <td>199523.000000</td>\n",
       "      <td>199523.000000</td>\n",
       "      <td>199523.00000</td>\n",
       "      <td>199523.000000</td>\n",
       "      <td>199523.000000</td>\n",
       "      <td>199523.000000</td>\n",
       "      <td>199523.000000</td>\n",
       "      <td>199523.000000</td>\n",
       "      <td>199523.000000</td>\n",
       "      <td>199523.000000</td>\n",
       "      <td>199523.000000</td>\n",
       "    </tr>\n",
       "    <tr>\n",
       "      <th>mean</th>\n",
       "      <td>34.494199</td>\n",
       "      <td>15.352320</td>\n",
       "      <td>11.306556</td>\n",
       "      <td>55.426908</td>\n",
       "      <td>434.71899</td>\n",
       "      <td>37.313788</td>\n",
       "      <td>197.529533</td>\n",
       "      <td>1740.380269</td>\n",
       "      <td>1.956180</td>\n",
       "      <td>0.175438</td>\n",
       "      <td>1.514833</td>\n",
       "      <td>23.174897</td>\n",
       "      <td>94.499672</td>\n",
       "    </tr>\n",
       "    <tr>\n",
       "      <th>std</th>\n",
       "      <td>22.310895</td>\n",
       "      <td>18.067129</td>\n",
       "      <td>14.454204</td>\n",
       "      <td>274.896454</td>\n",
       "      <td>4697.53128</td>\n",
       "      <td>271.896428</td>\n",
       "      <td>1984.163658</td>\n",
       "      <td>993.768156</td>\n",
       "      <td>2.365126</td>\n",
       "      <td>0.553694</td>\n",
       "      <td>0.851473</td>\n",
       "      <td>24.411488</td>\n",
       "      <td>0.500001</td>\n",
       "    </tr>\n",
       "    <tr>\n",
       "      <th>min</th>\n",
       "      <td>0.000000</td>\n",
       "      <td>0.000000</td>\n",
       "      <td>0.000000</td>\n",
       "      <td>0.000000</td>\n",
       "      <td>0.00000</td>\n",
       "      <td>0.000000</td>\n",
       "      <td>0.000000</td>\n",
       "      <td>37.870000</td>\n",
       "      <td>0.000000</td>\n",
       "      <td>0.000000</td>\n",
       "      <td>0.000000</td>\n",
       "      <td>0.000000</td>\n",
       "      <td>94.000000</td>\n",
       "    </tr>\n",
       "    <tr>\n",
       "      <th>25%</th>\n",
       "      <td>15.000000</td>\n",
       "      <td>0.000000</td>\n",
       "      <td>0.000000</td>\n",
       "      <td>0.000000</td>\n",
       "      <td>0.00000</td>\n",
       "      <td>0.000000</td>\n",
       "      <td>0.000000</td>\n",
       "      <td>1061.615000</td>\n",
       "      <td>0.000000</td>\n",
       "      <td>0.000000</td>\n",
       "      <td>2.000000</td>\n",
       "      <td>0.000000</td>\n",
       "      <td>94.000000</td>\n",
       "    </tr>\n",
       "    <tr>\n",
       "      <th>50%</th>\n",
       "      <td>33.000000</td>\n",
       "      <td>0.000000</td>\n",
       "      <td>0.000000</td>\n",
       "      <td>0.000000</td>\n",
       "      <td>0.00000</td>\n",
       "      <td>0.000000</td>\n",
       "      <td>0.000000</td>\n",
       "      <td>1618.310000</td>\n",
       "      <td>1.000000</td>\n",
       "      <td>0.000000</td>\n",
       "      <td>2.000000</td>\n",
       "      <td>8.000000</td>\n",
       "      <td>94.000000</td>\n",
       "    </tr>\n",
       "    <tr>\n",
       "      <th>75%</th>\n",
       "      <td>50.000000</td>\n",
       "      <td>33.000000</td>\n",
       "      <td>26.000000</td>\n",
       "      <td>0.000000</td>\n",
       "      <td>0.00000</td>\n",
       "      <td>0.000000</td>\n",
       "      <td>0.000000</td>\n",
       "      <td>2188.610000</td>\n",
       "      <td>4.000000</td>\n",
       "      <td>0.000000</td>\n",
       "      <td>2.000000</td>\n",
       "      <td>52.000000</td>\n",
       "      <td>95.000000</td>\n",
       "    </tr>\n",
       "    <tr>\n",
       "      <th>max</th>\n",
       "      <td>90.000000</td>\n",
       "      <td>51.000000</td>\n",
       "      <td>46.000000</td>\n",
       "      <td>9999.000000</td>\n",
       "      <td>99999.00000</td>\n",
       "      <td>4608.000000</td>\n",
       "      <td>99999.000000</td>\n",
       "      <td>18656.300000</td>\n",
       "      <td>6.000000</td>\n",
       "      <td>2.000000</td>\n",
       "      <td>2.000000</td>\n",
       "      <td>52.000000</td>\n",
       "      <td>95.000000</td>\n",
       "    </tr>\n",
       "  </tbody>\n",
       "</table>\n",
       "</div>"
      ],
      "text/plain": [
       "                 age  industry code  occupation code  wage per hour  \\\n",
       "count  199523.000000  199523.000000    199523.000000  199523.000000   \n",
       "mean       34.494199      15.352320        11.306556      55.426908   \n",
       "std        22.310895      18.067129        14.454204     274.896454   \n",
       "min         0.000000       0.000000         0.000000       0.000000   \n",
       "25%        15.000000       0.000000         0.000000       0.000000   \n",
       "50%        33.000000       0.000000         0.000000       0.000000   \n",
       "75%        50.000000      33.000000        26.000000       0.000000   \n",
       "max        90.000000      51.000000        46.000000    9999.000000   \n",
       "\n",
       "       capital gains  capital losses  divdends from stocks  instance weight  \\\n",
       "count   199523.00000   199523.000000         199523.000000    199523.000000   \n",
       "mean       434.71899       37.313788            197.529533      1740.380269   \n",
       "std       4697.53128      271.896428           1984.163658       993.768156   \n",
       "min          0.00000        0.000000              0.000000        37.870000   \n",
       "25%          0.00000        0.000000              0.000000      1061.615000   \n",
       "50%          0.00000        0.000000              0.000000      1618.310000   \n",
       "75%          0.00000        0.000000              0.000000      2188.610000   \n",
       "max      99999.00000     4608.000000          99999.000000     18656.300000   \n",
       "\n",
       "       num persons worked for employer  own business or self employed  \\\n",
       "count                    199523.000000                  199523.000000   \n",
       "mean                          1.956180                       0.175438   \n",
       "std                           2.365126                       0.553694   \n",
       "min                           0.000000                       0.000000   \n",
       "25%                           0.000000                       0.000000   \n",
       "50%                           1.000000                       0.000000   \n",
       "75%                           4.000000                       0.000000   \n",
       "max                           6.000000                       2.000000   \n",
       "\n",
       "       veterans benefits  weeks worked in year           year  \n",
       "count      199523.000000         199523.000000  199523.000000  \n",
       "mean            1.514833             23.174897      94.499672  \n",
       "std             0.851473             24.411488       0.500001  \n",
       "min             0.000000              0.000000      94.000000  \n",
       "25%             2.000000              0.000000      94.000000  \n",
       "50%             2.000000              8.000000      94.000000  \n",
       "75%             2.000000             52.000000      95.000000  \n",
       "max             2.000000             52.000000      95.000000  "
      ]
     },
     "execution_count": 19,
     "metadata": {},
     "output_type": "execute_result"
    }
   ],
   "source": [
    "df.select_dtypes(exclude='object').describe()"
   ]
  },
  {
   "attachments": {},
   "cell_type": "markdown",
   "metadata": {},
   "source": [
    "The monetary features are heavily skewed - <25% of participants have any capital gains, losses or dividends. "
   ]
  },
  {
   "cell_type": "code",
   "execution_count": 20,
   "metadata": {},
   "outputs": [
    {
     "data": {
      "text/plain": [
       "99999    390\n",
       "27828     94\n",
       "25236     23\n",
       "25124     18\n",
       "34095     11\n",
       "41310      2\n",
       "Name: capital gains, dtype: int64"
      ]
     },
     "execution_count": 20,
     "metadata": {},
     "output_type": "execute_result"
    }
   ],
   "source": [
    "df[df['capital gains'] > 25000]['capital gains'].value_counts()"
   ]
  },
  {
   "cell_type": "code",
   "execution_count": 21,
   "metadata": {},
   "outputs": [
    {
     "data": {
      "text/html": [
       "<div>\n",
       "<style scoped>\n",
       "    .dataframe tbody tr th:only-of-type {\n",
       "        vertical-align: middle;\n",
       "    }\n",
       "\n",
       "    .dataframe tbody tr th {\n",
       "        vertical-align: top;\n",
       "    }\n",
       "\n",
       "    .dataframe thead th {\n",
       "        text-align: right;\n",
       "    }\n",
       "</style>\n",
       "<table border=\"1\" class=\"dataframe\">\n",
       "  <thead>\n",
       "    <tr style=\"text-align: right;\">\n",
       "      <th></th>\n",
       "      <th>age</th>\n",
       "      <th>class of worker</th>\n",
       "      <th>industry code</th>\n",
       "      <th>occupation code</th>\n",
       "      <th>education</th>\n",
       "      <th>wage per hour</th>\n",
       "      <th>enrolled in edu inst last wk</th>\n",
       "      <th>marital status</th>\n",
       "      <th>major industry code</th>\n",
       "      <th>major occupation code</th>\n",
       "      <th>...</th>\n",
       "      <th>country of birth father</th>\n",
       "      <th>country of birth mother</th>\n",
       "      <th>country of birth self</th>\n",
       "      <th>citizenship</th>\n",
       "      <th>own business or self employed</th>\n",
       "      <th>fill inc questionnaire for veterans admin</th>\n",
       "      <th>veterans benefits</th>\n",
       "      <th>weeks worked in year</th>\n",
       "      <th>year</th>\n",
       "      <th>income</th>\n",
       "    </tr>\n",
       "  </thead>\n",
       "  <tbody>\n",
       "    <tr>\n",
       "      <th>780</th>\n",
       "      <td>47</td>\n",
       "      <td>Private</td>\n",
       "      <td>29</td>\n",
       "      <td>2</td>\n",
       "      <td>Masters degree(MA MS MEng MEd MSW MBA)</td>\n",
       "      <td>0</td>\n",
       "      <td>Not in universe</td>\n",
       "      <td>Married-civilian spouse present</td>\n",
       "      <td>Transportation</td>\n",
       "      <td>Executive admin and managerial</td>\n",
       "      <td>...</td>\n",
       "      <td>United-States</td>\n",
       "      <td>United-States</td>\n",
       "      <td>United-States</td>\n",
       "      <td>Native- Born in the United States</td>\n",
       "      <td>0</td>\n",
       "      <td>Not in universe</td>\n",
       "      <td>2</td>\n",
       "      <td>52</td>\n",
       "      <td>94</td>\n",
       "      <td>50000+.</td>\n",
       "    </tr>\n",
       "    <tr>\n",
       "      <th>811</th>\n",
       "      <td>33</td>\n",
       "      <td>Private</td>\n",
       "      <td>9</td>\n",
       "      <td>36</td>\n",
       "      <td>High school graduate</td>\n",
       "      <td>0</td>\n",
       "      <td>Not in universe</td>\n",
       "      <td>Married-civilian spouse present</td>\n",
       "      <td>Manufacturing-durable goods</td>\n",
       "      <td>Machine operators assmblrs &amp; inspctrs</td>\n",
       "      <td>...</td>\n",
       "      <td>United-States</td>\n",
       "      <td>United-States</td>\n",
       "      <td>United-States</td>\n",
       "      <td>Native- Born in the United States</td>\n",
       "      <td>0</td>\n",
       "      <td>Not in universe</td>\n",
       "      <td>2</td>\n",
       "      <td>52</td>\n",
       "      <td>94</td>\n",
       "      <td>50000+.</td>\n",
       "    </tr>\n",
       "    <tr>\n",
       "      <th>833</th>\n",
       "      <td>34</td>\n",
       "      <td>Private</td>\n",
       "      <td>35</td>\n",
       "      <td>17</td>\n",
       "      <td>Bachelors degree(BA AB BS)</td>\n",
       "      <td>0</td>\n",
       "      <td>Not in universe</td>\n",
       "      <td>Never married</td>\n",
       "      <td>Finance insurance and real estate</td>\n",
       "      <td>Sales</td>\n",
       "      <td>...</td>\n",
       "      <td>United-States</td>\n",
       "      <td>United-States</td>\n",
       "      <td>United-States</td>\n",
       "      <td>Native- Born in the United States</td>\n",
       "      <td>0</td>\n",
       "      <td>Not in universe</td>\n",
       "      <td>2</td>\n",
       "      <td>39</td>\n",
       "      <td>94</td>\n",
       "      <td>50000+.</td>\n",
       "    </tr>\n",
       "    <tr>\n",
       "      <th>1043</th>\n",
       "      <td>41</td>\n",
       "      <td>Private</td>\n",
       "      <td>34</td>\n",
       "      <td>17</td>\n",
       "      <td>Masters degree(MA MS MEng MEd MSW MBA)</td>\n",
       "      <td>0</td>\n",
       "      <td>Not in universe</td>\n",
       "      <td>Married-civilian spouse present</td>\n",
       "      <td>Finance insurance and real estate</td>\n",
       "      <td>Sales</td>\n",
       "      <td>...</td>\n",
       "      <td>United-States</td>\n",
       "      <td>United-States</td>\n",
       "      <td>United-States</td>\n",
       "      <td>Native- Born in the United States</td>\n",
       "      <td>0</td>\n",
       "      <td>Not in universe</td>\n",
       "      <td>2</td>\n",
       "      <td>52</td>\n",
       "      <td>95</td>\n",
       "      <td>50000+.</td>\n",
       "    </tr>\n",
       "    <tr>\n",
       "      <th>1713</th>\n",
       "      <td>56</td>\n",
       "      <td>Self-employed-incorporated</td>\n",
       "      <td>42</td>\n",
       "      <td>7</td>\n",
       "      <td>Doctorate degree(PhD EdD)</td>\n",
       "      <td>0</td>\n",
       "      <td>Not in universe</td>\n",
       "      <td>Married-civilian spouse present</td>\n",
       "      <td>Medical except hospital</td>\n",
       "      <td>Professional specialty</td>\n",
       "      <td>...</td>\n",
       "      <td>United-States</td>\n",
       "      <td>United-States</td>\n",
       "      <td>United-States</td>\n",
       "      <td>Native- Born in the United States</td>\n",
       "      <td>0</td>\n",
       "      <td>Not in universe</td>\n",
       "      <td>2</td>\n",
       "      <td>52</td>\n",
       "      <td>95</td>\n",
       "      <td>50000+.</td>\n",
       "    </tr>\n",
       "    <tr>\n",
       "      <th>2581</th>\n",
       "      <td>39</td>\n",
       "      <td>Private</td>\n",
       "      <td>40</td>\n",
       "      <td>3</td>\n",
       "      <td>Masters degree(MA MS MEng MEd MSW MBA)</td>\n",
       "      <td>0</td>\n",
       "      <td>Not in universe</td>\n",
       "      <td>Married-civilian spouse present</td>\n",
       "      <td>Entertainment</td>\n",
       "      <td>Executive admin and managerial</td>\n",
       "      <td>...</td>\n",
       "      <td>United-States</td>\n",
       "      <td>United-States</td>\n",
       "      <td>United-States</td>\n",
       "      <td>Native- Born in the United States</td>\n",
       "      <td>2</td>\n",
       "      <td>Not in universe</td>\n",
       "      <td>2</td>\n",
       "      <td>52</td>\n",
       "      <td>95</td>\n",
       "      <td>50000+.</td>\n",
       "    </tr>\n",
       "    <tr>\n",
       "      <th>3248</th>\n",
       "      <td>47</td>\n",
       "      <td>Private</td>\n",
       "      <td>9</td>\n",
       "      <td>35</td>\n",
       "      <td>Associates degree-academic program</td>\n",
       "      <td>0</td>\n",
       "      <td>Not in universe</td>\n",
       "      <td>Married-civilian spouse present</td>\n",
       "      <td>Manufacturing-durable goods</td>\n",
       "      <td>Precision production craft &amp; repair</td>\n",
       "      <td>...</td>\n",
       "      <td>United-States</td>\n",
       "      <td>United-States</td>\n",
       "      <td>United-States</td>\n",
       "      <td>Native- Born in the United States</td>\n",
       "      <td>0</td>\n",
       "      <td>Not in universe</td>\n",
       "      <td>2</td>\n",
       "      <td>52</td>\n",
       "      <td>95</td>\n",
       "      <td>50000+.</td>\n",
       "    </tr>\n",
       "  </tbody>\n",
       "</table>\n",
       "<p>7 rows × 42 columns</p>\n",
       "</div>"
      ],
      "text/plain": [
       "      age              class of worker  industry code  occupation code  \\\n",
       "780    47                      Private             29                2   \n",
       "811    33                      Private              9               36   \n",
       "833    34                      Private             35               17   \n",
       "1043   41                      Private             34               17   \n",
       "1713   56   Self-employed-incorporated             42                7   \n",
       "2581   39                      Private             40                3   \n",
       "3248   47                      Private              9               35   \n",
       "\n",
       "                                    education  wage per hour  \\\n",
       "780    Masters degree(MA MS MEng MEd MSW MBA)              0   \n",
       "811                      High school graduate              0   \n",
       "833                Bachelors degree(BA AB BS)              0   \n",
       "1043   Masters degree(MA MS MEng MEd MSW MBA)              0   \n",
       "1713                Doctorate degree(PhD EdD)              0   \n",
       "2581   Masters degree(MA MS MEng MEd MSW MBA)              0   \n",
       "3248       Associates degree-academic program              0   \n",
       "\n",
       "     enrolled in edu inst last wk                    marital status  \\\n",
       "780               Not in universe   Married-civilian spouse present   \n",
       "811               Not in universe   Married-civilian spouse present   \n",
       "833               Not in universe                     Never married   \n",
       "1043              Not in universe   Married-civilian spouse present   \n",
       "1713              Not in universe   Married-civilian spouse present   \n",
       "2581              Not in universe   Married-civilian spouse present   \n",
       "3248              Not in universe   Married-civilian spouse present   \n",
       "\n",
       "                     major industry code  \\\n",
       "780                       Transportation   \n",
       "811          Manufacturing-durable goods   \n",
       "833    Finance insurance and real estate   \n",
       "1043   Finance insurance and real estate   \n",
       "1713             Medical except hospital   \n",
       "2581                       Entertainment   \n",
       "3248         Manufacturing-durable goods   \n",
       "\n",
       "                       major occupation code  ... country of birth father  \\\n",
       "780           Executive admin and managerial  ...           United-States   \n",
       "811    Machine operators assmblrs & inspctrs  ...           United-States   \n",
       "833                                    Sales  ...           United-States   \n",
       "1043                                   Sales  ...           United-States   \n",
       "1713                  Professional specialty  ...           United-States   \n",
       "2581          Executive admin and managerial  ...           United-States   \n",
       "3248     Precision production craft & repair  ...           United-States   \n",
       "\n",
       "     country of birth mother country of birth self  \\\n",
       "780            United-States         United-States   \n",
       "811            United-States         United-States   \n",
       "833            United-States         United-States   \n",
       "1043           United-States         United-States   \n",
       "1713           United-States         United-States   \n",
       "2581           United-States         United-States   \n",
       "3248           United-States         United-States   \n",
       "\n",
       "                             citizenship own business or self employed  \\\n",
       "780    Native- Born in the United States                             0   \n",
       "811    Native- Born in the United States                             0   \n",
       "833    Native- Born in the United States                             0   \n",
       "1043   Native- Born in the United States                             0   \n",
       "1713   Native- Born in the United States                             0   \n",
       "2581   Native- Born in the United States                             2   \n",
       "3248   Native- Born in the United States                             0   \n",
       "\n",
       "     fill inc questionnaire for veterans admin  veterans benefits  \\\n",
       "780                            Not in universe                  2   \n",
       "811                            Not in universe                  2   \n",
       "833                            Not in universe                  2   \n",
       "1043                           Not in universe                  2   \n",
       "1713                           Not in universe                  2   \n",
       "2581                           Not in universe                  2   \n",
       "3248                           Not in universe                  2   \n",
       "\n",
       "      weeks worked in year  year    income  \n",
       "780                     52    94   50000+.  \n",
       "811                     52    94   50000+.  \n",
       "833                     39    94   50000+.  \n",
       "1043                    52    95   50000+.  \n",
       "1713                    52    95   50000+.  \n",
       "2581                    52    95   50000+.  \n",
       "3248                    52    95   50000+.  \n",
       "\n",
       "[7 rows x 42 columns]"
      ]
     },
     "execution_count": 21,
     "metadata": {},
     "output_type": "execute_result"
    }
   ],
   "source": [
    "df[df['capital gains'] > 50000].head(7)"
   ]
  },
  {
   "attachments": {},
   "cell_type": "markdown",
   "metadata": {},
   "source": [
    "While it may have initially looked farfetched to have capital gains of 9999, from a brief look at those with this value we can see highly educated people working in a number of industries/occupations that could mean this is a reasonable value. \n",
    "\n",
    "There could be a number of reasons for a group of records with the same maximum - this could be the limit on the entry form, they could be limiting the amount of capital gains for tax efficiency... \n",
    "\n",
    "It is better to leave these values in for now as without further domain knowledge any assumptions made could be false. "
   ]
  },
  {
   "cell_type": "code",
   "execution_count": null,
   "metadata": {},
   "outputs": [],
   "source": []
  },
  {
   "cell_type": "code",
   "execution_count": 22,
   "metadata": {},
   "outputs": [
    {
     "data": {
      "text/plain": [
       "array([0, 1, 6, 4, 5, 3, 2])"
      ]
     },
     "execution_count": 22,
     "metadata": {},
     "output_type": "execute_result"
    }
   ],
   "source": [
    "df['num persons worked for employer'].unique()"
   ]
  },
  {
   "attachments": {},
   "cell_type": "markdown",
   "metadata": {},
   "source": [
    "Age I can continue to treat as numerical, along with wage, capital gains, losses, dividends, instance weight(*).\n",
    "\n",
    "The age feature and monetary features have  differing scales so I will carry out preprocessing on these. \n",
    "\n",
    "Weeks worked in year are numerical but really should be categorical as they are discrete. \n",
    "\n",
    "Having looked at the questionaire - the Num persons feature is a categorical binned feature so this should be encoded categorical.\n",
    "\n",
    "The other features listed as numerical are actually categorical features that I will look to transform to categorical. "
   ]
  },
  {
   "cell_type": "code",
   "execution_count": 23,
   "metadata": {},
   "outputs": [
    {
     "data": {
      "application/vnd.plotly.v1+json": {
       "config": {
        "plotlyServerURL": "https://plot.ly"
       },
       "data": [
        {
         "coloraxis": "coloraxis",
         "hovertemplate": "x: %{x}<br>y: %{y}<br>color: %{z}<extra></extra>",
         "name": "0",
         "type": "heatmap",
         "x": [
          "age",
          "industry code",
          "occupation code",
          "wage per hour",
          "capital gains",
          "capital losses",
          "divdends from stocks",
          "instance weight",
          "num persons worked for employer",
          "own business or self employed",
          "veterans benefits",
          "weeks worked in year",
          "year"
         ],
         "xaxis": "x",
         "y": [
          "age",
          "industry code",
          "occupation code",
          "wage per hour",
          "capital gains",
          "capital losses",
          "divdends from stocks",
          "instance weight",
          "num persons worked for employer",
          "own business or self employed",
          "veterans benefits",
          "weeks worked in year",
          "year"
         ],
         "yaxis": "y",
         "z": [
          [
           1,
           0.1578220159743526,
           0.11741434045022531,
           0.03693829026276777,
           0.053590311054668785,
           0.06335140476800784,
           0.10497614622720172,
           -0.0016105834697885003,
           0.1408868528989304,
           -0.0022654894865733145,
           0.6748442481782878,
           0.20618095015546914,
           0.0044134856393447395
          ],
          [
           0.1578220159743526,
           1,
           0.5634926619449041,
           0.16597982732564345,
           0.06601673393611508,
           0.0725862638735743,
           0.012773506839290827,
           0.029387774462719764,
           0.6420963641245405,
           0.25269416206918743,
           0.4764750637434381,
           0.7544724182232214,
           0.0034299159625904747
          ],
          [
           0.11741434045022531,
           0.5634926619449041,
           1,
           0.1944984047627528,
           0.002534096746495094,
           0.04368010611391099,
           -0.026726216395061068,
           0.02704711779304924,
           0.5155536157956527,
           0.2289519407589961,
           0.4386797895620204,
           0.6556127967386249,
           -0.003139748590036705
          ],
          [
           0.03693829026276777,
           0.16597982732564345,
           0.1944984047627528,
           1,
           -0.00108200051674988,
           0.010993099416242982,
           -0.00573098997577239,
           0.012353420803038473,
           0.19154259751774913,
           0.05405147176991573,
           0.11309390637439733,
           0.19568700204983958,
           0.0022828524042739578
          ],
          [
           0.053590311054668785,
           0.06601673393611508,
           0.002534096746495094,
           -0.00108200051674988,
           1,
           -0.012700094408490955,
           0.1314758051527368,
           0.0025486003234960215,
           0.05801500340231919,
           0.015048465272834918,
           0.0515300104772433,
           0.08354901256710567,
           0.005243383424060143
          ],
          [
           0.06335140476800784,
           0.0725862638735743,
           0.04368010611391099,
           0.010993099416242982,
           -0.012700094408490955,
           1,
           0.04242723402293108,
           0.008052386388751194,
           0.0842554414259943,
           0.024115525112019677,
           0.07539106985653689,
           0.10076168139920093,
           0.00009572644343313014
          ],
          [
           0.10497614622720172,
           0.012773506839290827,
           -0.026726216395061068,
           -0.00573098997577239,
           0.1314758051527368,
           0.04242723402293108,
           1,
           -0.000009150477179359252,
           0.0072063067215854025,
           -0.004884580492168288,
           0.054584542442211934,
           0.013823085819071842,
           0.001912669008921676
          ],
          [
           -0.0016105834697885003,
           0.029387774462719764,
           0.02704711779304924,
           0.012353420803038473,
           0.0025486003234960215,
           0.008052386388751194,
           -0.000009150477179359252,
           1,
           0.04277798001581202,
           0.012328353284615854,
           0.040506716555955086,
           0.02923973317163052,
           0.011764792090203402
          ],
          [
           0.1408868528989304,
           0.6420963641245405,
           0.5155536157956527,
           0.19154259751774913,
           0.05801500340231919,
           0.0842554414259943,
           0.0072063067215854025,
           0.04277798001581202,
           1,
           0.24055252479600633,
           0.46333385927136855,
           0.7473016166323121,
           0.018773768326802824
          ],
          [
           -0.0022654894865733145,
           0.25269416206918743,
           0.2289519407589961,
           0.05405147176991573,
           0.015048465272834918,
           0.024115525112019677,
           -0.004884580492168288,
           0.012328353284615854,
           0.24055252479600633,
           1,
           0.17744790810555094,
           0.26587187590739747,
           0.007377111249667764
          ],
          [
           0.6748442481782878,
           0.4764750637434381,
           0.4386797895620204,
           0.11309390637439733,
           0.0515300104772433,
           0.07539106985653689,
           0.054584542442211934,
           0.040506716555955086,
           0.46333385927136855,
           0.17744790810555094,
           1,
           0.5322792313546449,
           0.0031223092651059877
          ],
          [
           0.20618095015546914,
           0.7544724182232214,
           0.6556127967386249,
           0.19568700204983958,
           0.08354901256710567,
           0.10076168139920093,
           0.013823085819071842,
           0.02923973317163052,
           0.7473016166323121,
           0.26587187590739747,
           0.5322792313546449,
           1,
           0.005252063591001152
          ],
          [
           0.0044134856393447395,
           0.0034299159625904747,
           -0.003139748590036705,
           0.0022828524042739578,
           0.005243383424060143,
           0.00009572644343313014,
           0.001912669008921676,
           0.011764792090203402,
           0.018773768326802824,
           0.007377111249667764,
           0.0031223092651059877,
           0.005252063591001152,
           1
          ]
         ]
        }
       ],
       "layout": {
        "coloraxis": {
         "colorscale": [
          [
           0,
           "#0d0887"
          ],
          [
           0.1111111111111111,
           "#46039f"
          ],
          [
           0.2222222222222222,
           "#7201a8"
          ],
          [
           0.3333333333333333,
           "#9c179e"
          ],
          [
           0.4444444444444444,
           "#bd3786"
          ],
          [
           0.5555555555555556,
           "#d8576b"
          ],
          [
           0.6666666666666666,
           "#ed7953"
          ],
          [
           0.7777777777777778,
           "#fb9f3a"
          ],
          [
           0.8888888888888888,
           "#fdca26"
          ],
          [
           1,
           "#f0f921"
          ]
         ]
        },
        "margin": {
         "t": 60
        },
        "template": {
         "data": {
          "bar": [
           {
            "error_x": {
             "color": "#2a3f5f"
            },
            "error_y": {
             "color": "#2a3f5f"
            },
            "marker": {
             "line": {
              "color": "#E5ECF6",
              "width": 0.5
             },
             "pattern": {
              "fillmode": "overlay",
              "size": 10,
              "solidity": 0.2
             }
            },
            "type": "bar"
           }
          ],
          "barpolar": [
           {
            "marker": {
             "line": {
              "color": "#E5ECF6",
              "width": 0.5
             },
             "pattern": {
              "fillmode": "overlay",
              "size": 10,
              "solidity": 0.2
             }
            },
            "type": "barpolar"
           }
          ],
          "carpet": [
           {
            "aaxis": {
             "endlinecolor": "#2a3f5f",
             "gridcolor": "white",
             "linecolor": "white",
             "minorgridcolor": "white",
             "startlinecolor": "#2a3f5f"
            },
            "baxis": {
             "endlinecolor": "#2a3f5f",
             "gridcolor": "white",
             "linecolor": "white",
             "minorgridcolor": "white",
             "startlinecolor": "#2a3f5f"
            },
            "type": "carpet"
           }
          ],
          "choropleth": [
           {
            "colorbar": {
             "outlinewidth": 0,
             "ticks": ""
            },
            "type": "choropleth"
           }
          ],
          "contour": [
           {
            "colorbar": {
             "outlinewidth": 0,
             "ticks": ""
            },
            "colorscale": [
             [
              0,
              "#0d0887"
             ],
             [
              0.1111111111111111,
              "#46039f"
             ],
             [
              0.2222222222222222,
              "#7201a8"
             ],
             [
              0.3333333333333333,
              "#9c179e"
             ],
             [
              0.4444444444444444,
              "#bd3786"
             ],
             [
              0.5555555555555556,
              "#d8576b"
             ],
             [
              0.6666666666666666,
              "#ed7953"
             ],
             [
              0.7777777777777778,
              "#fb9f3a"
             ],
             [
              0.8888888888888888,
              "#fdca26"
             ],
             [
              1,
              "#f0f921"
             ]
            ],
            "type": "contour"
           }
          ],
          "contourcarpet": [
           {
            "colorbar": {
             "outlinewidth": 0,
             "ticks": ""
            },
            "type": "contourcarpet"
           }
          ],
          "heatmap": [
           {
            "colorbar": {
             "outlinewidth": 0,
             "ticks": ""
            },
            "colorscale": [
             [
              0,
              "#0d0887"
             ],
             [
              0.1111111111111111,
              "#46039f"
             ],
             [
              0.2222222222222222,
              "#7201a8"
             ],
             [
              0.3333333333333333,
              "#9c179e"
             ],
             [
              0.4444444444444444,
              "#bd3786"
             ],
             [
              0.5555555555555556,
              "#d8576b"
             ],
             [
              0.6666666666666666,
              "#ed7953"
             ],
             [
              0.7777777777777778,
              "#fb9f3a"
             ],
             [
              0.8888888888888888,
              "#fdca26"
             ],
             [
              1,
              "#f0f921"
             ]
            ],
            "type": "heatmap"
           }
          ],
          "heatmapgl": [
           {
            "colorbar": {
             "outlinewidth": 0,
             "ticks": ""
            },
            "colorscale": [
             [
              0,
              "#0d0887"
             ],
             [
              0.1111111111111111,
              "#46039f"
             ],
             [
              0.2222222222222222,
              "#7201a8"
             ],
             [
              0.3333333333333333,
              "#9c179e"
             ],
             [
              0.4444444444444444,
              "#bd3786"
             ],
             [
              0.5555555555555556,
              "#d8576b"
             ],
             [
              0.6666666666666666,
              "#ed7953"
             ],
             [
              0.7777777777777778,
              "#fb9f3a"
             ],
             [
              0.8888888888888888,
              "#fdca26"
             ],
             [
              1,
              "#f0f921"
             ]
            ],
            "type": "heatmapgl"
           }
          ],
          "histogram": [
           {
            "marker": {
             "pattern": {
              "fillmode": "overlay",
              "size": 10,
              "solidity": 0.2
             }
            },
            "type": "histogram"
           }
          ],
          "histogram2d": [
           {
            "colorbar": {
             "outlinewidth": 0,
             "ticks": ""
            },
            "colorscale": [
             [
              0,
              "#0d0887"
             ],
             [
              0.1111111111111111,
              "#46039f"
             ],
             [
              0.2222222222222222,
              "#7201a8"
             ],
             [
              0.3333333333333333,
              "#9c179e"
             ],
             [
              0.4444444444444444,
              "#bd3786"
             ],
             [
              0.5555555555555556,
              "#d8576b"
             ],
             [
              0.6666666666666666,
              "#ed7953"
             ],
             [
              0.7777777777777778,
              "#fb9f3a"
             ],
             [
              0.8888888888888888,
              "#fdca26"
             ],
             [
              1,
              "#f0f921"
             ]
            ],
            "type": "histogram2d"
           }
          ],
          "histogram2dcontour": [
           {
            "colorbar": {
             "outlinewidth": 0,
             "ticks": ""
            },
            "colorscale": [
             [
              0,
              "#0d0887"
             ],
             [
              0.1111111111111111,
              "#46039f"
             ],
             [
              0.2222222222222222,
              "#7201a8"
             ],
             [
              0.3333333333333333,
              "#9c179e"
             ],
             [
              0.4444444444444444,
              "#bd3786"
             ],
             [
              0.5555555555555556,
              "#d8576b"
             ],
             [
              0.6666666666666666,
              "#ed7953"
             ],
             [
              0.7777777777777778,
              "#fb9f3a"
             ],
             [
              0.8888888888888888,
              "#fdca26"
             ],
             [
              1,
              "#f0f921"
             ]
            ],
            "type": "histogram2dcontour"
           }
          ],
          "mesh3d": [
           {
            "colorbar": {
             "outlinewidth": 0,
             "ticks": ""
            },
            "type": "mesh3d"
           }
          ],
          "parcoords": [
           {
            "line": {
             "colorbar": {
              "outlinewidth": 0,
              "ticks": ""
             }
            },
            "type": "parcoords"
           }
          ],
          "pie": [
           {
            "automargin": true,
            "type": "pie"
           }
          ],
          "scatter": [
           {
            "fillpattern": {
             "fillmode": "overlay",
             "size": 10,
             "solidity": 0.2
            },
            "type": "scatter"
           }
          ],
          "scatter3d": [
           {
            "line": {
             "colorbar": {
              "outlinewidth": 0,
              "ticks": ""
             }
            },
            "marker": {
             "colorbar": {
              "outlinewidth": 0,
              "ticks": ""
             }
            },
            "type": "scatter3d"
           }
          ],
          "scattercarpet": [
           {
            "marker": {
             "colorbar": {
              "outlinewidth": 0,
              "ticks": ""
             }
            },
            "type": "scattercarpet"
           }
          ],
          "scattergeo": [
           {
            "marker": {
             "colorbar": {
              "outlinewidth": 0,
              "ticks": ""
             }
            },
            "type": "scattergeo"
           }
          ],
          "scattergl": [
           {
            "marker": {
             "colorbar": {
              "outlinewidth": 0,
              "ticks": ""
             }
            },
            "type": "scattergl"
           }
          ],
          "scattermapbox": [
           {
            "marker": {
             "colorbar": {
              "outlinewidth": 0,
              "ticks": ""
             }
            },
            "type": "scattermapbox"
           }
          ],
          "scatterpolar": [
           {
            "marker": {
             "colorbar": {
              "outlinewidth": 0,
              "ticks": ""
             }
            },
            "type": "scatterpolar"
           }
          ],
          "scatterpolargl": [
           {
            "marker": {
             "colorbar": {
              "outlinewidth": 0,
              "ticks": ""
             }
            },
            "type": "scatterpolargl"
           }
          ],
          "scatterternary": [
           {
            "marker": {
             "colorbar": {
              "outlinewidth": 0,
              "ticks": ""
             }
            },
            "type": "scatterternary"
           }
          ],
          "surface": [
           {
            "colorbar": {
             "outlinewidth": 0,
             "ticks": ""
            },
            "colorscale": [
             [
              0,
              "#0d0887"
             ],
             [
              0.1111111111111111,
              "#46039f"
             ],
             [
              0.2222222222222222,
              "#7201a8"
             ],
             [
              0.3333333333333333,
              "#9c179e"
             ],
             [
              0.4444444444444444,
              "#bd3786"
             ],
             [
              0.5555555555555556,
              "#d8576b"
             ],
             [
              0.6666666666666666,
              "#ed7953"
             ],
             [
              0.7777777777777778,
              "#fb9f3a"
             ],
             [
              0.8888888888888888,
              "#fdca26"
             ],
             [
              1,
              "#f0f921"
             ]
            ],
            "type": "surface"
           }
          ],
          "table": [
           {
            "cells": {
             "fill": {
              "color": "#EBF0F8"
             },
             "line": {
              "color": "white"
             }
            },
            "header": {
             "fill": {
              "color": "#C8D4E3"
             },
             "line": {
              "color": "white"
             }
            },
            "type": "table"
           }
          ]
         },
         "layout": {
          "annotationdefaults": {
           "arrowcolor": "#2a3f5f",
           "arrowhead": 0,
           "arrowwidth": 1
          },
          "autotypenumbers": "strict",
          "coloraxis": {
           "colorbar": {
            "outlinewidth": 0,
            "ticks": ""
           }
          },
          "colorscale": {
           "diverging": [
            [
             0,
             "#8e0152"
            ],
            [
             0.1,
             "#c51b7d"
            ],
            [
             0.2,
             "#de77ae"
            ],
            [
             0.3,
             "#f1b6da"
            ],
            [
             0.4,
             "#fde0ef"
            ],
            [
             0.5,
             "#f7f7f7"
            ],
            [
             0.6,
             "#e6f5d0"
            ],
            [
             0.7,
             "#b8e186"
            ],
            [
             0.8,
             "#7fbc41"
            ],
            [
             0.9,
             "#4d9221"
            ],
            [
             1,
             "#276419"
            ]
           ],
           "sequential": [
            [
             0,
             "#0d0887"
            ],
            [
             0.1111111111111111,
             "#46039f"
            ],
            [
             0.2222222222222222,
             "#7201a8"
            ],
            [
             0.3333333333333333,
             "#9c179e"
            ],
            [
             0.4444444444444444,
             "#bd3786"
            ],
            [
             0.5555555555555556,
             "#d8576b"
            ],
            [
             0.6666666666666666,
             "#ed7953"
            ],
            [
             0.7777777777777778,
             "#fb9f3a"
            ],
            [
             0.8888888888888888,
             "#fdca26"
            ],
            [
             1,
             "#f0f921"
            ]
           ],
           "sequentialminus": [
            [
             0,
             "#0d0887"
            ],
            [
             0.1111111111111111,
             "#46039f"
            ],
            [
             0.2222222222222222,
             "#7201a8"
            ],
            [
             0.3333333333333333,
             "#9c179e"
            ],
            [
             0.4444444444444444,
             "#bd3786"
            ],
            [
             0.5555555555555556,
             "#d8576b"
            ],
            [
             0.6666666666666666,
             "#ed7953"
            ],
            [
             0.7777777777777778,
             "#fb9f3a"
            ],
            [
             0.8888888888888888,
             "#fdca26"
            ],
            [
             1,
             "#f0f921"
            ]
           ]
          },
          "colorway": [
           "#636efa",
           "#EF553B",
           "#00cc96",
           "#ab63fa",
           "#FFA15A",
           "#19d3f3",
           "#FF6692",
           "#B6E880",
           "#FF97FF",
           "#FECB52"
          ],
          "font": {
           "color": "#2a3f5f"
          },
          "geo": {
           "bgcolor": "white",
           "lakecolor": "white",
           "landcolor": "#E5ECF6",
           "showlakes": true,
           "showland": true,
           "subunitcolor": "white"
          },
          "hoverlabel": {
           "align": "left"
          },
          "hovermode": "closest",
          "mapbox": {
           "style": "light"
          },
          "paper_bgcolor": "white",
          "plot_bgcolor": "#E5ECF6",
          "polar": {
           "angularaxis": {
            "gridcolor": "white",
            "linecolor": "white",
            "ticks": ""
           },
           "bgcolor": "#E5ECF6",
           "radialaxis": {
            "gridcolor": "white",
            "linecolor": "white",
            "ticks": ""
           }
          },
          "scene": {
           "xaxis": {
            "backgroundcolor": "#E5ECF6",
            "gridcolor": "white",
            "gridwidth": 2,
            "linecolor": "white",
            "showbackground": true,
            "ticks": "",
            "zerolinecolor": "white"
           },
           "yaxis": {
            "backgroundcolor": "#E5ECF6",
            "gridcolor": "white",
            "gridwidth": 2,
            "linecolor": "white",
            "showbackground": true,
            "ticks": "",
            "zerolinecolor": "white"
           },
           "zaxis": {
            "backgroundcolor": "#E5ECF6",
            "gridcolor": "white",
            "gridwidth": 2,
            "linecolor": "white",
            "showbackground": true,
            "ticks": "",
            "zerolinecolor": "white"
           }
          },
          "shapedefaults": {
           "line": {
            "color": "#2a3f5f"
           }
          },
          "ternary": {
           "aaxis": {
            "gridcolor": "white",
            "linecolor": "white",
            "ticks": ""
           },
           "baxis": {
            "gridcolor": "white",
            "linecolor": "white",
            "ticks": ""
           },
           "bgcolor": "#E5ECF6",
           "caxis": {
            "gridcolor": "white",
            "linecolor": "white",
            "ticks": ""
           }
          },
          "title": {
           "x": 0.05
          },
          "xaxis": {
           "automargin": true,
           "gridcolor": "white",
           "linecolor": "white",
           "ticks": "",
           "title": {
            "standoff": 15
           },
           "zerolinecolor": "white",
           "zerolinewidth": 2
          },
          "yaxis": {
           "automargin": true,
           "gridcolor": "white",
           "linecolor": "white",
           "ticks": "",
           "title": {
            "standoff": 15
           },
           "zerolinecolor": "white",
           "zerolinewidth": 2
          }
         }
        },
        "xaxis": {
         "anchor": "y",
         "constrain": "domain",
         "domain": [
          0,
          1
         ],
         "scaleanchor": "y"
        },
        "yaxis": {
         "anchor": "x",
         "autorange": "reversed",
         "constrain": "domain",
         "domain": [
          0,
          1
         ]
        }
       }
      }
     },
     "metadata": {},
     "output_type": "display_data"
    }
   ],
   "source": [
    "fig = px.imshow(df.corr())\n",
    "fig.show();"
   ]
  },
  {
   "attachments": {},
   "cell_type": "markdown",
   "metadata": {},
   "source": [
    "Of the actual numerical features, I was expecting to see some correlation between the monetary features however there is almost no correlation between these features. \n",
    "\n",
    "There are some interesting correlations between the categorical features here - notable interactions are veterans benefits and age, industry & occupation with weeks worked in a year and the number of employer workers and weeks worked in a year. "
   ]
  },
  {
   "cell_type": "code",
   "execution_count": 24,
   "metadata": {},
   "outputs": [
    {
     "data": {
      "image/png": "[encoded data removed]",
      "text/plain": [
       "<Figure size 2000x500 with 1 Axes>"
      ]
     },
     "metadata": {},
     "output_type": "display_data"
    }
   ],
   "source": [
    "df['wage per hour'].hist(bins = 50, figsize = (20,5))\n",
    "plt.show()"
   ]
  },
  {
   "attachments": {},
   "cell_type": "markdown",
   "metadata": {},
   "source": [
    "The wage per hour feature is tail heavy so I may look to transform this to normalise the distribution. It may also cause data leakage as the wage per hour and working weeks could be strong predictors of income and may not be features available at the point of prediction/in production."
   ]
  },
  {
   "cell_type": "code",
   "execution_count": 25,
   "metadata": {},
   "outputs": [
    {
     "data": {
      "text/plain": [
       "2    150130\n",
       "0     47409\n",
       "1      1984\n",
       "Name: veterans benefits, dtype: int64"
      ]
     },
     "execution_count": 25,
     "metadata": {},
     "output_type": "execute_result"
    }
   ],
   "source": [
    "df['veterans benefits'].value_counts()"
   ]
  },
  {
   "cell_type": "code",
   "execution_count": 26,
   "metadata": {},
   "outputs": [
    {
     "data": {
      "text/plain": [
       "0    180672\n",
       "2     16153\n",
       "1      2698\n",
       "Name: own business or self employed, dtype: int64"
      ]
     },
     "execution_count": 26,
     "metadata": {},
     "output_type": "execute_result"
    }
   ],
   "source": [
    "df['own business or self employed'].value_counts()"
   ]
  },
  {
   "cell_type": "code",
   "execution_count": 27,
   "metadata": {},
   "outputs": [
    {
     "data": {
      "text/plain": [
       "Index(['class of worker', 'education', 'enrolled in edu inst last wk',\n",
       "       'marital status', 'major industry code', 'major occupation code',\n",
       "       'race', 'hispanic Origin', 'sex', 'member of a labor union',\n",
       "       'reason for unemployment', 'full or part time employment stat',\n",
       "       'tax filer status', 'region of previous residence',\n",
       "       'state of previous residence', 'detailed household and family stat',\n",
       "       'detailed household summary in household',\n",
       "       'migration code-change in msa', 'migration code-change in reg',\n",
       "       'migration code-move within reg', 'live in this house 1 year ago',\n",
       "       'migration prev res in sunbelt', 'family members under 18',\n",
       "       'country of birth father', 'country of birth mother',\n",
       "       'country of birth self', 'citizenship',\n",
       "       'fill inc questionnaire for veterans admin', 'income'],\n",
       "      dtype='object')"
      ]
     },
     "execution_count": 27,
     "metadata": {},
     "output_type": "execute_result"
    }
   ],
   "source": [
    "df.select_dtypes(include='object').columns"
   ]
  },
  {
   "cell_type": "code",
   "execution_count": 28,
   "metadata": {},
   "outputs": [
    {
     "data": {
      "text/plain": [
       " Not in universe                   100245\n",
       " Private                            72028\n",
       " Self-employed-not incorporated      8445\n",
       " Local government                    7784\n",
       " State government                    4227\n",
       " Self-employed-incorporated          3265\n",
       " Federal government                  2925\n",
       " Never worked                         439\n",
       " Without pay                          165\n",
       "Name: class of worker, dtype: int64"
      ]
     },
     "execution_count": 28,
     "metadata": {},
     "output_type": "execute_result"
    }
   ],
   "source": [
    "df['class of worker'].value_counts()"
   ]
  },
  {
   "cell_type": "code",
   "execution_count": 29,
   "metadata": {},
   "outputs": [
    {
     "data": {
      "application/vnd.plotly.v1+json": {
       "config": {
        "plotlyServerURL": "https://plot.ly"
       },
       "data": [
        {
         "alignmentgroup": "True",
         "hovertemplate": "income= - 50000.<br>class of worker=%{x}<br>counts=%{y}<extra></extra>",
         "legendgroup": " - 50000.",
         "marker": {
          "color": "#636efa",
          "pattern": {
           "shape": ""
          }
         },
         "name": " - 50000.",
         "offsetgroup": " - 50000.",
         "orientation": "v",
         "showlegend": true,
         "textposition": "auto",
         "type": "bar",
         "x": [
          " Federal government",
          " Local government",
          " Never worked",
          " Not in universe",
          " Private",
          " Self-employed-incorporated",
          " Self-employed-not incorporated",
          " State government",
          " Without pay"
         ],
         "xaxis": "x",
         "y": [
          2328,
          6937,
          437,
          99341,
          64706,
          2131,
          7355,
          3742,
          164
         ],
         "yaxis": "y"
        },
        {
         "alignmentgroup": "True",
         "hovertemplate": "income= 50000+.<br>class of worker=%{x}<br>counts=%{y}<extra></extra>",
         "legendgroup": " 50000+.",
         "marker": {
          "color": "#EF553B",
          "pattern": {
           "shape": ""
          }
         },
         "name": " 50000+.",
         "offsetgroup": " 50000+.",
         "orientation": "v",
         "showlegend": true,
         "textposition": "auto",
         "type": "bar",
         "x": [
          " Federal government",
          " Local government",
          " Never worked",
          " Not in universe",
          " Private",
          " Self-employed-incorporated",
          " Self-employed-not incorporated",
          " State government",
          " Without pay"
         ],
         "xaxis": "x",
         "y": [
          597,
          847,
          2,
          904,
          7322,
          1134,
          1090,
          485,
          1
         ],
         "yaxis": "y"
        }
       ],
       "layout": {
        "barmode": "relative",
        "legend": {
         "title": {
          "text": "income"
         },
         "tracegroupgap": 0
        },
        "margin": {
         "t": 60
        },
        "template": {
         "data": {
          "bar": [
           {
            "error_x": {
             "color": "#2a3f5f"
            },
            "error_y": {
             "color": "#2a3f5f"
            },
            "marker": {
             "line": {
              "color": "#E5ECF6",
              "width": 0.5
             },
             "pattern": {
              "fillmode": "overlay",
              "size": 10,
              "solidity": 0.2
             }
            },
            "type": "bar"
           }
          ],
          "barpolar": [
           {
            "marker": {
             "line": {
              "color": "#E5ECF6",
              "width": 0.5
             },
             "pattern": {
              "fillmode": "overlay",
              "size": 10,
              "solidity": 0.2
             }
            },
            "type": "barpolar"
           }
          ],
          "carpet": [
           {
            "aaxis": {
             "endlinecolor": "#2a3f5f",
             "gridcolor": "white",
             "linecolor": "white",
             "minorgridcolor": "white",
             "startlinecolor": "#2a3f5f"
            },
            "baxis": {
             "endlinecolor": "#2a3f5f",
             "gridcolor": "white",
             "linecolor": "white",
             "minorgridcolor": "white",
             "startlinecolor": "#2a3f5f"
            },
            "type": "carpet"
           }
          ],
          "choropleth": [
           {
            "colorbar": {
             "outlinewidth": 0,
             "ticks": ""
            },
            "type": "choropleth"
           }
          ],
          "contour": [
           {
            "colorbar": {
             "outlinewidth": 0,
             "ticks": ""
            },
            "colorscale": [
             [
              0,
              "#0d0887"
             ],
             [
              0.1111111111111111,
              "#46039f"
             ],
             [
              0.2222222222222222,
              "#7201a8"
             ],
             [
              0.3333333333333333,
              "#9c179e"
             ],
             [
              0.4444444444444444,
              "#bd3786"
             ],
             [
              0.5555555555555556,
              "#d8576b"
             ],
             [
              0.6666666666666666,
              "#ed7953"
             ],
             [
              0.7777777777777778,
              "#fb9f3a"
             ],
             [
              0.8888888888888888,
              "#fdca26"
             ],
             [
              1,
              "#f0f921"
             ]
            ],
            "type": "contour"
           }
          ],
          "contourcarpet": [
           {
            "colorbar": {
             "outlinewidth": 0,
             "ticks": ""
            },
            "type": "contourcarpet"
           }
          ],
          "heatmap": [
           {
            "colorbar": {
             "outlinewidth": 0,
             "ticks": ""
            },
            "colorscale": [
             [
              0,
              "#0d0887"
             ],
             [
              0.1111111111111111,
              "#46039f"
             ],
             [
              0.2222222222222222,
              "#7201a8"
             ],
             [
              0.3333333333333333,
              "#9c179e"
             ],
             [
              0.4444444444444444,
              "#bd3786"
             ],
             [
              0.5555555555555556,
              "#d8576b"
             ],
             [
              0.6666666666666666,
              "#ed7953"
             ],
             [
              0.7777777777777778,
              "#fb9f3a"
             ],
             [
              0.8888888888888888,
              "#fdca26"
             ],
             [
              1,
              "#f0f921"
             ]
            ],
            "type": "heatmap"
           }
          ],
          "heatmapgl": [
           {
            "colorbar": {
             "outlinewidth": 0,
             "ticks": ""
            },
            "colorscale": [
             [
              0,
              "#0d0887"
             ],
             [
              0.1111111111111111,
              "#46039f"
             ],
             [
              0.2222222222222222,
              "#7201a8"
             ],
             [
              0.3333333333333333,
              "#9c179e"
             ],
             [
              0.4444444444444444,
              "#bd3786"
             ],
             [
              0.5555555555555556,
              "#d8576b"
             ],
             [
              0.6666666666666666,
              "#ed7953"
             ],
             [
              0.7777777777777778,
              "#fb9f3a"
             ],
             [
              0.8888888888888888,
              "#fdca26"
             ],
             [
              1,
              "#f0f921"
             ]
            ],
            "type": "heatmapgl"
           }
          ],
          "histogram": [
           {
            "marker": {
             "pattern": {
              "fillmode": "overlay",
              "size": 10,
              "solidity": 0.2
             }
            },
            "type": "histogram"
           }
          ],
          "histogram2d": [
           {
            "colorbar": {
             "outlinewidth": 0,
             "ticks": ""
            },
            "colorscale": [
             [
              0,
              "#0d0887"
             ],
             [
              0.1111111111111111,
              "#46039f"
             ],
             [
              0.2222222222222222,
              "#7201a8"
             ],
             [
              0.3333333333333333,
              "#9c179e"
             ],
             [
              0.4444444444444444,
              "#bd3786"
             ],
             [
              0.5555555555555556,
              "#d8576b"
             ],
             [
              0.6666666666666666,
              "#ed7953"
             ],
             [
              0.7777777777777778,
              "#fb9f3a"
             ],
             [
              0.8888888888888888,
              "#fdca26"
             ],
             [
              1,
              "#f0f921"
             ]
            ],
            "type": "histogram2d"
           }
          ],
          "histogram2dcontour": [
           {
            "colorbar": {
             "outlinewidth": 0,
             "ticks": ""
            },
            "colorscale": [
             [
              0,
              "#0d0887"
             ],
             [
              0.1111111111111111,
              "#46039f"
             ],
             [
              0.2222222222222222,
              "#7201a8"
             ],
             [
              0.3333333333333333,
              "#9c179e"
             ],
             [
              0.4444444444444444,
              "#bd3786"
             ],
             [
              0.5555555555555556,
              "#d8576b"
             ],
             [
              0.6666666666666666,
              "#ed7953"
             ],
             [
              0.7777777777777778,
              "#fb9f3a"
             ],
             [
              0.8888888888888888,
              "#fdca26"
             ],
             [
              1,
              "#f0f921"
             ]
            ],
            "type": "histogram2dcontour"
           }
          ],
          "mesh3d": [
           {
            "colorbar": {
             "outlinewidth": 0,
             "ticks": ""
            },
            "type": "mesh3d"
           }
          ],
          "parcoords": [
           {
            "line": {
             "colorbar": {
              "outlinewidth": 0,
              "ticks": ""
             }
            },
            "type": "parcoords"
           }
          ],
          "pie": [
           {
            "automargin": true,
            "type": "pie"
           }
          ],
          "scatter": [
           {
            "fillpattern": {
             "fillmode": "overlay",
             "size": 10,
             "solidity": 0.2
            },
            "type": "scatter"
           }
          ],
          "scatter3d": [
           {
            "line": {
             "colorbar": {
              "outlinewidth": 0,
              "ticks": ""
             }
            },
            "marker": {
             "colorbar": {
              "outlinewidth": 0,
              "ticks": ""
             }
            },
            "type": "scatter3d"
           }
          ],
          "scattercarpet": [
           {
            "marker": {
             "colorbar": {
              "outlinewidth": 0,
              "ticks": ""
             }
            },
            "type": "scattercarpet"
           }
          ],
          "scattergeo": [
           {
            "marker": {
             "colorbar": {
              "outlinewidth": 0,
              "ticks": ""
             }
            },
            "type": "scattergeo"
           }
          ],
          "scattergl": [
           {
            "marker": {
             "colorbar": {
              "outlinewidth": 0,
              "ticks": ""
             }
            },
            "type": "scattergl"
           }
          ],
          "scattermapbox": [
           {
            "marker": {
             "colorbar": {
              "outlinewidth": 0,
              "ticks": ""
             }
            },
            "type": "scattermapbox"
           }
          ],
          "scatterpolar": [
           {
            "marker": {
             "colorbar": {
              "outlinewidth": 0,
              "ticks": ""
             }
            },
            "type": "scatterpolar"
           }
          ],
          "scatterpolargl": [
           {
            "marker": {
             "colorbar": {
              "outlinewidth": 0,
              "ticks": ""
             }
            },
            "type": "scatterpolargl"
           }
          ],
          "scatterternary": [
           {
            "marker": {
             "colorbar": {
              "outlinewidth": 0,
              "ticks": ""
             }
            },
            "type": "scatterternary"
           }
          ],
          "surface": [
           {
            "colorbar": {
             "outlinewidth": 0,
             "ticks": ""
            },
            "colorscale": [
             [
              0,
              "#0d0887"
             ],
             [
              0.1111111111111111,
              "#46039f"
             ],
             [
              0.2222222222222222,
              "#7201a8"
             ],
             [
              0.3333333333333333,
              "#9c179e"
             ],
             [
              0.4444444444444444,
              "#bd3786"
             ],
             [
              0.5555555555555556,
              "#d8576b"
             ],
             [
              0.6666666666666666,
              "#ed7953"
             ],
             [
              0.7777777777777778,
              "#fb9f3a"
             ],
             [
              0.8888888888888888,
              "#fdca26"
             ],
             [
              1,
              "#f0f921"
             ]
            ],
            "type": "surface"
           }
          ],
          "table": [
           {
            "cells": {
             "fill": {
              "color": "#EBF0F8"
             },
             "line": {
              "color": "white"
             }
            },
            "header": {
             "fill": {
              "color": "#C8D4E3"
             },
             "line": {
              "color": "white"
             }
            },
            "type": "table"
           }
          ]
         },
         "layout": {
          "annotationdefaults": {
           "arrowcolor": "#2a3f5f",
           "arrowhead": 0,
           "arrowwidth": 1
          },
          "autotypenumbers": "strict",
          "coloraxis": {
           "colorbar": {
            "outlinewidth": 0,
            "ticks": ""
           }
          },
          "colorscale": {
           "diverging": [
            [
             0,
             "#8e0152"
            ],
            [
             0.1,
             "#c51b7d"
            ],
            [
             0.2,
             "#de77ae"
            ],
            [
             0.3,
             "#f1b6da"
            ],
            [
             0.4,
             "#fde0ef"
            ],
            [
             0.5,
             "#f7f7f7"
            ],
            [
             0.6,
             "#e6f5d0"
            ],
            [
             0.7,
             "#b8e186"
            ],
            [
             0.8,
             "#7fbc41"
            ],
            [
             0.9,
             "#4d9221"
            ],
            [
             1,
             "#276419"
            ]
           ],
           "sequential": [
            [
             0,
             "#0d0887"
            ],
            [
             0.1111111111111111,
             "#46039f"
            ],
            [
             0.2222222222222222,
             "#7201a8"
            ],
            [
             0.3333333333333333,
             "#9c179e"
            ],
            [
             0.4444444444444444,
             "#bd3786"
            ],
            [
             0.5555555555555556,
             "#d8576b"
            ],
            [
             0.6666666666666666,
             "#ed7953"
            ],
            [
             0.7777777777777778,
             "#fb9f3a"
            ],
            [
             0.8888888888888888,
             "#fdca26"
            ],
            [
             1,
             "#f0f921"
            ]
           ],
           "sequentialminus": [
            [
             0,
             "#0d0887"
            ],
            [
             0.1111111111111111,
             "#46039f"
            ],
            [
             0.2222222222222222,
             "#7201a8"
            ],
            [
             0.3333333333333333,
             "#9c179e"
            ],
            [
             0.4444444444444444,
             "#bd3786"
            ],
            [
             0.5555555555555556,
             "#d8576b"
            ],
            [
             0.6666666666666666,
             "#ed7953"
            ],
            [
             0.7777777777777778,
             "#fb9f3a"
            ],
            [
             0.8888888888888888,
             "#fdca26"
            ],
            [
             1,
             "#f0f921"
            ]
           ]
          },
          "colorway": [
           "#636efa",
           "#EF553B",
           "#00cc96",
           "#ab63fa",
           "#FFA15A",
           "#19d3f3",
           "#FF6692",
           "#B6E880",
           "#FF97FF",
           "#FECB52"
          ],
          "font": {
           "color": "#2a3f5f"
          },
          "geo": {
           "bgcolor": "white",
           "lakecolor": "white",
           "landcolor": "#E5ECF6",
           "showlakes": true,
           "showland": true,
           "subunitcolor": "white"
          },
          "hoverlabel": {
           "align": "left"
          },
          "hovermode": "closest",
          "mapbox": {
           "style": "light"
          },
          "paper_bgcolor": "white",
          "plot_bgcolor": "#E5ECF6",
          "polar": {
           "angularaxis": {
            "gridcolor": "white",
            "linecolor": "white",
            "ticks": ""
           },
           "bgcolor": "#E5ECF6",
           "radialaxis": {
            "gridcolor": "white",
            "linecolor": "white",
            "ticks": ""
           }
          },
          "scene": {
           "xaxis": {
            "backgroundcolor": "#E5ECF6",
            "gridcolor": "white",
            "gridwidth": 2,
            "linecolor": "white",
            "showbackground": true,
            "ticks": "",
            "zerolinecolor": "white"
           },
           "yaxis": {
            "backgroundcolor": "#E5ECF6",
            "gridcolor": "white",
            "gridwidth": 2,
            "linecolor": "white",
            "showbackground": true,
            "ticks": "",
            "zerolinecolor": "white"
           },
           "zaxis": {
            "backgroundcolor": "#E5ECF6",
            "gridcolor": "white",
            "gridwidth": 2,
            "linecolor": "white",
            "showbackground": true,
            "ticks": "",
            "zerolinecolor": "white"
           }
          },
          "shapedefaults": {
           "line": {
            "color": "#2a3f5f"
           }
          },
          "ternary": {
           "aaxis": {
            "gridcolor": "white",
            "linecolor": "white",
            "ticks": ""
           },
           "baxis": {
            "gridcolor": "white",
            "linecolor": "white",
            "ticks": ""
           },
           "bgcolor": "#E5ECF6",
           "caxis": {
            "gridcolor": "white",
            "linecolor": "white",
            "ticks": ""
           }
          },
          "title": {
           "x": 0.05
          },
          "xaxis": {
           "automargin": true,
           "gridcolor": "white",
           "linecolor": "white",
           "ticks": "",
           "title": {
            "standoff": 15
           },
           "zerolinecolor": "white",
           "zerolinewidth": 2
          },
          "yaxis": {
           "automargin": true,
           "gridcolor": "white",
           "linecolor": "white",
           "ticks": "",
           "title": {
            "standoff": 15
           },
           "zerolinecolor": "white",
           "zerolinewidth": 2
          }
         }
        },
        "xaxis": {
         "anchor": "y",
         "domain": [
          0,
          1
         ],
         "title": {
          "text": "class of worker"
         }
        },
        "yaxis": {
         "anchor": "x",
         "domain": [
          0,
          1
         ],
         "title": {
          "text": "counts"
         }
        }
       }
      }
     },
     "metadata": {},
     "output_type": "display_data"
    }
   ],
   "source": [
    "fig = px.bar(df.groupby(['class of worker', 'income']).size().reset_index(name = 'counts'),\n",
    "             x=\"class of worker\", y=\"counts\", color=\"income\")\n",
    "fig.show()"
   ]
  },
  {
   "attachments": {},
   "cell_type": "markdown",
   "metadata": {},
   "source": [
    "Class of worker seems like it may be a useful feature in determining income"
   ]
  },
  {
   "cell_type": "code",
   "execution_count": 30,
   "metadata": {},
   "outputs": [
    {
     "data": {
      "text/plain": [
       " Not in universe or children            100684\n",
       " Retail trade                            17070\n",
       " Manufacturing-durable goods              9015\n",
       " Education                                8283\n",
       " Manufacturing-nondurable goods           6897\n",
       " Finance insurance and real estate        6145\n",
       " Construction                             5984\n",
       " Business and repair services             5651\n",
       " Medical except hospital                  4683\n",
       " Public administration                    4610\n",
       " Other professional services              4482\n",
       " Transportation                           4209\n",
       " Hospital services                        3964\n",
       " Wholesale trade                          3596\n",
       " Agriculture                              3023\n",
       " Personal services except private HH      2937\n",
       " Social services                          2549\n",
       " Entertainment                            1651\n",
       " Communications                           1181\n",
       " Utilities and sanitary services          1178\n",
       " Private household services                945\n",
       " Mining                                    563\n",
       " Forestry and fisheries                    187\n",
       " Armed Forces                               36\n",
       "Name: major industry code, dtype: int64"
      ]
     },
     "execution_count": 30,
     "metadata": {},
     "output_type": "execute_result"
    }
   ],
   "source": [
    "df['major industry code'].value_counts()"
   ]
  },
  {
   "cell_type": "code",
   "execution_count": 31,
   "metadata": {},
   "outputs": [
    {
     "data": {
      "text/plain": [
       " Not in universe                          100684\n",
       " Adm support including clerical            14837\n",
       " Professional specialty                    13940\n",
       " Executive admin and managerial            12495\n",
       " Other service                             12099\n",
       " Sales                                     11783\n",
       " Precision production craft & repair       10518\n",
       " Machine operators assmblrs & inspctrs      6379\n",
       " Handlers equip cleaners etc                4127\n",
       " Transportation and material moving         4020\n",
       " Farming forestry and fishing               3146\n",
       " Technicians and related support            3018\n",
       " Protective services                        1661\n",
       " Private household services                  780\n",
       " Armed Forces                                 36\n",
       "Name: major occupation code, dtype: int64"
      ]
     },
     "execution_count": 31,
     "metadata": {},
     "output_type": "execute_result"
    }
   ],
   "source": [
    "df['major occupation code'].value_counts()"
   ]
  },
  {
   "attachments": {},
   "cell_type": "markdown",
   "metadata": {},
   "source": [
    "Might be worth creating a cross feature from occupation and industry codes"
   ]
  },
  {
   "cell_type": "code",
   "execution_count": 32,
   "metadata": {},
   "outputs": [
    {
     "data": {
      "text/plain": [
       "industry code  major industry code                 \n",
       "0               Not in universe or children            100684\n",
       "1               Agriculture                               827\n",
       "2               Agriculture                              2196\n",
       "3               Mining                                    563\n",
       "4               Construction                             5984\n",
       "5               Manufacturing-durable goods               553\n",
       "6               Manufacturing-durable goods               554\n",
       "7               Manufacturing-durable goods               422\n",
       "8               Manufacturing-durable goods               550\n",
       "9               Manufacturing-durable goods               993\n",
       "10              Manufacturing-durable goods                 4\n",
       "11              Manufacturing-durable goods              1764\n",
       "12              Manufacturing-durable goods              1350\n",
       "13              Manufacturing-durable goods               899\n",
       "14              Manufacturing-durable goods               295\n",
       "15              Manufacturing-durable goods               452\n",
       "16              Manufacturing-durable goods               539\n",
       "17              Manufacturing-durable goods               157\n",
       "18              Manufacturing-durable goods               483\n",
       "19              Manufacturing-nondurable goods           1346\n",
       "20              Manufacturing-nondurable goods             32\n",
       "21              Manufacturing-nondurable goods            559\n",
       "22              Manufacturing-nondurable goods            952\n",
       "23              Manufacturing-nondurable goods            525\n",
       "24              Manufacturing-nondurable goods           1503\n",
       "25              Manufacturing-nondurable goods           1084\n",
       "26              Manufacturing-nondurable goods            127\n",
       "27              Manufacturing-nondurable goods            626\n",
       "28              Manufacturing-nondurable goods            143\n",
       "29              Transportation                           4209\n",
       "30              Communications                           1181\n",
       "31              Utilities and sanitary services          1178\n",
       "32              Wholesale trade                          3596\n",
       "33              Retail trade                            17070\n",
       "34              Finance insurance and real estate        2765\n",
       "35              Finance insurance and real estate        3380\n",
       "36              Private household services                945\n",
       "37              Business and repair services             4022\n",
       "38              Business and repair services             1629\n",
       "39              Personal services except private HH      2937\n",
       "40              Entertainment                            1651\n",
       "41              Hospital services                        3964\n",
       "42              Medical except hospital                  4683\n",
       "43              Education                                8283\n",
       "44              Social services                          2549\n",
       "45              Other professional services              4482\n",
       "46              Forestry and fisheries                    187\n",
       "47              Public administration                    1644\n",
       "48              Public administration                     652\n",
       "49              Public administration                     610\n",
       "50              Public administration                    1704\n",
       "51              Armed Forces                               36\n",
       "dtype: int64"
      ]
     },
     "execution_count": 32,
     "metadata": {},
     "output_type": "execute_result"
    }
   ],
   "source": [
    "df[['major industry code', 'industry code']].groupby(['industry code', 'major industry code']).size()"
   ]
  },
  {
   "attachments": {},
   "cell_type": "markdown",
   "metadata": {},
   "source": [
    "It appears that industry code and major industry codes relate to the same thing and industry code may be a subset of major industry code. We'll begin by just using the major codes and can revert to a more granular level should we require it."
   ]
  },
  {
   "cell_type": "code",
   "execution_count": 33,
   "metadata": {},
   "outputs": [
    {
     "data": {
      "text/plain": [
       " All other                    171907\n",
       " Mexican-American               8079\n",
       " Mexican (Mexicano)             7234\n",
       " Central or South American      3895\n",
       " Puerto Rican                   3313\n",
       " Other Spanish                  2485\n",
       " Cuban                          1126\n",
       " NA                              874\n",
       " Do not know                     306\n",
       " Chicano                         304\n",
       "Name: hispanic Origin, dtype: int64"
      ]
     },
     "execution_count": 33,
     "metadata": {},
     "output_type": "execute_result"
    }
   ],
   "source": [
    "df['hispanic Origin'].value_counts()"
   ]
  },
  {
   "cell_type": "code",
   "execution_count": 34,
   "metadata": {},
   "outputs": [
    {
     "data": {
      "text/plain": [
       " White                          167365\n",
       " Black                           20415\n",
       " Asian or Pacific Islander        5835\n",
       " Other                            3657\n",
       " Amer Indian Aleut or Eskimo      2251\n",
       "Name: race, dtype: int64"
      ]
     },
     "execution_count": 34,
     "metadata": {},
     "output_type": "execute_result"
    }
   ],
   "source": [
    "df['race'].value_counts()"
   ]
  },
  {
   "cell_type": "code",
   "execution_count": 35,
   "metadata": {},
   "outputs": [
    {
     "data": {
      "text/plain": [
       "hispanic Origin             race                        \n",
       " All other                   Amer Indian Aleut or Eskimo      2069\n",
       "                             Asian or Pacific Islander        5724\n",
       "                             Black                           19784\n",
       "                             Other                             750\n",
       "                             White                          143580\n",
       " Central or South American   Amer Indian Aleut or Eskimo         5\n",
       "                             Asian or Pacific Islander          27\n",
       "                             Black                             204\n",
       "                             Other                             467\n",
       "                             White                            3192\n",
       " Chicano                     Amer Indian Aleut or Eskimo         3\n",
       "                             Other                              42\n",
       "                             White                             259\n",
       " Cuban                       Black                              43\n",
       "                             Other                              30\n",
       "                             White                            1053\n",
       " Do not know                 Black                               3\n",
       "                             Other                               2\n",
       "                             White                             301\n",
       " Mexican (Mexicano)          Amer Indian Aleut or Eskimo        57\n",
       "                             Asian or Pacific Islander           9\n",
       "                             Black                              10\n",
       "                             Other                             934\n",
       "                             White                            6224\n",
       " Mexican-American            Amer Indian Aleut or Eskimo        74\n",
       "                             Asian or Pacific Islander           5\n",
       "                             Black                              11\n",
       "                             Other                             578\n",
       "                             White                            7411\n",
       " NA                          Amer Indian Aleut or Eskimo        15\n",
       "                             Asian or Pacific Islander          14\n",
       "                             Black                              94\n",
       "                             Other                              14\n",
       "                             White                             737\n",
       " Other Spanish               Amer Indian Aleut or Eskimo        26\n",
       "                             Asian or Pacific Islander          40\n",
       "                             Black                             109\n",
       "                             Other                             288\n",
       "                             White                            2022\n",
       " Puerto Rican                Amer Indian Aleut or Eskimo         2\n",
       "                             Asian or Pacific Islander          16\n",
       "                             Black                             157\n",
       "                             Other                             552\n",
       "                             White                            2586\n",
       "dtype: int64"
      ]
     },
     "execution_count": 35,
     "metadata": {},
     "output_type": "execute_result"
    }
   ],
   "source": [
    "df[['race', 'hispanic Origin']].groupby(['hispanic Origin', 'race']).size()"
   ]
  },
  {
   "attachments": {},
   "cell_type": "markdown",
   "metadata": {},
   "source": [
    "I'm going to impute the model value for hispanic origin where either Do Not Know or NA"
   ]
  },
  {
   "cell_type": "code",
   "execution_count": 36,
   "metadata": {},
   "outputs": [
    {
     "data": {
      "text/plain": [
       " Householder                                        53248\n",
       " Child <18 never marr not in subfamily              50326\n",
       " Spouse of householder                              41695\n",
       " Nonfamily householder                              22213\n",
       " Child 18+ never marr Not in a subfamily            12030\n",
       " Secondary individual                                6122\n",
       " Other Rel 18+ ever marr not in subfamily            1956\n",
       " Grandchild <18 never marr child of subfamily RP     1868\n",
       " Other Rel 18+ never marr not in subfamily           1728\n",
       " Grandchild <18 never marr not in subfamily          1066\n",
       " Child 18+ ever marr Not in a subfamily              1013\n",
       " Child under 18 of RP of unrel subfamily              732\n",
       " RP of unrelated subfamily                            685\n",
       " Child 18+ ever marr RP of subfamily                  671\n",
       " Other Rel <18 never marr child of subfamily RP       656\n",
       " Other Rel 18+ ever marr RP of subfamily              656\n",
       " Other Rel 18+ spouse of subfamily RP                 638\n",
       " Child 18+ never marr RP of subfamily                 589\n",
       " Other Rel <18 never marr not in subfamily            584\n",
       " Grandchild 18+ never marr not in subfamily           375\n",
       " In group quarters                                    196\n",
       " Child 18+ spouse of subfamily RP                     126\n",
       " Other Rel 18+ never marr RP of subfamily              94\n",
       " Child <18 never marr RP of subfamily                  80\n",
       " Spouse of RP of unrelated subfamily                   52\n",
       " Child <18 ever marr not in subfamily                  36\n",
       " Grandchild 18+ ever marr not in subfamily             34\n",
       " Grandchild 18+ spouse of subfamily RP                 10\n",
       " Child <18 ever marr RP of subfamily                    9\n",
       " Grandchild 18+ ever marr RP of subfamily               9\n",
       " Grandchild 18+ never marr RP of subfamily              6\n",
       " Other Rel <18 ever marr RP of subfamily                6\n",
       " Other Rel <18 never married RP of subfamily            4\n",
       " Other Rel <18 spouse of subfamily RP                   3\n",
       " Child <18 spouse of subfamily RP                       2\n",
       " Grandchild <18 never marr RP of subfamily              2\n",
       " Grandchild <18 ever marr not in subfamily              2\n",
       " Other Rel <18 ever marr not in subfamily               1\n",
       "Name: detailed household and family stat, dtype: int64"
      ]
     },
     "execution_count": 36,
     "metadata": {},
     "output_type": "execute_result"
    }
   ],
   "source": [
    "df['detailed household and family stat'].value_counts()\n",
    " #      'detailed household summary in household',"
   ]
  },
  {
   "cell_type": "code",
   "execution_count": 37,
   "metadata": {},
   "outputs": [
    {
     "data": {
      "text/plain": [
       " Householder                             75475\n",
       " Child under 18 never married            50426\n",
       " Spouse of householder                   41709\n",
       " Child 18 or older                       14430\n",
       " Other relative of householder            9703\n",
       " Nonrelative of householder               7601\n",
       " Group Quarters- Secondary individual      132\n",
       " Child under 18 ever married                47\n",
       "Name: detailed household summary in household, dtype: int64"
      ]
     },
     "execution_count": 37,
     "metadata": {},
     "output_type": "execute_result"
    }
   ],
   "source": [
    "df['detailed household summary in household'].value_counts()\n",
    " #      'detailed household summary in household',"
   ]
  },
  {
   "attachments": {},
   "cell_type": "markdown",
   "metadata": {},
   "source": [
    "These fields look related so will pick the feature with fewer unique values"
   ]
  },
  {
   "cell_type": "code",
   "execution_count": 38,
   "metadata": {},
   "outputs": [
    {
     "data": {
      "text/plain": [
       " Not in universe           144232\n",
       " Both parents present       38983\n",
       " Mother only present        12772\n",
       " Father only present         1883\n",
       " Neither parent present      1653\n",
       "Name: family members under 18, dtype: int64"
      ]
     },
     "execution_count": 38,
     "metadata": {},
     "output_type": "execute_result"
    }
   ],
   "source": [
    "df['family members under 18'].value_counts()"
   ]
  },
  {
   "cell_type": "code",
   "execution_count": 39,
   "metadata": {},
   "outputs": [
    {
     "data": {
      "text/plain": [
       "0         0\n",
       "1         1\n",
       "2         0\n",
       "3         0\n",
       "4         0\n",
       "         ..\n",
       "199518    0\n",
       "199519    1\n",
       "199520    6\n",
       "199521    0\n",
       "199522    6\n",
       "Name: num persons worked for employer, Length: 199523, dtype: object"
      ]
     },
     "execution_count": 39,
     "metadata": {},
     "output_type": "execute_result"
    }
   ],
   "source": [
    "df['num persons worked for employer'].astype(str)"
   ]
  },
  {
   "cell_type": "code",
   "execution_count": 40,
   "metadata": {},
   "outputs": [
    {
     "data": {
      "text/plain": [
       "<AxesSubplot: >"
      ]
     },
     "execution_count": 40,
     "metadata": {},
     "output_type": "execute_result"
    },
    {
     "data": {
      "image/png": "[encoded data removed]",
      "text/plain": [
       "<Figure size 640x480 with 1 Axes>"
      ]
     },
     "metadata": {},
     "output_type": "display_data"
    }
   ],
   "source": [
    "df['weeks worked in year'].hist()"
   ]
  },
  {
   "cell_type": "code",
   "execution_count": 41,
   "metadata": {},
   "outputs": [
    {
     "data": {
      "text/plain": [
       "sex      income   \n",
       " Female   - 50000.    0.974390\n",
       "          50000+.     0.025610\n",
       " Male     - 50000.    0.898272\n",
       "          50000+.     0.101728\n",
       "Name: income, dtype: float64"
      ]
     },
     "execution_count": 41,
     "metadata": {},
     "output_type": "execute_result"
    }
   ],
   "source": [
    "df.groupby([\"sex\"])[\"income\"].value_counts(normalize=True)"
   ]
  },
  {
   "cell_type": "code",
   "execution_count": 42,
   "metadata": {},
   "outputs": [
    {
     "data": {
      "text/plain": [
       "array([' Not in universe or children', ' Construction', ' Entertainment',\n",
       "       ' Finance insurance and real estate', ' Education',\n",
       "       ' Business and repair services', ' Manufacturing-nondurable goods',\n",
       "       ' Personal services except private HH',\n",
       "       ' Manufacturing-durable goods', ' Other professional services',\n",
       "       ' Mining', ' Transportation', ' Wholesale trade',\n",
       "       ' Public administration', ' Retail trade', ' Social services',\n",
       "       ' Private household services', ' Utilities and sanitary services',\n",
       "       ' Communications', ' Hospital services',\n",
       "       ' Medical except hospital', ' Agriculture',\n",
       "       ' Forestry and fisheries', ' Armed Forces'], dtype=object)"
      ]
     },
     "execution_count": 42,
     "metadata": {},
     "output_type": "execute_result"
    }
   ],
   "source": [
    "df['major industry code'].unique()"
   ]
  },
  {
   "cell_type": "code",
   "execution_count": null,
   "metadata": {},
   "outputs": [],
   "source": []
  }
 ],
 "metadata": {
  "kernelspec": {
   "display_name": "Python 3",
   "language": "python",
   "name": "python3"
  },
  "language_info": {
   "codemirror_mode": {
    "name": "ipython",
    "version": 3
   },
   "file_extension": ".py",
   "mimetype": "text/x-python",
   "name": "python",
   "nbconvert_exporter": "python",
   "pygments_lexer": "ipython3",
   "version": "3.10.9"
  },
  "orig_nbformat": 4,
  "vscode": {
   "interpreter": {
    "hash": "aee8b7b246df8f9039afb4144a1f6fd8d2ca17a180786b69acc140d282b71a49"
   }
  }
 },
 "nbformat": 4,
 "nbformat_minor": 2
}
