{
 "cells": [
  {
   "cell_type": "code",
   "execution_count": 1,
   "metadata": {},
   "outputs": [],
   "source": [
    "import pandas as pd\n",
    "import numpy as np\n"
   ]
  },
  {
   "cell_type": "code",
   "execution_count": 2,
   "metadata": {},
   "outputs": [],
   "source": [
    "import os\n",
    "import urllib\n",
    "import gdown"
   ]
  },
  {
   "cell_type": "code",
   "execution_count": 3,
   "metadata": {},
   "outputs": [],
   "source": [
    "TRAIN_URL = 'https://drive.google.com/uc?id=1JNprlyDTnj_FWS4s7Kqj_DK9c9e8paee'\n",
    "METADATA_URL = 'https://drive.google.com/uc?id=1udArawWgEzEJxjLOBGHHG_lNV1g3PYHh'\n",
    "TEST_URL = 'https://drive.google.com/uc?id=1Odd-l1rkvlyGnR8TCpqEDMaarPbv9v-D'\n"
   ]
  },
  {
   "cell_type": "code",
   "execution_count": 4,
   "metadata": {},
   "outputs": [],
   "source": [
    "def fetch_gdrive_data(url, output):\n",
    "    gdown.download(url, output, quiet=False)"
   ]
  },
  {
   "cell_type": "code",
   "execution_count": 5,
   "metadata": {},
   "outputs": [],
   "source": [
    "#fetch_gdrive_data(url= TRAIN_URL, output = '../data/training_data.csv')\n",
    "#fetch_gdrive_data(url = METADATA_URL, output = '../data/census_metadata.txt')\n",
    "#fetch_gdrive_data(url = TEST_URL, output = '../data/test_data.csv')"
   ]
  },
  {
   "cell_type": "code",
   "execution_count": 6,
   "metadata": {},
   "outputs": [],
   "source": [
    "def load_data_and_clean_column_names(data, metadata):\n",
    "    df = pd.read_csv(data)\n",
    "    column_names = pd.read_csv('../data/census_income_metadata.txt',\n",
    "                               sep='|',\n",
    "                               header = None\n",
    "                               )[1].iloc[23:68].str.split('\\t',\n",
    "                                                          n = 1,\n",
    "                                                          expand = True\n",
    "                                                          )[0].str.lstrip().str.replace(\"'\",\"\")\n",
    "    column_names = column_names[(column_names != 'adjusted gross income') &\n",
    "                                (column_names != 'federal income tax liability') &\n",
    "                                (column_names != 'total person earnings') & \n",
    "                                (column_names != 'total person income') &\n",
    "                                (column_names != 'taxable income amount')].reset_index(drop = True)\n",
    "    column_names = list(column_names)\n",
    "    column_names[10] = 'race'\n",
    "    column_names.extend(['year', 'income'])\n",
    "    df.columns = column_names\n",
    "    return df"
   ]
  },
  {
   "cell_type": "code",
   "execution_count": 7,
   "metadata": {},
   "outputs": [],
   "source": [
    "df = load_data_and_clean_column_names(data= '../data/training_data.csv', metadata= '../data/census_metadata.txt')\n",
    "df_test = load_data_and_clean_column_names(data= '../data/test_data.csv', metadata= '../data/census_metadata.txt')"
   ]
  },
  {
   "attachments": {},
   "cell_type": "markdown",
   "metadata": {},
   "source": [
    "Let's begin with a simple model to see how useful a subset of our features are for predictions."
   ]
  },
  {
   "attachments": {},
   "cell_type": "markdown",
   "metadata": {},
   "source": [
    "Time to carry out a little feature engineering"
   ]
  },
  {
   "cell_type": "code",
   "execution_count": 203,
   "metadata": {},
   "outputs": [
    {
     "data": {
      "text/plain": [
       "Index(['age', 'class of worker', 'industry code', 'occupation code',\n",
       "       'education', 'wage per hour', 'enrolled in edu inst last wk',\n",
       "       'marital status', 'major industry code', 'major occupation code',\n",
       "       'race', 'hispanic Origin', 'sex', 'member of a labor union',\n",
       "       'reason for unemployment', 'full or part time employment stat',\n",
       "       'capital gains', 'capital losses', 'divdends from stocks',\n",
       "       'tax filer status', 'region of previous residence',\n",
       "       'state of previous residence', 'detailed household and family stat',\n",
       "       'detailed household summary in household', 'instance weight',\n",
       "       'migration code-change in msa', 'migration code-change in reg',\n",
       "       'migration code-move within reg', 'live in this house 1 year ago',\n",
       "       'migration prev res in sunbelt', 'num persons worked for employer',\n",
       "       'family members under 18', 'country of birth father',\n",
       "       'country of birth mother', 'country of birth self', 'citizenship',\n",
       "       'own business or self employed',\n",
       "       'fill inc questionnaire for veterans admin', 'veterans benefits',\n",
       "       'weeks worked in year', 'year', 'income', 'capital net gains losses'],\n",
       "      dtype='object')"
      ]
     },
     "execution_count": 203,
     "metadata": {},
     "output_type": "execute_result"
    }
   ],
   "source": [
    "df.columns"
   ]
  },
  {
   "cell_type": "code",
   "execution_count": 8,
   "metadata": {},
   "outputs": [],
   "source": [
    "def num_to_cat_features(df, num_features:list):\n",
    "    for feature in list:\n",
    "        df[feature] = df[feature].astype(str)\n",
    "    return df"
   ]
  },
  {
   "cell_type": "code",
   "execution_count": 9,
   "metadata": {},
   "outputs": [],
   "source": [
    "cat_num_features = ['num persons worked for employer', 'own business or self employed', 'veterans benefits']"
   ]
  },
  {
   "cell_type": "code",
   "execution_count": null,
   "metadata": {},
   "outputs": [],
   "source": []
  },
  {
   "cell_type": "code",
   "execution_count": 10,
   "metadata": {},
   "outputs": [],
   "source": [
    "numerical_features = ['age', 'capital net gains losses', 'divdends from stocks']\n",
    "\n",
    "\n",
    "cat_features = ['weeks worked in year', 'num persons worked for employer', 'own business or self employed', 'veterans benefits', \n",
    "                'class of worker', 'education', 'enrolled in edu inst last wk', 'marital status', 'major industry code', \n",
    "                'major occupation code', 'race', 'hispanic Origin', 'sex', 'member of a labor union', 'reason for unemployment', \n",
    "                'full or part time employment stat', 'detailed household summary in household', 'live in this house 1 year ago', \n",
    "                'citizenship']\n",
    "\n",
    "target = ['income']"
   ]
  },
  {
   "cell_type": "code",
   "execution_count": 11,
   "metadata": {},
   "outputs": [],
   "source": [
    "from imblearn.pipeline import Pipeline\n",
    "from sklearn.preprocessing import StandardScaler"
   ]
  },
  {
   "cell_type": "code",
   "execution_count": 26,
   "metadata": {},
   "outputs": [],
   "source": [
    "def bin_weeks_worked(x):\n",
    "        if x <13:\n",
    "            return 'less than 13 weeks'\n",
    "        elif x < 26:\n",
    "            return 'from 13 to 25 weeks'\n",
    "        elif x < 39:\n",
    "            return 'from 26 to 38 weeks'\n",
    "        else:\n",
    "            return '39 weeks or more'"
   ]
  },
  {
   "cell_type": "code",
   "execution_count": 27,
   "metadata": {},
   "outputs": [],
   "source": [
    "features_for_model_1 = ['age', 'capital net gains losses', 'divdends from stocks', 'weeks worked in year', \n",
    "                        'num persons worked for employer', 'own business or self employed', 'veterans benefits', \n",
    "                        'class of worker', 'education', 'enrolled in edu inst last wk', 'marital status', 'major industry code', \n",
    "                        'major occupation code', 'race', 'hispanic Origin', 'sex', 'member of a labor union', 'reason for unemployment', \n",
    "                        'full or part time employment stat', 'detailed household summary in household', 'live in this house 1 year ago', \n",
    "                        'citizenship']"
   ]
  },
  {
   "cell_type": "code",
   "execution_count": 28,
   "metadata": {},
   "outputs": [],
   "source": [
    "df['capital net gains losses'] = df['capital gains'] - df['capital losses']\n",
    "df['weeks worked in year'] = df['weeks worked in year'].apply(bin_weeks_worked)\n",
    "df[cat_num_features] = df[cat_num_features].astype(str)\n",
    "df[cat_num_features] = df[cat_num_features].astype(str)"
   ]
  },
  {
   "cell_type": "code",
   "execution_count": 32,
   "metadata": {},
   "outputs": [],
   "source": [
    "from sklearn.preprocessing import KBinsDiscretizer, OneHotEncoder"
   ]
  },
  {
   "cell_type": "code",
   "execution_count": 23,
   "metadata": {},
   "outputs": [],
   "source": [
    "kb_trans = KBinsDiscretizer(n_bins = 4, encode = 'ordinal', strategy= 'uniform')"
   ]
  },
  {
   "cell_type": "code",
   "execution_count": 63,
   "metadata": {},
   "outputs": [],
   "source": [
    "from sklearn.compose import ColumnTransformer\n",
    "\n",
    "num_attribs = ['age', 'capital net gains losses', 'divdends from stocks']\n",
    "\n",
    "cat_attribs = ['weeks worked in year', 'num persons worked for employer', 'own business or self employed', 'veterans benefits', \n",
    "                'class of worker', 'education', 'enrolled in edu inst last wk', 'marital status', 'major industry code', \n",
    "                'major occupation code', 'race', 'hispanic Origin', 'sex', 'member of a labor union', 'reason for unemployment', \n",
    "                'full or part time employment stat', 'detailed household summary in household', 'live in this house 1 year ago', \n",
    "                'citizenship']\n",
    "\n",
    "column_transform_pipeline = ColumnTransformer([\n",
    "    (\"num\", StandardScaler(), num_attribs),\n",
    "    (\"cat\", OneHotEncoder(), cat_attribs),\n",
    "], sparse_threshold=0)\n"
   ]
  },
  {
   "cell_type": "code",
   "execution_count": 48,
   "metadata": {},
   "outputs": [],
   "source": [
    "X = df[features_for_model_1].copy()\n",
    "y = df['income'].copy()\n",
    "y = y.apply(lambda x: 1 if x == ' 50000+.' else 0)"
   ]
  },
  {
   "cell_type": "code",
   "execution_count": 64,
   "metadata": {},
   "outputs": [],
   "source": [
    "df_test['capital net gains losses'] = df_test['capital gains'] - df_test['capital losses']\n",
    "df_test['weeks worked in year'] = df_test['weeks worked in year'].apply(bin_weeks_worked)\n",
    "df_test[cat_num_features] = df_test[cat_num_features].astype(str)\n",
    "df_test[cat_num_features] = df_test[cat_num_features].astype(str)\n",
    "\n",
    "X_test = df_test[features_for_model_1].copy()\n",
    "y_test = df_test['income'].copy()\n",
    "y_test = y_test.apply(lambda x: 1 if x == ' 50000+.' else 0)"
   ]
  },
  {
   "cell_type": "code",
   "execution_count": 36,
   "metadata": {},
   "outputs": [],
   "source": [
    "from sklearn.ensemble import GradientBoostingClassifier\n",
    "pipe_clf = Pipeline([\n",
    "  (\n",
    "    \"FeatureEngineering\",\n",
    "    ColumnTransformer(\n",
    "        [\n",
    "          (\"num\", StandardScaler(), num_attribs),\n",
    "          (\"cat\", OneHotEncoder(), cat_attribs),\n",
    "        ],\n",
    "      #remainder=StandardScaler()\n",
    "    )\n",
    "  ),\n",
    "  #(\"SMOTE\", SMOTE()),\n",
    "  #(\n",
    "  #  \"PCA_red\",\n",
    "  #  PCA(n_components=10)  \n",
    "  #),\n",
    "  (\"GradientBooster\", GradientBoostingClassifier())\n",
    "])"
   ]
  },
  {
   "cell_type": "code",
   "execution_count": 112,
   "metadata": {},
   "outputs": [],
   "source": [
    "from sklearn.model_selection import GridSearchCV, StratifiedKFold"
   ]
  },
  {
   "cell_type": "code",
   "execution_count": 50,
   "metadata": {},
   "outputs": [
    {
     "name": "stdout",
     "output_type": "stream",
     "text": [
      "Fitting 3 folds for each of 4 candidates, totalling 12 fits\n"
     ]
    },
    {
     "name": "stderr",
     "output_type": "stream",
     "text": [
      "/Users/alexdcruz/dataiku_task/.venv/lib/python3.8/site-packages/sklearn/ensemble/_gb.py:280: FutureWarning: The loss parameter name 'deviance' was deprecated in v1.1 and will be removed in version 1.3. Use the new parameter name 'log_loss' which is equivalent.\n",
      "  warnings.warn(\n"
     ]
    },
    {
     "name": "stdout",
     "output_type": "stream",
     "text": [
      "[CV] END GradientBooster__loss=deviance, GradientBooster__n_estimators=100; total time=  22.5s\n"
     ]
    },
    {
     "name": "stderr",
     "output_type": "stream",
     "text": [
      "/Users/alexdcruz/dataiku_task/.venv/lib/python3.8/site-packages/sklearn/ensemble/_gb.py:280: FutureWarning: The loss parameter name 'deviance' was deprecated in v1.1 and will be removed in version 1.3. Use the new parameter name 'log_loss' which is equivalent.\n",
      "  warnings.warn(\n"
     ]
    },
    {
     "name": "stdout",
     "output_type": "stream",
     "text": [
      "[CV] END GradientBooster__loss=deviance, GradientBooster__n_estimators=100; total time=  22.9s\n"
     ]
    },
    {
     "name": "stderr",
     "output_type": "stream",
     "text": [
      "/Users/alexdcruz/dataiku_task/.venv/lib/python3.8/site-packages/sklearn/ensemble/_gb.py:280: FutureWarning: The loss parameter name 'deviance' was deprecated in v1.1 and will be removed in version 1.3. Use the new parameter name 'log_loss' which is equivalent.\n",
      "  warnings.warn(\n"
     ]
    },
    {
     "name": "stdout",
     "output_type": "stream",
     "text": [
      "[CV] END GradientBooster__loss=deviance, GradientBooster__n_estimators=100; total time=  20.2s\n"
     ]
    },
    {
     "name": "stderr",
     "output_type": "stream",
     "text": [
      "/Users/alexdcruz/dataiku_task/.venv/lib/python3.8/site-packages/sklearn/ensemble/_gb.py:280: FutureWarning: The loss parameter name 'deviance' was deprecated in v1.1 and will be removed in version 1.3. Use the new parameter name 'log_loss' which is equivalent.\n",
      "  warnings.warn(\n"
     ]
    },
    {
     "name": "stdout",
     "output_type": "stream",
     "text": [
      "[CV] END GradientBooster__loss=deviance, GradientBooster__n_estimators=150; total time=  29.1s\n"
     ]
    },
    {
     "name": "stderr",
     "output_type": "stream",
     "text": [
      "/Users/alexdcruz/dataiku_task/.venv/lib/python3.8/site-packages/sklearn/ensemble/_gb.py:280: FutureWarning: The loss parameter name 'deviance' was deprecated in v1.1 and will be removed in version 1.3. Use the new parameter name 'log_loss' which is equivalent.\n",
      "  warnings.warn(\n"
     ]
    },
    {
     "name": "stdout",
     "output_type": "stream",
     "text": [
      "[CV] END GradientBooster__loss=deviance, GradientBooster__n_estimators=150; total time=  29.2s\n"
     ]
    },
    {
     "name": "stderr",
     "output_type": "stream",
     "text": [
      "/Users/alexdcruz/dataiku_task/.venv/lib/python3.8/site-packages/sklearn/ensemble/_gb.py:280: FutureWarning: The loss parameter name 'deviance' was deprecated in v1.1 and will be removed in version 1.3. Use the new parameter name 'log_loss' which is equivalent.\n",
      "  warnings.warn(\n"
     ]
    },
    {
     "name": "stdout",
     "output_type": "stream",
     "text": [
      "[CV] END GradientBooster__loss=deviance, GradientBooster__n_estimators=150; total time=  29.5s\n",
      "[CV] END GradientBooster__loss=exponential, GradientBooster__n_estimators=100; total time=  21.0s\n",
      "[CV] END GradientBooster__loss=exponential, GradientBooster__n_estimators=100; total time=  20.8s\n",
      "[CV] END GradientBooster__loss=exponential, GradientBooster__n_estimators=100; total time=  20.3s\n",
      "[CV] END GradientBooster__loss=exponential, GradientBooster__n_estimators=150; total time=  30.2s\n",
      "[CV] END GradientBooster__loss=exponential, GradientBooster__n_estimators=150; total time=  29.8s\n",
      "[CV] END GradientBooster__loss=exponential, GradientBooster__n_estimators=150; total time=  31.1s\n"
     ]
    },
    {
     "name": "stderr",
     "output_type": "stream",
     "text": [
      "/Users/alexdcruz/dataiku_task/.venv/lib/python3.8/site-packages/sklearn/ensemble/_gb.py:280: FutureWarning: The loss parameter name 'deviance' was deprecated in v1.1 and will be removed in version 1.3. Use the new parameter name 'log_loss' which is equivalent.\n",
      "  warnings.warn(\n"
     ]
    },
    {
     "data": {
      "text/html": [
       "<style>#sk-container-id-1 {color: black;background-color: white;}#sk-container-id-1 pre{padding: 0;}#sk-container-id-1 div.sk-toggleable {background-color: white;}#sk-container-id-1 label.sk-toggleable__label {cursor: pointer;display: block;width: 100%;margin-bottom: 0;padding: 0.3em;box-sizing: border-box;text-align: center;}#sk-container-id-1 label.sk-toggleable__label-arrow:before {content: \"▸\";float: left;margin-right: 0.25em;color: #696969;}#sk-container-id-1 label.sk-toggleable__label-arrow:hover:before {color: black;}#sk-container-id-1 div.sk-estimator:hover label.sk-toggleable__label-arrow:before {color: black;}#sk-container-id-1 div.sk-toggleable__content {max-height: 0;max-width: 0;overflow: hidden;text-align: left;background-color: #f0f8ff;}#sk-container-id-1 div.sk-toggleable__content pre {margin: 0.2em;color: black;border-radius: 0.25em;background-color: #f0f8ff;}#sk-container-id-1 input.sk-toggleable__control:checked~div.sk-toggleable__content {max-height: 200px;max-width: 100%;overflow: auto;}#sk-container-id-1 input.sk-toggleable__control:checked~label.sk-toggleable__label-arrow:before {content: \"▾\";}#sk-container-id-1 div.sk-estimator input.sk-toggleable__control:checked~label.sk-toggleable__label {background-color: #d4ebff;}#sk-container-id-1 div.sk-label input.sk-toggleable__control:checked~label.sk-toggleable__label {background-color: #d4ebff;}#sk-container-id-1 input.sk-hidden--visually {border: 0;clip: rect(1px 1px 1px 1px);clip: rect(1px, 1px, 1px, 1px);height: 1px;margin: -1px;overflow: hidden;padding: 0;position: absolute;width: 1px;}#sk-container-id-1 div.sk-estimator {font-family: monospace;background-color: #f0f8ff;border: 1px dotted black;border-radius: 0.25em;box-sizing: border-box;margin-bottom: 0.5em;}#sk-container-id-1 div.sk-estimator:hover {background-color: #d4ebff;}#sk-container-id-1 div.sk-parallel-item::after {content: \"\";width: 100%;border-bottom: 1px solid gray;flex-grow: 1;}#sk-container-id-1 div.sk-label:hover label.sk-toggleable__label {background-color: #d4ebff;}#sk-container-id-1 div.sk-serial::before {content: \"\";position: absolute;border-left: 1px solid gray;box-sizing: border-box;top: 0;bottom: 0;left: 50%;z-index: 0;}#sk-container-id-1 div.sk-serial {display: flex;flex-direction: column;align-items: center;background-color: white;padding-right: 0.2em;padding-left: 0.2em;position: relative;}#sk-container-id-1 div.sk-item {position: relative;z-index: 1;}#sk-container-id-1 div.sk-parallel {display: flex;align-items: stretch;justify-content: center;background-color: white;position: relative;}#sk-container-id-1 div.sk-item::before, #sk-container-id-1 div.sk-parallel-item::before {content: \"\";position: absolute;border-left: 1px solid gray;box-sizing: border-box;top: 0;bottom: 0;left: 50%;z-index: -1;}#sk-container-id-1 div.sk-parallel-item {display: flex;flex-direction: column;z-index: 1;position: relative;background-color: white;}#sk-container-id-1 div.sk-parallel-item:first-child::after {align-self: flex-end;width: 50%;}#sk-container-id-1 div.sk-parallel-item:last-child::after {align-self: flex-start;width: 50%;}#sk-container-id-1 div.sk-parallel-item:only-child::after {width: 0;}#sk-container-id-1 div.sk-dashed-wrapped {border: 1px dashed gray;margin: 0 0.4em 0.5em 0.4em;box-sizing: border-box;padding-bottom: 0.4em;background-color: white;}#sk-container-id-1 div.sk-label label {font-family: monospace;font-weight: bold;display: inline-block;line-height: 1.2em;}#sk-container-id-1 div.sk-label-container {text-align: center;}#sk-container-id-1 div.sk-container {/* jupyter's `normalize.less` sets `[hidden] { display: none; }` but bootstrap.min.css set `[hidden] { display: none !important; }` so we also need the `!important` here to be able to override the default hidden behavior on the sphinx rendered scikit-learn.org. See: https://github.com/scikit-learn/scikit-learn/issues/21755 */display: inline-block !important;position: relative;}#sk-container-id-1 div.sk-text-repr-fallback {display: none;}</style><div id=\"sk-container-id-1\" class=\"sk-top-container\"><div class=\"sk-text-repr-fallback\"><pre>GridSearchCV(cv=3,\n",
       "             estimator=Pipeline(steps=[(&#x27;FeatureEngineering&#x27;,\n",
       "                                        ColumnTransformer(transformers=[(&#x27;num&#x27;,\n",
       "                                                                         StandardScaler(),\n",
       "                                                                         [&#x27;age&#x27;,\n",
       "                                                                          &#x27;capital &#x27;\n",
       "                                                                          &#x27;net &#x27;\n",
       "                                                                          &#x27;gains &#x27;\n",
       "                                                                          &#x27;losses&#x27;,\n",
       "                                                                          &#x27;divdends &#x27;\n",
       "                                                                          &#x27;from &#x27;\n",
       "                                                                          &#x27;stocks&#x27;]),\n",
       "                                                                        (&#x27;cat&#x27;,\n",
       "                                                                         OneHotEncoder(),\n",
       "                                                                         [&#x27;weeks &#x27;\n",
       "                                                                          &#x27;worked &#x27;\n",
       "                                                                          &#x27;in &#x27;\n",
       "                                                                          &#x27;year&#x27;,\n",
       "                                                                          &#x27;num &#x27;\n",
       "                                                                          &#x27;persons &#x27;\n",
       "                                                                          &#x27;worked &#x27;\n",
       "                                                                          &#x27;for &#x27;\n",
       "                                                                          &#x27;employer&#x27;,\n",
       "                                                                          &#x27;own &#x27;\n",
       "                                                                          &#x27;business &#x27;\n",
       "                                                                          &#x27;or &#x27;\n",
       "                                                                          &#x27;self &#x27;\n",
       "                                                                          &#x27;employed&#x27;,\n",
       "                                                                          &#x27;veterans &#x27;\n",
       "                                                                          &#x27;benefits&#x27;,\n",
       "                                                                          &#x27;class &#x27;\n",
       "                                                                          &#x27;of &#x27;\n",
       "                                                                          &#x27;worker&#x27;...\n",
       "                                                                          &#x27;unemployment&#x27;,\n",
       "                                                                          &#x27;full &#x27;\n",
       "                                                                          &#x27;or &#x27;\n",
       "                                                                          &#x27;part &#x27;\n",
       "                                                                          &#x27;time &#x27;\n",
       "                                                                          &#x27;employment &#x27;\n",
       "                                                                          &#x27;stat&#x27;,\n",
       "                                                                          &#x27;detailed &#x27;\n",
       "                                                                          &#x27;household &#x27;\n",
       "                                                                          &#x27;summary &#x27;\n",
       "                                                                          &#x27;in &#x27;\n",
       "                                                                          &#x27;household&#x27;,\n",
       "                                                                          &#x27;live &#x27;\n",
       "                                                                          &#x27;in &#x27;\n",
       "                                                                          &#x27;this &#x27;\n",
       "                                                                          &#x27;house &#x27;\n",
       "                                                                          &#x27;1 &#x27;\n",
       "                                                                          &#x27;year &#x27;\n",
       "                                                                          &#x27;ago&#x27;,\n",
       "                                                                          &#x27;citizenship&#x27;])])),\n",
       "                                       (&#x27;GradientBooster&#x27;,\n",
       "                                        GradientBoostingClassifier())]),\n",
       "             param_grid={&#x27;GradientBooster__loss&#x27;: [&#x27;deviance&#x27;, &#x27;exponential&#x27;],\n",
       "                         &#x27;GradientBooster__n_estimators&#x27;: [100, 150]},\n",
       "             scoring=make_scorer(recall_score), verbose=2)</pre><b>In a Jupyter environment, please rerun this cell to show the HTML representation or trust the notebook. <br />On GitHub, the HTML representation is unable to render, please try loading this page with nbviewer.org.</b></div><div class=\"sk-container\" hidden><div class=\"sk-item sk-dashed-wrapped\"><div class=\"sk-label-container\"><div class=\"sk-label sk-toggleable\"><input class=\"sk-toggleable__control sk-hidden--visually\" id=\"sk-estimator-id-1\" type=\"checkbox\" ><label for=\"sk-estimator-id-1\" class=\"sk-toggleable__label sk-toggleable__label-arrow\">GridSearchCV</label><div class=\"sk-toggleable__content\"><pre>GridSearchCV(cv=3,\n",
       "             estimator=Pipeline(steps=[(&#x27;FeatureEngineering&#x27;,\n",
       "                                        ColumnTransformer(transformers=[(&#x27;num&#x27;,\n",
       "                                                                         StandardScaler(),\n",
       "                                                                         [&#x27;age&#x27;,\n",
       "                                                                          &#x27;capital &#x27;\n",
       "                                                                          &#x27;net &#x27;\n",
       "                                                                          &#x27;gains &#x27;\n",
       "                                                                          &#x27;losses&#x27;,\n",
       "                                                                          &#x27;divdends &#x27;\n",
       "                                                                          &#x27;from &#x27;\n",
       "                                                                          &#x27;stocks&#x27;]),\n",
       "                                                                        (&#x27;cat&#x27;,\n",
       "                                                                         OneHotEncoder(),\n",
       "                                                                         [&#x27;weeks &#x27;\n",
       "                                                                          &#x27;worked &#x27;\n",
       "                                                                          &#x27;in &#x27;\n",
       "                                                                          &#x27;year&#x27;,\n",
       "                                                                          &#x27;num &#x27;\n",
       "                                                                          &#x27;persons &#x27;\n",
       "                                                                          &#x27;worked &#x27;\n",
       "                                                                          &#x27;for &#x27;\n",
       "                                                                          &#x27;employer&#x27;,\n",
       "                                                                          &#x27;own &#x27;\n",
       "                                                                          &#x27;business &#x27;\n",
       "                                                                          &#x27;or &#x27;\n",
       "                                                                          &#x27;self &#x27;\n",
       "                                                                          &#x27;employed&#x27;,\n",
       "                                                                          &#x27;veterans &#x27;\n",
       "                                                                          &#x27;benefits&#x27;,\n",
       "                                                                          &#x27;class &#x27;\n",
       "                                                                          &#x27;of &#x27;\n",
       "                                                                          &#x27;worker&#x27;...\n",
       "                                                                          &#x27;unemployment&#x27;,\n",
       "                                                                          &#x27;full &#x27;\n",
       "                                                                          &#x27;or &#x27;\n",
       "                                                                          &#x27;part &#x27;\n",
       "                                                                          &#x27;time &#x27;\n",
       "                                                                          &#x27;employment &#x27;\n",
       "                                                                          &#x27;stat&#x27;,\n",
       "                                                                          &#x27;detailed &#x27;\n",
       "                                                                          &#x27;household &#x27;\n",
       "                                                                          &#x27;summary &#x27;\n",
       "                                                                          &#x27;in &#x27;\n",
       "                                                                          &#x27;household&#x27;,\n",
       "                                                                          &#x27;live &#x27;\n",
       "                                                                          &#x27;in &#x27;\n",
       "                                                                          &#x27;this &#x27;\n",
       "                                                                          &#x27;house &#x27;\n",
       "                                                                          &#x27;1 &#x27;\n",
       "                                                                          &#x27;year &#x27;\n",
       "                                                                          &#x27;ago&#x27;,\n",
       "                                                                          &#x27;citizenship&#x27;])])),\n",
       "                                       (&#x27;GradientBooster&#x27;,\n",
       "                                        GradientBoostingClassifier())]),\n",
       "             param_grid={&#x27;GradientBooster__loss&#x27;: [&#x27;deviance&#x27;, &#x27;exponential&#x27;],\n",
       "                         &#x27;GradientBooster__n_estimators&#x27;: [100, 150]},\n",
       "             scoring=make_scorer(recall_score), verbose=2)</pre></div></div></div><div class=\"sk-parallel\"><div class=\"sk-parallel-item\"><div class=\"sk-item\"><div class=\"sk-label-container\"><div class=\"sk-label sk-toggleable\"><input class=\"sk-toggleable__control sk-hidden--visually\" id=\"sk-estimator-id-2\" type=\"checkbox\" ><label for=\"sk-estimator-id-2\" class=\"sk-toggleable__label sk-toggleable__label-arrow\">estimator: Pipeline</label><div class=\"sk-toggleable__content\"><pre>Pipeline(steps=[(&#x27;FeatureEngineering&#x27;,\n",
       "                 ColumnTransformer(transformers=[(&#x27;num&#x27;, StandardScaler(),\n",
       "                                                  [&#x27;age&#x27;,\n",
       "                                                   &#x27;capital net gains losses&#x27;,\n",
       "                                                   &#x27;divdends from stocks&#x27;]),\n",
       "                                                 (&#x27;cat&#x27;, OneHotEncoder(),\n",
       "                                                  [&#x27;weeks worked in year&#x27;,\n",
       "                                                   &#x27;num persons worked for &#x27;\n",
       "                                                   &#x27;employer&#x27;,\n",
       "                                                   &#x27;own business or self &#x27;\n",
       "                                                   &#x27;employed&#x27;,\n",
       "                                                   &#x27;veterans benefits&#x27;,\n",
       "                                                   &#x27;class of worker&#x27;,\n",
       "                                                   &#x27;education&#x27;,\n",
       "                                                   &#x27;enrolled in edu inst last &#x27;\n",
       "                                                   &#x27;wk&#x27;,\n",
       "                                                   &#x27;marital status&#x27;,\n",
       "                                                   &#x27;major industry code&#x27;,\n",
       "                                                   &#x27;major occupation code&#x27;,\n",
       "                                                   &#x27;race&#x27;, &#x27;hispanic Origin&#x27;,\n",
       "                                                   &#x27;sex&#x27;,\n",
       "                                                   &#x27;member of a labor union&#x27;,\n",
       "                                                   &#x27;reason for unemployment&#x27;,\n",
       "                                                   &#x27;full or part time &#x27;\n",
       "                                                   &#x27;employment stat&#x27;,\n",
       "                                                   &#x27;detailed household summary &#x27;\n",
       "                                                   &#x27;in household&#x27;,\n",
       "                                                   &#x27;live in this house 1 year &#x27;\n",
       "                                                   &#x27;ago&#x27;,\n",
       "                                                   &#x27;citizenship&#x27;])])),\n",
       "                (&#x27;GradientBooster&#x27;, GradientBoostingClassifier())])</pre></div></div></div><div class=\"sk-serial\"><div class=\"sk-item\"><div class=\"sk-serial\"><div class=\"sk-item sk-dashed-wrapped\"><div class=\"sk-label-container\"><div class=\"sk-label sk-toggleable\"><input class=\"sk-toggleable__control sk-hidden--visually\" id=\"sk-estimator-id-3\" type=\"checkbox\" ><label for=\"sk-estimator-id-3\" class=\"sk-toggleable__label sk-toggleable__label-arrow\">FeatureEngineering: ColumnTransformer</label><div class=\"sk-toggleable__content\"><pre>ColumnTransformer(transformers=[(&#x27;num&#x27;, StandardScaler(),\n",
       "                                 [&#x27;age&#x27;, &#x27;capital net gains losses&#x27;,\n",
       "                                  &#x27;divdends from stocks&#x27;]),\n",
       "                                (&#x27;cat&#x27;, OneHotEncoder(),\n",
       "                                 [&#x27;weeks worked in year&#x27;,\n",
       "                                  &#x27;num persons worked for employer&#x27;,\n",
       "                                  &#x27;own business or self employed&#x27;,\n",
       "                                  &#x27;veterans benefits&#x27;, &#x27;class of worker&#x27;,\n",
       "                                  &#x27;education&#x27;, &#x27;enrolled in edu inst last wk&#x27;,\n",
       "                                  &#x27;marital status&#x27;, &#x27;major industry code&#x27;,\n",
       "                                  &#x27;major occupation code&#x27;, &#x27;race&#x27;,\n",
       "                                  &#x27;hispanic Origin&#x27;, &#x27;sex&#x27;,\n",
       "                                  &#x27;member of a labor union&#x27;,\n",
       "                                  &#x27;reason for unemployment&#x27;,\n",
       "                                  &#x27;full or part time employment stat&#x27;,\n",
       "                                  &#x27;detailed household summary in household&#x27;,\n",
       "                                  &#x27;live in this house 1 year ago&#x27;,\n",
       "                                  &#x27;citizenship&#x27;])])</pre></div></div></div><div class=\"sk-parallel\"><div class=\"sk-parallel-item\"><div class=\"sk-item\"><div class=\"sk-label-container\"><div class=\"sk-label sk-toggleable\"><input class=\"sk-toggleable__control sk-hidden--visually\" id=\"sk-estimator-id-4\" type=\"checkbox\" ><label for=\"sk-estimator-id-4\" class=\"sk-toggleable__label sk-toggleable__label-arrow\">num</label><div class=\"sk-toggleable__content\"><pre>[&#x27;age&#x27;, &#x27;capital net gains losses&#x27;, &#x27;divdends from stocks&#x27;]</pre></div></div></div><div class=\"sk-serial\"><div class=\"sk-item\"><div class=\"sk-estimator sk-toggleable\"><input class=\"sk-toggleable__control sk-hidden--visually\" id=\"sk-estimator-id-5\" type=\"checkbox\" ><label for=\"sk-estimator-id-5\" class=\"sk-toggleable__label sk-toggleable__label-arrow\">StandardScaler</label><div class=\"sk-toggleable__content\"><pre>StandardScaler()</pre></div></div></div></div></div></div><div class=\"sk-parallel-item\"><div class=\"sk-item\"><div class=\"sk-label-container\"><div class=\"sk-label sk-toggleable\"><input class=\"sk-toggleable__control sk-hidden--visually\" id=\"sk-estimator-id-6\" type=\"checkbox\" ><label for=\"sk-estimator-id-6\" class=\"sk-toggleable__label sk-toggleable__label-arrow\">cat</label><div class=\"sk-toggleable__content\"><pre>[&#x27;weeks worked in year&#x27;, &#x27;num persons worked for employer&#x27;, &#x27;own business or self employed&#x27;, &#x27;veterans benefits&#x27;, &#x27;class of worker&#x27;, &#x27;education&#x27;, &#x27;enrolled in edu inst last wk&#x27;, &#x27;marital status&#x27;, &#x27;major industry code&#x27;, &#x27;major occupation code&#x27;, &#x27;race&#x27;, &#x27;hispanic Origin&#x27;, &#x27;sex&#x27;, &#x27;member of a labor union&#x27;, &#x27;reason for unemployment&#x27;, &#x27;full or part time employment stat&#x27;, &#x27;detailed household summary in household&#x27;, &#x27;live in this house 1 year ago&#x27;, &#x27;citizenship&#x27;]</pre></div></div></div><div class=\"sk-serial\"><div class=\"sk-item\"><div class=\"sk-estimator sk-toggleable\"><input class=\"sk-toggleable__control sk-hidden--visually\" id=\"sk-estimator-id-7\" type=\"checkbox\" ><label for=\"sk-estimator-id-7\" class=\"sk-toggleable__label sk-toggleable__label-arrow\">OneHotEncoder</label><div class=\"sk-toggleable__content\"><pre>OneHotEncoder()</pre></div></div></div></div></div></div></div></div><div class=\"sk-item\"><div class=\"sk-estimator sk-toggleable\"><input class=\"sk-toggleable__control sk-hidden--visually\" id=\"sk-estimator-id-8\" type=\"checkbox\" ><label for=\"sk-estimator-id-8\" class=\"sk-toggleable__label sk-toggleable__label-arrow\">GradientBoostingClassifier</label><div class=\"sk-toggleable__content\"><pre>GradientBoostingClassifier()</pre></div></div></div></div></div></div></div></div></div></div></div></div>"
      ],
      "text/plain": [
       "GridSearchCV(cv=3,\n",
       "             estimator=Pipeline(steps=[('FeatureEngineering',\n",
       "                                        ColumnTransformer(transformers=[('num',\n",
       "                                                                         StandardScaler(),\n",
       "                                                                         ['age',\n",
       "                                                                          'capital '\n",
       "                                                                          'net '\n",
       "                                                                          'gains '\n",
       "                                                                          'losses',\n",
       "                                                                          'divdends '\n",
       "                                                                          'from '\n",
       "                                                                          'stocks']),\n",
       "                                                                        ('cat',\n",
       "                                                                         OneHotEncoder(),\n",
       "                                                                         ['weeks '\n",
       "                                                                          'worked '\n",
       "                                                                          'in '\n",
       "                                                                          'year',\n",
       "                                                                          'num '\n",
       "                                                                          'persons '\n",
       "                                                                          'worked '\n",
       "                                                                          'for '\n",
       "                                                                          'employer',\n",
       "                                                                          'own '\n",
       "                                                                          'business '\n",
       "                                                                          'or '\n",
       "                                                                          'self '\n",
       "                                                                          'employed',\n",
       "                                                                          'veterans '\n",
       "                                                                          'benefits',\n",
       "                                                                          'class '\n",
       "                                                                          'of '\n",
       "                                                                          'worker'...\n",
       "                                                                          'unemployment',\n",
       "                                                                          'full '\n",
       "                                                                          'or '\n",
       "                                                                          'part '\n",
       "                                                                          'time '\n",
       "                                                                          'employment '\n",
       "                                                                          'stat',\n",
       "                                                                          'detailed '\n",
       "                                                                          'household '\n",
       "                                                                          'summary '\n",
       "                                                                          'in '\n",
       "                                                                          'household',\n",
       "                                                                          'live '\n",
       "                                                                          'in '\n",
       "                                                                          'this '\n",
       "                                                                          'house '\n",
       "                                                                          '1 '\n",
       "                                                                          'year '\n",
       "                                                                          'ago',\n",
       "                                                                          'citizenship'])])),\n",
       "                                       ('GradientBooster',\n",
       "                                        GradientBoostingClassifier())]),\n",
       "             param_grid={'GradientBooster__loss': ['deviance', 'exponential'],\n",
       "                         'GradientBooster__n_estimators': [100, 150]},\n",
       "             scoring=make_scorer(recall_score), verbose=2)"
      ]
     },
     "execution_count": 50,
     "metadata": {},
     "output_type": "execute_result"
    }
   ],
   "source": [
    "from sklearn.model_selection import GridSearchCV\n",
    "from sklearn.metrics import recall_score, make_scorer\n",
    "\n",
    "# Create a param grid experimenting with different feature sets and parameters\n",
    "param_grid = {\n",
    "              #\"SMOTE__sampling_strategy\": [0.5, 1],\n",
    "              \"GradientBooster__loss\": ['log_loss', 'exponential'],\n",
    "              \"GradientBooster__n_estimators\": [100, 150],\n",
    "              }\n",
    "\n",
    "# Run a grid search with the pipeline\n",
    "# Use scoring parameter to maximize the recall score\n",
    "gs_pipeline = GridSearchCV(cv= 3, estimator= pipe_clf, param_grid=param_grid, verbose=1, scoring=make_scorer(recall_score))\n",
    "gs_pipeline.fit(X, y)\n"
   ]
  },
  {
   "cell_type": "code",
   "execution_count": 60,
   "metadata": {},
   "outputs": [],
   "source": [
    "from sklearn.metrics import recall_score, make_scorer, accuracy_score, f1_score"
   ]
  },
  {
   "cell_type": "code",
   "execution_count": 65,
   "metadata": {},
   "outputs": [
    {
     "name": "stdout",
     "output_type": "stream",
     "text": [
      "{'GradientBooster__loss': 'deviance', 'GradientBooster__n_estimators': 150}\n",
      "0.9553933902025842\n",
      "0.5423693953105717\n"
     ]
    }
   ],
   "source": [
    "best_model = gs_pipeline.best_estimator_\n",
    "print(gs_pipeline.best_params_)\n",
    "\n",
    "# Make predictions on our validation set and see recall score of best model\n",
    "y_validation_preds = best_model.predict(X_test)\n",
    "print(accuracy_score(y_test, y_validation_preds))\n",
    "print(f1_score(y_test, y_validation_preds) )\n"
   ]
  },
  {
   "cell_type": "code",
   "execution_count": 59,
   "metadata": {},
   "outputs": [
    {
     "data": {
      "text/plain": [
       "0    0.937942\n",
       "1    0.062058\n",
       "Name: income, dtype: float64"
      ]
     },
     "execution_count": 59,
     "metadata": {},
     "output_type": "execute_result"
    }
   ],
   "source": [
    "y.value_counts(normalize = True)"
   ]
  },
  {
   "cell_type": "code",
   "execution_count": 67,
   "metadata": {},
   "outputs": [
    {
     "data": {
      "image/png": "[encoded data removed]",
      "text/plain": [
       "<Figure size 640x480 with 2 Axes>"
      ]
     },
     "metadata": {},
     "output_type": "display_data"
    }
   ],
   "source": [
    "import matplotlib.pyplot as plt\n",
    "from sklearn.metrics import confusion_matrix, ConfusionMatrixDisplay\n",
    "\n",
    "cm = confusion_matrix(y_test, y_validation_preds, labels=best_model.classes_)\n",
    "disp = ConfusionMatrixDisplay(confusion_matrix=cm,\n",
    "                               display_labels=best_model.classes_)\n",
    "disp.plot()\n",
    "plt.show()"
   ]
  },
  {
   "cell_type": "code",
   "execution_count": 68,
   "metadata": {},
   "outputs": [
    {
     "data": {
      "text/plain": [
       "0.4262851600387973"
      ]
     },
     "execution_count": 68,
     "metadata": {},
     "output_type": "execute_result"
    }
   ],
   "source": [
    "recall_score(y_test, y_validation_preds)"
   ]
  },
  {
   "attachments": {},
   "cell_type": "markdown",
   "metadata": {},
   "source": [
    "Comparing our accuracy to the baseline we get a marginal gain. This could be sufficient for the problem at hand or perhaps we can improve things further. \n",
    "\n",
    "Accuracy is also not a great metric to use for problems with huge class imbalances. \n",
    "We can see here that although we are good at predicting our majority class correctly, we mislabel our minority class more often than not."
   ]
  },
  {
   "attachments": {},
   "cell_type": "markdown",
   "metadata": {},
   "source": [
    "Let's try to address our class imbalance"
   ]
  },
  {
   "cell_type": "code",
   "execution_count": 72,
   "metadata": {},
   "outputs": [],
   "source": [
    "from imblearn.under_sampling import RandomUnderSampler\n",
    "from imblearn.over_sampling import SMOTE"
   ]
  },
  {
   "cell_type": "code",
   "execution_count": 74,
   "metadata": {},
   "outputs": [
    {
     "name": "stdout",
     "output_type": "stream",
     "text": [
      "Fitting 3 folds for each of 4 candidates, totalling 12 fits\n"
     ]
    },
    {
     "data": {
      "text/html": [
       "<style>#sk-container-id-4 {color: black;background-color: white;}#sk-container-id-4 pre{padding: 0;}#sk-container-id-4 div.sk-toggleable {background-color: white;}#sk-container-id-4 label.sk-toggleable__label {cursor: pointer;display: block;width: 100%;margin-bottom: 0;padding: 0.3em;box-sizing: border-box;text-align: center;}#sk-container-id-4 label.sk-toggleable__label-arrow:before {content: \"▸\";float: left;margin-right: 0.25em;color: #696969;}#sk-container-id-4 label.sk-toggleable__label-arrow:hover:before {color: black;}#sk-container-id-4 div.sk-estimator:hover label.sk-toggleable__label-arrow:before {color: black;}#sk-container-id-4 div.sk-toggleable__content {max-height: 0;max-width: 0;overflow: hidden;text-align: left;background-color: #f0f8ff;}#sk-container-id-4 div.sk-toggleable__content pre {margin: 0.2em;color: black;border-radius: 0.25em;background-color: #f0f8ff;}#sk-container-id-4 input.sk-toggleable__control:checked~div.sk-toggleable__content {max-height: 200px;max-width: 100%;overflow: auto;}#sk-container-id-4 input.sk-toggleable__control:checked~label.sk-toggleable__label-arrow:before {content: \"▾\";}#sk-container-id-4 div.sk-estimator input.sk-toggleable__control:checked~label.sk-toggleable__label {background-color: #d4ebff;}#sk-container-id-4 div.sk-label input.sk-toggleable__control:checked~label.sk-toggleable__label {background-color: #d4ebff;}#sk-container-id-4 input.sk-hidden--visually {border: 0;clip: rect(1px 1px 1px 1px);clip: rect(1px, 1px, 1px, 1px);height: 1px;margin: -1px;overflow: hidden;padding: 0;position: absolute;width: 1px;}#sk-container-id-4 div.sk-estimator {font-family: monospace;background-color: #f0f8ff;border: 1px dotted black;border-radius: 0.25em;box-sizing: border-box;margin-bottom: 0.5em;}#sk-container-id-4 div.sk-estimator:hover {background-color: #d4ebff;}#sk-container-id-4 div.sk-parallel-item::after {content: \"\";width: 100%;border-bottom: 1px solid gray;flex-grow: 1;}#sk-container-id-4 div.sk-label:hover label.sk-toggleable__label {background-color: #d4ebff;}#sk-container-id-4 div.sk-serial::before {content: \"\";position: absolute;border-left: 1px solid gray;box-sizing: border-box;top: 0;bottom: 0;left: 50%;z-index: 0;}#sk-container-id-4 div.sk-serial {display: flex;flex-direction: column;align-items: center;background-color: white;padding-right: 0.2em;padding-left: 0.2em;position: relative;}#sk-container-id-4 div.sk-item {position: relative;z-index: 1;}#sk-container-id-4 div.sk-parallel {display: flex;align-items: stretch;justify-content: center;background-color: white;position: relative;}#sk-container-id-4 div.sk-item::before, #sk-container-id-4 div.sk-parallel-item::before {content: \"\";position: absolute;border-left: 1px solid gray;box-sizing: border-box;top: 0;bottom: 0;left: 50%;z-index: -1;}#sk-container-id-4 div.sk-parallel-item {display: flex;flex-direction: column;z-index: 1;position: relative;background-color: white;}#sk-container-id-4 div.sk-parallel-item:first-child::after {align-self: flex-end;width: 50%;}#sk-container-id-4 div.sk-parallel-item:last-child::after {align-self: flex-start;width: 50%;}#sk-container-id-4 div.sk-parallel-item:only-child::after {width: 0;}#sk-container-id-4 div.sk-dashed-wrapped {border: 1px dashed gray;margin: 0 0.4em 0.5em 0.4em;box-sizing: border-box;padding-bottom: 0.4em;background-color: white;}#sk-container-id-4 div.sk-label label {font-family: monospace;font-weight: bold;display: inline-block;line-height: 1.2em;}#sk-container-id-4 div.sk-label-container {text-align: center;}#sk-container-id-4 div.sk-container {/* jupyter's `normalize.less` sets `[hidden] { display: none; }` but bootstrap.min.css set `[hidden] { display: none !important; }` so we also need the `!important` here to be able to override the default hidden behavior on the sphinx rendered scikit-learn.org. See: https://github.com/scikit-learn/scikit-learn/issues/21755 */display: inline-block !important;position: relative;}#sk-container-id-4 div.sk-text-repr-fallback {display: none;}</style><div id=\"sk-container-id-4\" class=\"sk-top-container\"><div class=\"sk-text-repr-fallback\"><pre>GridSearchCV(cv=3,\n",
       "             estimator=Pipeline(steps=[(&#x27;FeatureEngineering&#x27;,\n",
       "                                        ColumnTransformer(transformers=[(&#x27;num&#x27;,\n",
       "                                                                         StandardScaler(),\n",
       "                                                                         [&#x27;age&#x27;,\n",
       "                                                                          &#x27;capital &#x27;\n",
       "                                                                          &#x27;net &#x27;\n",
       "                                                                          &#x27;gains &#x27;\n",
       "                                                                          &#x27;losses&#x27;,\n",
       "                                                                          &#x27;divdends &#x27;\n",
       "                                                                          &#x27;from &#x27;\n",
       "                                                                          &#x27;stocks&#x27;]),\n",
       "                                                                        (&#x27;cat&#x27;,\n",
       "                                                                         OneHotEncoder(),\n",
       "                                                                         [&#x27;weeks &#x27;\n",
       "                                                                          &#x27;worked &#x27;\n",
       "                                                                          &#x27;in &#x27;\n",
       "                                                                          &#x27;year&#x27;,\n",
       "                                                                          &#x27;num &#x27;\n",
       "                                                                          &#x27;persons &#x27;\n",
       "                                                                          &#x27;worked &#x27;\n",
       "                                                                          &#x27;for &#x27;\n",
       "                                                                          &#x27;employer&#x27;,\n",
       "                                                                          &#x27;own &#x27;\n",
       "                                                                          &#x27;business &#x27;\n",
       "                                                                          &#x27;or &#x27;\n",
       "                                                                          &#x27;self &#x27;\n",
       "                                                                          &#x27;employed&#x27;,\n",
       "                                                                          &#x27;veterans &#x27;\n",
       "                                                                          &#x27;benefits&#x27;,\n",
       "                                                                          &#x27;class &#x27;\n",
       "                                                                          &#x27;of &#x27;\n",
       "                                                                          &#x27;worker&#x27;...\n",
       "                                                                          &#x27;year &#x27;\n",
       "                                                                          &#x27;ago&#x27;,\n",
       "                                                                          &#x27;citizenship&#x27;])])),\n",
       "                                       (&#x27;SMOTE&#x27;, SMOTE()),\n",
       "                                       (&#x27;UNDER&#x27;, RandomUnderSampler()),\n",
       "                                       (&#x27;GradientBooster&#x27;,\n",
       "                                        GradientBoostingClassifier())]),\n",
       "             n_jobs=-1,\n",
       "             param_grid={&#x27;GradientBooster__loss&#x27;: [&#x27;log_loss&#x27;, &#x27;exponential&#x27;],\n",
       "                         &#x27;GradientBooster__n_estimators&#x27;: [150],\n",
       "                         &#x27;SMOTE__sampling_strategy&#x27;: [0.15, 0.2],\n",
       "                         &#x27;UNDER__sampling_strategy&#x27;: [0.5]},\n",
       "             scoring=make_scorer(f1_score), verbose=1)</pre><b>In a Jupyter environment, please rerun this cell to show the HTML representation or trust the notebook. <br />On GitHub, the HTML representation is unable to render, please try loading this page with nbviewer.org.</b></div><div class=\"sk-container\" hidden><div class=\"sk-item sk-dashed-wrapped\"><div class=\"sk-label-container\"><div class=\"sk-label sk-toggleable\"><input class=\"sk-toggleable__control sk-hidden--visually\" id=\"sk-estimator-id-23\" type=\"checkbox\" ><label for=\"sk-estimator-id-23\" class=\"sk-toggleable__label sk-toggleable__label-arrow\">GridSearchCV</label><div class=\"sk-toggleable__content\"><pre>GridSearchCV(cv=3,\n",
       "             estimator=Pipeline(steps=[(&#x27;FeatureEngineering&#x27;,\n",
       "                                        ColumnTransformer(transformers=[(&#x27;num&#x27;,\n",
       "                                                                         StandardScaler(),\n",
       "                                                                         [&#x27;age&#x27;,\n",
       "                                                                          &#x27;capital &#x27;\n",
       "                                                                          &#x27;net &#x27;\n",
       "                                                                          &#x27;gains &#x27;\n",
       "                                                                          &#x27;losses&#x27;,\n",
       "                                                                          &#x27;divdends &#x27;\n",
       "                                                                          &#x27;from &#x27;\n",
       "                                                                          &#x27;stocks&#x27;]),\n",
       "                                                                        (&#x27;cat&#x27;,\n",
       "                                                                         OneHotEncoder(),\n",
       "                                                                         [&#x27;weeks &#x27;\n",
       "                                                                          &#x27;worked &#x27;\n",
       "                                                                          &#x27;in &#x27;\n",
       "                                                                          &#x27;year&#x27;,\n",
       "                                                                          &#x27;num &#x27;\n",
       "                                                                          &#x27;persons &#x27;\n",
       "                                                                          &#x27;worked &#x27;\n",
       "                                                                          &#x27;for &#x27;\n",
       "                                                                          &#x27;employer&#x27;,\n",
       "                                                                          &#x27;own &#x27;\n",
       "                                                                          &#x27;business &#x27;\n",
       "                                                                          &#x27;or &#x27;\n",
       "                                                                          &#x27;self &#x27;\n",
       "                                                                          &#x27;employed&#x27;,\n",
       "                                                                          &#x27;veterans &#x27;\n",
       "                                                                          &#x27;benefits&#x27;,\n",
       "                                                                          &#x27;class &#x27;\n",
       "                                                                          &#x27;of &#x27;\n",
       "                                                                          &#x27;worker&#x27;...\n",
       "                                                                          &#x27;year &#x27;\n",
       "                                                                          &#x27;ago&#x27;,\n",
       "                                                                          &#x27;citizenship&#x27;])])),\n",
       "                                       (&#x27;SMOTE&#x27;, SMOTE()),\n",
       "                                       (&#x27;UNDER&#x27;, RandomUnderSampler()),\n",
       "                                       (&#x27;GradientBooster&#x27;,\n",
       "                                        GradientBoostingClassifier())]),\n",
       "             n_jobs=-1,\n",
       "             param_grid={&#x27;GradientBooster__loss&#x27;: [&#x27;log_loss&#x27;, &#x27;exponential&#x27;],\n",
       "                         &#x27;GradientBooster__n_estimators&#x27;: [150],\n",
       "                         &#x27;SMOTE__sampling_strategy&#x27;: [0.15, 0.2],\n",
       "                         &#x27;UNDER__sampling_strategy&#x27;: [0.5]},\n",
       "             scoring=make_scorer(f1_score), verbose=1)</pre></div></div></div><div class=\"sk-parallel\"><div class=\"sk-parallel-item\"><div class=\"sk-item\"><div class=\"sk-label-container\"><div class=\"sk-label sk-toggleable\"><input class=\"sk-toggleable__control sk-hidden--visually\" id=\"sk-estimator-id-24\" type=\"checkbox\" ><label for=\"sk-estimator-id-24\" class=\"sk-toggleable__label sk-toggleable__label-arrow\">estimator: Pipeline</label><div class=\"sk-toggleable__content\"><pre>Pipeline(steps=[(&#x27;FeatureEngineering&#x27;,\n",
       "                 ColumnTransformer(transformers=[(&#x27;num&#x27;, StandardScaler(),\n",
       "                                                  [&#x27;age&#x27;,\n",
       "                                                   &#x27;capital net gains losses&#x27;,\n",
       "                                                   &#x27;divdends from stocks&#x27;]),\n",
       "                                                 (&#x27;cat&#x27;, OneHotEncoder(),\n",
       "                                                  [&#x27;weeks worked in year&#x27;,\n",
       "                                                   &#x27;num persons worked for &#x27;\n",
       "                                                   &#x27;employer&#x27;,\n",
       "                                                   &#x27;own business or self &#x27;\n",
       "                                                   &#x27;employed&#x27;,\n",
       "                                                   &#x27;veterans benefits&#x27;,\n",
       "                                                   &#x27;class of worker&#x27;,\n",
       "                                                   &#x27;education&#x27;,\n",
       "                                                   &#x27;enrolled in edu inst last &#x27;\n",
       "                                                   &#x27;wk&#x27;,\n",
       "                                                   &#x27;marital status&#x27;,\n",
       "                                                   &#x27;major industry code&#x27;,\n",
       "                                                   &#x27;major occupation code&#x27;,\n",
       "                                                   &#x27;race&#x27;, &#x27;hispanic Origin&#x27;,\n",
       "                                                   &#x27;sex&#x27;,\n",
       "                                                   &#x27;member of a labor union&#x27;,\n",
       "                                                   &#x27;reason for unemployment&#x27;,\n",
       "                                                   &#x27;full or part time &#x27;\n",
       "                                                   &#x27;employment stat&#x27;,\n",
       "                                                   &#x27;detailed household summary &#x27;\n",
       "                                                   &#x27;in household&#x27;,\n",
       "                                                   &#x27;live in this house 1 year &#x27;\n",
       "                                                   &#x27;ago&#x27;,\n",
       "                                                   &#x27;citizenship&#x27;])])),\n",
       "                (&#x27;SMOTE&#x27;, SMOTE()), (&#x27;UNDER&#x27;, RandomUnderSampler()),\n",
       "                (&#x27;GradientBooster&#x27;, GradientBoostingClassifier())])</pre></div></div></div><div class=\"sk-serial\"><div class=\"sk-item\"><div class=\"sk-serial\"><div class=\"sk-item sk-dashed-wrapped\"><div class=\"sk-label-container\"><div class=\"sk-label sk-toggleable\"><input class=\"sk-toggleable__control sk-hidden--visually\" id=\"sk-estimator-id-25\" type=\"checkbox\" ><label for=\"sk-estimator-id-25\" class=\"sk-toggleable__label sk-toggleable__label-arrow\">FeatureEngineering: ColumnTransformer</label><div class=\"sk-toggleable__content\"><pre>ColumnTransformer(transformers=[(&#x27;num&#x27;, StandardScaler(),\n",
       "                                 [&#x27;age&#x27;, &#x27;capital net gains losses&#x27;,\n",
       "                                  &#x27;divdends from stocks&#x27;]),\n",
       "                                (&#x27;cat&#x27;, OneHotEncoder(),\n",
       "                                 [&#x27;weeks worked in year&#x27;,\n",
       "                                  &#x27;num persons worked for employer&#x27;,\n",
       "                                  &#x27;own business or self employed&#x27;,\n",
       "                                  &#x27;veterans benefits&#x27;, &#x27;class of worker&#x27;,\n",
       "                                  &#x27;education&#x27;, &#x27;enrolled in edu inst last wk&#x27;,\n",
       "                                  &#x27;marital status&#x27;, &#x27;major industry code&#x27;,\n",
       "                                  &#x27;major occupation code&#x27;, &#x27;race&#x27;,\n",
       "                                  &#x27;hispanic Origin&#x27;, &#x27;sex&#x27;,\n",
       "                                  &#x27;member of a labor union&#x27;,\n",
       "                                  &#x27;reason for unemployment&#x27;,\n",
       "                                  &#x27;full or part time employment stat&#x27;,\n",
       "                                  &#x27;detailed household summary in household&#x27;,\n",
       "                                  &#x27;live in this house 1 year ago&#x27;,\n",
       "                                  &#x27;citizenship&#x27;])])</pre></div></div></div><div class=\"sk-parallel\"><div class=\"sk-parallel-item\"><div class=\"sk-item\"><div class=\"sk-label-container\"><div class=\"sk-label sk-toggleable\"><input class=\"sk-toggleable__control sk-hidden--visually\" id=\"sk-estimator-id-26\" type=\"checkbox\" ><label for=\"sk-estimator-id-26\" class=\"sk-toggleable__label sk-toggleable__label-arrow\">num</label><div class=\"sk-toggleable__content\"><pre>[&#x27;age&#x27;, &#x27;capital net gains losses&#x27;, &#x27;divdends from stocks&#x27;]</pre></div></div></div><div class=\"sk-serial\"><div class=\"sk-item\"><div class=\"sk-estimator sk-toggleable\"><input class=\"sk-toggleable__control sk-hidden--visually\" id=\"sk-estimator-id-27\" type=\"checkbox\" ><label for=\"sk-estimator-id-27\" class=\"sk-toggleable__label sk-toggleable__label-arrow\">StandardScaler</label><div class=\"sk-toggleable__content\"><pre>StandardScaler()</pre></div></div></div></div></div></div><div class=\"sk-parallel-item\"><div class=\"sk-item\"><div class=\"sk-label-container\"><div class=\"sk-label sk-toggleable\"><input class=\"sk-toggleable__control sk-hidden--visually\" id=\"sk-estimator-id-28\" type=\"checkbox\" ><label for=\"sk-estimator-id-28\" class=\"sk-toggleable__label sk-toggleable__label-arrow\">cat</label><div class=\"sk-toggleable__content\"><pre>[&#x27;weeks worked in year&#x27;, &#x27;num persons worked for employer&#x27;, &#x27;own business or self employed&#x27;, &#x27;veterans benefits&#x27;, &#x27;class of worker&#x27;, &#x27;education&#x27;, &#x27;enrolled in edu inst last wk&#x27;, &#x27;marital status&#x27;, &#x27;major industry code&#x27;, &#x27;major occupation code&#x27;, &#x27;race&#x27;, &#x27;hispanic Origin&#x27;, &#x27;sex&#x27;, &#x27;member of a labor union&#x27;, &#x27;reason for unemployment&#x27;, &#x27;full or part time employment stat&#x27;, &#x27;detailed household summary in household&#x27;, &#x27;live in this house 1 year ago&#x27;, &#x27;citizenship&#x27;]</pre></div></div></div><div class=\"sk-serial\"><div class=\"sk-item\"><div class=\"sk-estimator sk-toggleable\"><input class=\"sk-toggleable__control sk-hidden--visually\" id=\"sk-estimator-id-29\" type=\"checkbox\" ><label for=\"sk-estimator-id-29\" class=\"sk-toggleable__label sk-toggleable__label-arrow\">OneHotEncoder</label><div class=\"sk-toggleable__content\"><pre>OneHotEncoder()</pre></div></div></div></div></div></div></div></div><div class=\"sk-item\"><div class=\"sk-estimator sk-toggleable\"><input class=\"sk-toggleable__control sk-hidden--visually\" id=\"sk-estimator-id-30\" type=\"checkbox\" ><label for=\"sk-estimator-id-30\" class=\"sk-toggleable__label sk-toggleable__label-arrow\">SMOTE</label><div class=\"sk-toggleable__content\"><pre>SMOTE()</pre></div></div></div><div class=\"sk-item\"><div class=\"sk-estimator sk-toggleable\"><input class=\"sk-toggleable__control sk-hidden--visually\" id=\"sk-estimator-id-31\" type=\"checkbox\" ><label for=\"sk-estimator-id-31\" class=\"sk-toggleable__label sk-toggleable__label-arrow\">RandomUnderSampler</label><div class=\"sk-toggleable__content\"><pre>RandomUnderSampler()</pre></div></div></div><div class=\"sk-item\"><div class=\"sk-estimator sk-toggleable\"><input class=\"sk-toggleable__control sk-hidden--visually\" id=\"sk-estimator-id-32\" type=\"checkbox\" ><label for=\"sk-estimator-id-32\" class=\"sk-toggleable__label sk-toggleable__label-arrow\">GradientBoostingClassifier</label><div class=\"sk-toggleable__content\"><pre>GradientBoostingClassifier()</pre></div></div></div></div></div></div></div></div></div></div></div></div>"
      ],
      "text/plain": [
       "GridSearchCV(cv=3,\n",
       "             estimator=Pipeline(steps=[('FeatureEngineering',\n",
       "                                        ColumnTransformer(transformers=[('num',\n",
       "                                                                         StandardScaler(),\n",
       "                                                                         ['age',\n",
       "                                                                          'capital '\n",
       "                                                                          'net '\n",
       "                                                                          'gains '\n",
       "                                                                          'losses',\n",
       "                                                                          'divdends '\n",
       "                                                                          'from '\n",
       "                                                                          'stocks']),\n",
       "                                                                        ('cat',\n",
       "                                                                         OneHotEncoder(),\n",
       "                                                                         ['weeks '\n",
       "                                                                          'worked '\n",
       "                                                                          'in '\n",
       "                                                                          'year',\n",
       "                                                                          'num '\n",
       "                                                                          'persons '\n",
       "                                                                          'worked '\n",
       "                                                                          'for '\n",
       "                                                                          'employer',\n",
       "                                                                          'own '\n",
       "                                                                          'business '\n",
       "                                                                          'or '\n",
       "                                                                          'self '\n",
       "                                                                          'employed',\n",
       "                                                                          'veterans '\n",
       "                                                                          'benefits',\n",
       "                                                                          'class '\n",
       "                                                                          'of '\n",
       "                                                                          'worker'...\n",
       "                                                                          'year '\n",
       "                                                                          'ago',\n",
       "                                                                          'citizenship'])])),\n",
       "                                       ('SMOTE', SMOTE()),\n",
       "                                       ('UNDER', RandomUnderSampler()),\n",
       "                                       ('GradientBooster',\n",
       "                                        GradientBoostingClassifier())]),\n",
       "             n_jobs=-1,\n",
       "             param_grid={'GradientBooster__loss': ['log_loss', 'exponential'],\n",
       "                         'GradientBooster__n_estimators': [150],\n",
       "                         'SMOTE__sampling_strategy': [0.15, 0.2],\n",
       "                         'UNDER__sampling_strategy': [0.5]},\n",
       "             scoring=make_scorer(f1_score), verbose=1)"
      ]
     },
     "execution_count": 74,
     "metadata": {},
     "output_type": "execute_result"
    }
   ],
   "source": [
    "pipe_clf = Pipeline([\n",
    "  (\n",
    "    \"FeatureEngineering\",\n",
    "    ColumnTransformer(\n",
    "        [\n",
    "          (\"num\", StandardScaler(), num_attribs),\n",
    "          (\"cat\", OneHotEncoder(), cat_attribs),\n",
    "        ],\n",
    "      \n",
    "    )\n",
    "  ),\n",
    "  (\"SMOTE\", SMOTE()),\n",
    "  (\"UNDER\", RandomUnderSampler()),\n",
    "  (\"GradientBooster\", GradientBoostingClassifier())\n",
    "])\n",
    "param_grid = {\n",
    "              \"SMOTE__sampling_strategy\": [0.15, 0.2],\n",
    "              \"UNDER__sampling_strategy\": [0.5],\n",
    "              \"GradientBooster__loss\": ['log_loss', 'exponential'],\n",
    "              \"GradientBooster__n_estimators\": [150],\n",
    "              }\n",
    "\n",
    "# Run a grid search with the pipeline\n",
    "# Use scoring parameter to maximize the recall score\n",
    "gs_pipeline = GridSearchCV(cv= 3, estimator= pipe_clf, param_grid=param_grid, verbose=1, scoring=make_scorer(f1_score), n_jobs= -1)\n",
    "gs_pipeline.fit(X, y)"
   ]
  },
  {
   "cell_type": "code",
   "execution_count": 75,
   "metadata": {},
   "outputs": [
    {
     "data": {
      "text/plain": [
       "0    0.937992\n",
       "1    0.062008\n",
       "Name: income, dtype: float64"
      ]
     },
     "execution_count": 75,
     "metadata": {},
     "output_type": "execute_result"
    }
   ],
   "source": [
    "y_test.value_counts(normalize = True)"
   ]
  },
  {
   "cell_type": "code",
   "execution_count": 76,
   "metadata": {},
   "outputs": [
    {
     "name": "stdout",
     "output_type": "stream",
     "text": [
      "{'GradientBooster__loss': 'log_loss', 'GradientBooster__n_estimators': 150, 'SMOTE__sampling_strategy': 0.2, 'UNDER__sampling_strategy': 0.5}\n",
      "accuracy 0.9328294624151723\n",
      "f1 0.5677610785009354\n"
     ]
    },
    {
     "data": {
      "image/png": "[encoded data removed]",
      "text/plain": [
       "<Figure size 640x480 with 2 Axes>"
      ]
     },
     "metadata": {},
     "output_type": "display_data"
    }
   ],
   "source": [
    "best_model_smote = gs_pipeline.best_estimator_\n",
    "print(gs_pipeline.best_params_)\n",
    "\n",
    "# Make predictions on our validation set and see recall score of best model\n",
    "y_validation_preds = best_model_smote.predict(X_test)\n",
    "print(\"accuracy\", accuracy_score(y_test, y_validation_preds))\n",
    "print(\"f1\", f1_score(y_test, y_validation_preds) )\n",
    "\n",
    "cm = confusion_matrix(y_test, y_validation_preds, labels=best_model_smote.classes_)\n",
    "disp = ConfusionMatrixDisplay(confusion_matrix=cm,\n",
    "                               display_labels=best_model_smote.classes_)\n",
    "disp.plot()\n",
    "plt.show()"
   ]
  },
  {
   "cell_type": "code",
   "execution_count": 77,
   "metadata": {},
   "outputs": [
    {
     "data": {
      "text/plain": [
       "0.7114451988360815"
      ]
     },
     "execution_count": 77,
     "metadata": {},
     "output_type": "execute_result"
    }
   ],
   "source": [
    "recall_score(y_test, y_validation_preds)"
   ]
  },
  {
   "attachments": {},
   "cell_type": "markdown",
   "metadata": {},
   "source": [
    "Okay so we sacrificed some accuracy but improved Recall significantly. Time to compare some out of the box models"
   ]
  },
  {
   "cell_type": "code",
   "execution_count": 84,
   "metadata": {},
   "outputs": [],
   "source": [
    "from sklearn.tree import DecisionTreeClassifier\n",
    "from sklearn.linear_model import LogisticRegression\n",
    "from sklearn.svm import SVC \n",
    "\n",
    "svc_clf = SVC()\n",
    "\n",
    "logreg = LogisticRegression(penalty = 'l2', )\n",
    "\n",
    "dectreeclf = DecisionTreeClassifier(max_features=14,min_samples_leaf=100,random_state=10)\n",
    "\n",
    "from xgboost import XGBClassifier\n",
    "\n",
    "xgboostclf= XGBClassifier()\n",
    "\n",
    "from catboost import CatBoostClassifier\n",
    "\n",
    "catboostclf= CatBoostClassifier(learning_rate=0.04)\n",
    "\n",
    "#import lightgbm as lgb\n",
    "\n",
    "#lgb_clf = lgb()\n"
   ]
  },
  {
   "cell_type": "code",
   "execution_count": 86,
   "metadata": {},
   "outputs": [],
   "source": [
    "models = {\"XGBoost\" : {\"params\": {},\n",
    "                        \"model\": xgboostclf},\n",
    "          \"LOGREG\": {\"params\": {},\n",
    "                        \"model\": logreg},\n",
    "           \"SVC_clf\": {\"params\": {},\n",
    "                        \"model\": svc_clf},\n",
    "           \"DECTREE\": {\"params\": {},\n",
    "                        \"model\": dectreeclf}\n",
    "}"
   ]
  },
  {
   "cell_type": "code",
   "execution_count": null,
   "metadata": {},
   "outputs": [],
   "source": []
  },
  {
   "cell_type": "code",
   "execution_count": 92,
   "metadata": {},
   "outputs": [
    {
     "name": "stdout",
     "output_type": "stream",
     "text": [
      "XGBoost__\n",
      "LOGREG__\n",
      "SVC_clf__\n",
      "DECTREE__\n"
     ]
    }
   ],
   "source": [
    "for x in models:\n",
    "    print(x + '__')"
   ]
  },
  {
   "cell_type": "code",
   "execution_count": 124,
   "metadata": {},
   "outputs": [],
   "source": [
    "import time\n",
    "from typing import Any, Callable, Optional\n",
    "\n",
    "def timed(func: Callable[[Any], Any]):\n",
    "    \"\"\"Simple decorator that print wall time for a given function.\"\"\"\n",
    "\n",
    "    def _inner(*args: Optional[Any], **kwargs: Optional[Any]) -> Any:\n",
    "        print(f\"Starting process '{func}'...\")\n",
    "        started = time.time()\n",
    "        response = func(*args, **kwargs)\n",
    "        ended = time.time()\n",
    "        print(f\"Finished process '{func}' in {ended - started:.2f}s\")\n",
    "        return response\n",
    "\n",
    "    return _inner\n",
    "\n",
    "@timed\n",
    "def run_model(modelname, verbosity = 1):\n",
    "\n",
    "  pipe_clf = Pipeline([\n",
    "    (\n",
    "      \"FeatureEngineering\",\n",
    "      ColumnTransformer(\n",
    "          [\n",
    "            (\"num\", StandardScaler(), num_attribs),\n",
    "            (\"cat\", OneHotEncoder(), cat_attribs),\n",
    "          ],\n",
    "        \n",
    "      )\n",
    "    ),\n",
    "    (\"SMOTE\", SMOTE()),\n",
    "    (\"UNDER\", RandomUnderSampler()),\n",
    "    (modelname, models[modelname][\"model\"])\n",
    "  ])\n",
    "  param_grid = {\n",
    "                \"SMOTE__sampling_strategy\": [0.2],\n",
    "                \"UNDER__sampling_strategy\": [0.5],\n",
    "                }\n",
    "  param_grid.update(models[modelname][\"params\"])\n",
    "  \n",
    "  skf = StratifiedKFold(n_splits=3, shuffle=True, random_state=42)\n",
    "\n",
    "  # Run a grid search with the pipeline\n",
    "  # Use scoring parameter to maximize the recall score\n",
    "  gs_pipeline = GridSearchCV(cv= skf, estimator= pipe_clf, param_grid=param_grid, verbose=verbosity, scoring=make_scorer(f1_score), n_jobs= -1)\n",
    "  gs_pipeline.fit(X, y)\n",
    "\n",
    "  models[modelname][\"best_model\"] = gs_pipeline.best_estimator_\n",
    "  models[modelname][\"best_model_params\"] = gs_pipeline.best_params_\n",
    "\n",
    "  # Make predictions on our validation set and see recall score of best model\n",
    "  models[modelname][\"y_validation_preds\"] = models[modelname][\"best_model\"].predict(X_test)\n",
    "  models[modelname][\"accuracy\"] =  accuracy_score(y_test, models[modelname][\"y_validation_preds\"])\n",
    "  models[modelname][\"f1\"] = f1_score(y_test, models[modelname][\"y_validation_preds\"]) \n",
    "\n",
    "  cm = confusion_matrix(y_test, models[modelname][\"y_validation_preds\"], labels=models[modelname][\"best_model\"].classes_)\n",
    "  models[modelname][\"confusion_matrix\"] = ConfusionMatrixDisplay(confusion_matrix=cm,\n",
    "                                                                display_labels=models[modelname][\"best_model\"].classes_)\n",
    "  models[modelname][\"confusion_matrix\"].plot()\n",
    "  plt.show()\n",
    "\n",
    "\n",
    "\n",
    "\n"
   ]
  },
  {
   "cell_type": "code",
   "execution_count": 106,
   "metadata": {},
   "outputs": [
    {
     "name": "stdout",
     "output_type": "stream",
     "text": [
      "Fitting 3 folds for each of 1 candidates, totalling 3 fits\n"
     ]
    },
    {
     "data": {
      "image/png": "[encoded data removed]",
      "text/plain": [
       "<Figure size 640x480 with 2 Axes>"
      ]
     },
     "metadata": {},
     "output_type": "display_data"
    },
    {
     "name": "stdout",
     "output_type": "stream",
     "text": [
      "Fitting 3 folds for each of 1 candidates, totalling 3 fits\n"
     ]
    },
    {
     "name": "stderr",
     "output_type": "stream",
     "text": [
      "/Users/alexdcruz/dataiku_task/.venv/lib/python3.8/site-packages/sklearn/linear_model/_logistic.py:458: ConvergenceWarning: lbfgs failed to converge (status=1):\n",
      "STOP: TOTAL NO. of ITERATIONS REACHED LIMIT.\n",
      "\n",
      "Increase the number of iterations (max_iter) or scale the data as shown in:\n",
      "    https://scikit-learn.org/stable/modules/preprocessing.html\n",
      "Please also refer to the documentation for alternative solver options:\n",
      "    https://scikit-learn.org/stable/modules/linear_model.html#logistic-regression\n",
      "  n_iter_i = _check_optimize_result(\n",
      "/Users/alexdcruz/dataiku_task/.venv/lib/python3.8/site-packages/sklearn/linear_model/_logistic.py:458: ConvergenceWarning: lbfgs failed to converge (status=1):\n",
      "STOP: TOTAL NO. of ITERATIONS REACHED LIMIT.\n",
      "\n",
      "Increase the number of iterations (max_iter) or scale the data as shown in:\n",
      "    https://scikit-learn.org/stable/modules/preprocessing.html\n",
      "Please also refer to the documentation for alternative solver options:\n",
      "    https://scikit-learn.org/stable/modules/linear_model.html#logistic-regression\n",
      "  n_iter_i = _check_optimize_result(\n",
      "/Users/alexdcruz/dataiku_task/.venv/lib/python3.8/site-packages/sklearn/linear_model/_logistic.py:458: ConvergenceWarning: lbfgs failed to converge (status=1):\n",
      "STOP: TOTAL NO. of ITERATIONS REACHED LIMIT.\n",
      "\n",
      "Increase the number of iterations (max_iter) or scale the data as shown in:\n",
      "    https://scikit-learn.org/stable/modules/preprocessing.html\n",
      "Please also refer to the documentation for alternative solver options:\n",
      "    https://scikit-learn.org/stable/modules/linear_model.html#logistic-regression\n",
      "  n_iter_i = _check_optimize_result(\n",
      "/Users/alexdcruz/dataiku_task/.venv/lib/python3.8/site-packages/sklearn/linear_model/_logistic.py:458: ConvergenceWarning: lbfgs failed to converge (status=1):\n",
      "STOP: TOTAL NO. of ITERATIONS REACHED LIMIT.\n",
      "\n",
      "Increase the number of iterations (max_iter) or scale the data as shown in:\n",
      "    https://scikit-learn.org/stable/modules/preprocessing.html\n",
      "Please also refer to the documentation for alternative solver options:\n",
      "    https://scikit-learn.org/stable/modules/linear_model.html#logistic-regression\n",
      "  n_iter_i = _check_optimize_result(\n"
     ]
    },
    {
     "data": {
      "image/png": "[encoded data removed]",
      "text/plain": [
       "<Figure size 640x480 with 2 Axes>"
      ]
     },
     "metadata": {},
     "output_type": "display_data"
    },
    {
     "name": "stdout",
     "output_type": "stream",
     "text": [
      "Fitting 3 folds for each of 1 candidates, totalling 3 fits\n"
     ]
    },
    {
     "data": {
      "image/png": "[encoded data removed]",
      "text/plain": [
       "<Figure size 640x480 with 2 Axes>"
      ]
     },
     "metadata": {},
     "output_type": "display_data"
    },
    {
     "name": "stdout",
     "output_type": "stream",
     "text": [
      "Fitting 3 folds for each of 1 candidates, totalling 3 fits\n"
     ]
    },
    {
     "data": {
      "image/png": "[encoded data removed]",
      "text/plain": [
       "<Figure size 640x480 with 2 Axes>"
      ]
     },
     "metadata": {},
     "output_type": "display_data"
    },
    {
     "name": "stdout",
     "output_type": "stream",
     "text": [
      "{'XGBoost': {'params': {}, 'model': XGBClassifier(base_score=None, booster=None, callbacks=None,\n",
      "              colsample_bylevel=None, colsample_bynode=None,\n",
      "              colsample_bytree=None, early_stopping_rounds=None,\n",
      "              enable_categorical=False, eval_metric=None, feature_types=None,\n",
      "              gamma=None, gpu_id=None, grow_policy=None, importance_type=None,\n",
      "              interaction_constraints=None, learning_rate=None, max_bin=None,\n",
      "              max_cat_threshold=None, max_cat_to_onehot=None,\n",
      "              max_delta_step=None, max_depth=None, max_leaves=None,\n",
      "              min_child_weight=None, missing=nan, monotone_constraints=None,\n",
      "              n_estimators=100, n_jobs=None, num_parallel_tree=None,\n",
      "              predictor=None, random_state=None, ...), 'best_model': Pipeline(steps=[('FeatureEngineering',\n",
      "                 ColumnTransformer(transformers=[('num', StandardScaler(),\n",
      "                                                  ['age',\n",
      "                                                   'capital net gains losses',\n",
      "                                                   'divdends from stocks']),\n",
      "                                                 ('cat', OneHotEncoder(),\n",
      "                                                  ['weeks worked in year',\n",
      "                                                   'num persons worked for '\n",
      "                                                   'employer',\n",
      "                                                   'own business or self '\n",
      "                                                   'employed',\n",
      "                                                   'veterans benefits',\n",
      "                                                   'class of worker',\n",
      "                                                   'education',\n",
      "                                                   'enrolled in edu inst last '\n",
      "                                                   'wk',\n",
      "                                                   'marital status',\n",
      "                                                   'majo...\n",
      "                               feature_types=None, gamma=None, gpu_id=None,\n",
      "                               grow_policy=None, importance_type=None,\n",
      "                               interaction_constraints=None, learning_rate=None,\n",
      "                               max_bin=None, max_cat_threshold=None,\n",
      "                               max_cat_to_onehot=None, max_delta_step=None,\n",
      "                               max_depth=None, max_leaves=None,\n",
      "                               min_child_weight=None, missing=nan,\n",
      "                               monotone_constraints=None, n_estimators=100,\n",
      "                               n_jobs=None, num_parallel_tree=None,\n",
      "                               predictor=None, random_state=None, ...))]), 'best_model_params': {'SMOTE__sampling_strategy': 0.2, 'UNDER__sampling_strategy': 0.5}, 'y_validation_preds': array([0, 0, 0, ..., 0, 0, 0]), 'accuracy': 0.9447278996802357, 'f1': 0.6029094051562724, 'confusion_matrix': <sklearn.metrics._plot.confusion_matrix.ConfusionMatrixDisplay object at 0x12b38bd90>}, 'LOGREG': {'params': {}, 'model': LogisticRegression(), 'best_model': Pipeline(steps=[('FeatureEngineering',\n",
      "                 ColumnTransformer(transformers=[('num', StandardScaler(),\n",
      "                                                  ['age',\n",
      "                                                   'capital net gains losses',\n",
      "                                                   'divdends from stocks']),\n",
      "                                                 ('cat', OneHotEncoder(),\n",
      "                                                  ['weeks worked in year',\n",
      "                                                   'num persons worked for '\n",
      "                                                   'employer',\n",
      "                                                   'own business or self '\n",
      "                                                   'employed',\n",
      "                                                   'veterans benefits',\n",
      "                                                   'class of worker',\n",
      "                                                   'education',\n",
      "                                                   'enrolled in edu inst last '\n",
      "                                                   'wk',\n",
      "                                                   'marital status',\n",
      "                                                   'majo...ry code',\n",
      "                                                   'major occupation code',\n",
      "                                                   'race', 'hispanic Origin',\n",
      "                                                   'sex',\n",
      "                                                   'member of a labor union',\n",
      "                                                   'reason for unemployment',\n",
      "                                                   'full or part time '\n",
      "                                                   'employment stat',\n",
      "                                                   'detailed household summary '\n",
      "                                                   'in household',\n",
      "                                                   'live in this house 1 year '\n",
      "                                                   'ago',\n",
      "                                                   'citizenship'])])),\n",
      "                ('SMOTE', SMOTE(sampling_strategy=0.2)),\n",
      "                ('UNDER', RandomUnderSampler(sampling_strategy=0.5)),\n",
      "                ('LOGREG', LogisticRegression())]), 'best_model_params': {'SMOTE__sampling_strategy': 0.2, 'UNDER__sampling_strategy': 0.5}, 'y_validation_preds': array([0, 0, 0, ..., 0, 1, 0]), 'accuracy': 0.9000611461392729, 'f1': 0.4960064705287635, 'confusion_matrix': <sklearn.metrics._plot.confusion_matrix.ConfusionMatrixDisplay object at 0x12ac1daf0>}, 'SVC_clf': {'params': {}, 'model': SVC(), 'best_model': Pipeline(steps=[('FeatureEngineering',\n",
      "                 ColumnTransformer(transformers=[('num', StandardScaler(),\n",
      "                                                  ['age',\n",
      "                                                   'capital net gains losses',\n",
      "                                                   'divdends from stocks']),\n",
      "                                                 ('cat', OneHotEncoder(),\n",
      "                                                  ['weeks worked in year',\n",
      "                                                   'num persons worked for '\n",
      "                                                   'employer',\n",
      "                                                   'own business or self '\n",
      "                                                   'employed',\n",
      "                                                   'veterans benefits',\n",
      "                                                   'class of worker',\n",
      "                                                   'education',\n",
      "                                                   'enrolled in edu inst last '\n",
      "                                                   'wk',\n",
      "                                                   'marital status',\n",
      "                                                   'major industry code',\n",
      "                                                   'major occupation code',\n",
      "                                                   'race', 'hispanic Origin',\n",
      "                                                   'sex',\n",
      "                                                   'member of a labor union',\n",
      "                                                   'reason for unemployment',\n",
      "                                                   'full or part time '\n",
      "                                                   'employment stat',\n",
      "                                                   'detailed household summary '\n",
      "                                                   'in household',\n",
      "                                                   'live in this house 1 year '\n",
      "                                                   'ago',\n",
      "                                                   'citizenship'])])),\n",
      "                ('SMOTE', SMOTE(sampling_strategy=0.2)),\n",
      "                ('UNDER', RandomUnderSampler(sampling_strategy=0.5)),\n",
      "                ('SVC_clf', SVC())]), 'best_model_params': {'SMOTE__sampling_strategy': 0.2, 'UNDER__sampling_strategy': 0.5}, 'y_validation_preds': array([0, 0, 0, ..., 0, 1, 0]), 'accuracy': 0.9155782319744189, 'f1': 0.5343874391862008, 'confusion_matrix': <sklearn.metrics._plot.confusion_matrix.ConfusionMatrixDisplay object at 0x128953cd0>}, 'DECTREE': {'params': {}, 'model': DecisionTreeClassifier(max_features=14, min_samples_leaf=100, random_state=10), 'best_model': Pipeline(steps=[('FeatureEngineering',\n",
      "                 ColumnTransformer(transformers=[('num', StandardScaler(),\n",
      "                                                  ['age',\n",
      "                                                   'capital net gains losses',\n",
      "                                                   'divdends from stocks']),\n",
      "                                                 ('cat', OneHotEncoder(),\n",
      "                                                  ['weeks worked in year',\n",
      "                                                   'num persons worked for '\n",
      "                                                   'employer',\n",
      "                                                   'own business or self '\n",
      "                                                   'employed',\n",
      "                                                   'veterans benefits',\n",
      "                                                   'class of worker',\n",
      "                                                   'education',\n",
      "                                                   'enrolled in edu inst last '\n",
      "                                                   'wk',\n",
      "                                                   'marital status',\n",
      "                                                   'majo...\n",
      "                                                   'sex',\n",
      "                                                   'member of a labor union',\n",
      "                                                   'reason for unemployment',\n",
      "                                                   'full or part time '\n",
      "                                                   'employment stat',\n",
      "                                                   'detailed household summary '\n",
      "                                                   'in household',\n",
      "                                                   'live in this house 1 year '\n",
      "                                                   'ago',\n",
      "                                                   'citizenship'])])),\n",
      "                ('SMOTE', SMOTE(sampling_strategy=0.2)),\n",
      "                ('UNDER', RandomUnderSampler(sampling_strategy=0.5)),\n",
      "                ('DECTREE',\n",
      "                 DecisionTreeClassifier(max_features=14, min_samples_leaf=100,\n",
      "                                        random_state=10))]), 'best_model_params': {'SMOTE__sampling_strategy': 0.2, 'UNDER__sampling_strategy': 0.5}, 'y_validation_preds': array([0, 0, 0, ..., 0, 0, 0]), 'accuracy': 0.8957007247321097, 'f1': 0.45657283125293785, 'confusion_matrix': <sklearn.metrics._plot.confusion_matrix.ConfusionMatrixDisplay object at 0x11a876e20>}}\n"
     ]
    }
   ],
   "source": [
    "for model in models:\n",
    "    run_model(model)\n",
    "print(models)"
   ]
  },
  {
   "cell_type": "code",
   "execution_count": 110,
   "metadata": {},
   "outputs": [
    {
     "name": "stdout",
     "output_type": "stream",
     "text": [
      "XGBoost 0.9447278996802357 0.6029094051562724\n",
      "LOGREG 0.9000611461392729 0.4960064705287635\n",
      "SVC_clf 0.9155782319744189 0.5343874391862008\n",
      "DECTREE 0.8957007247321097 0.45657283125293785\n"
     ]
    }
   ],
   "source": [
    "for model in models:\n",
    "    print(model, models[model]['accuracy'], models[model]['f1'])"
   ]
  },
  {
   "cell_type": "code",
   "execution_count": 111,
   "metadata": {},
   "outputs": [
    {
     "data": {
      "text/plain": [
       "<sklearn.metrics._plot.confusion_matrix.ConfusionMatrixDisplay at 0x12b38bd90>"
      ]
     },
     "execution_count": 111,
     "metadata": {},
     "output_type": "execute_result"
    },
    {
     "data": {
      "image/png": "[encoded data removed]",
      "text/plain": [
       "<Figure size 640x480 with 2 Axes>"
      ]
     },
     "metadata": {},
     "output_type": "display_data"
    }
   ],
   "source": [
    "models['XGBoost']['confusion_matrix'].plot()"
   ]
  },
  {
   "attachments": {},
   "cell_type": "markdown",
   "metadata": {},
   "source": [
    "The untuned XGBoost model has good accuracy and F1 score so let's tune and try to improve things further."
   ]
  },
  {
   "cell_type": "code",
   "execution_count": 116,
   "metadata": {},
   "outputs": [],
   "source": [
    "models[\"XGBoost\"]['params'] = { 'max_depth': [3,6,10],\n",
    "                               'learning_rate': [0.01, 0.05, 0.1],\n",
    "                               'n_estimators': [100, 500, 1000],\n",
    "                               'colsample_bytree': [0.3, 0.7]\n",
    "                               }"
   ]
  },
  {
   "cell_type": "code",
   "execution_count": 120,
   "metadata": {},
   "outputs": [],
   "source": [
    "models[\"XGBoost\"][\"model\"] = XGBClassifier(random_state = 42)"
   ]
  },
  {
   "cell_type": "code",
   "execution_count": 125,
   "metadata": {},
   "outputs": [],
   "source": [
    "from pickle import dump, load"
   ]
  },
  {
   "cell_type": "code",
   "execution_count": 126,
   "metadata": {},
   "outputs": [],
   "source": [
    "filename = \"trained_model.sav\"\n",
    "dump([model, X, X_test, y, y_test], open(filename, 'wb'))"
   ]
  },
  {
   "cell_type": "code",
   "execution_count": 127,
   "metadata": {},
   "outputs": [
    {
     "ename": "ModuleNotFoundError",
     "evalue": "No module named 'shap'",
     "output_type": "error",
     "traceback": [
      "\u001b[0;31m---------------------------------------------------------------------------\u001b[0m",
      "\u001b[0;31mModuleNotFoundError\u001b[0m                       Traceback (most recent call last)",
      "Cell \u001b[0;32mIn[127], line 1\u001b[0m\n\u001b[0;32m----> 1\u001b[0m \u001b[39mimport\u001b[39;00m \u001b[39mshap\u001b[39;00m\n",
      "\u001b[0;31mModuleNotFoundError\u001b[0m: No module named 'shap'"
     ]
    }
   ],
   "source": [
    "import shap"
   ]
  },
  {
   "cell_type": "code",
   "execution_count": 161,
   "metadata": {},
   "outputs": [],
   "source": [
    "new_cat_attribs = models[\"XGBoost\"][\"best_model\"].named_steps[\"FeatureEngineering\"]\\\n",
    ".named_transformers_[\"cat\"].get_feature_names_out(cat_attribs)\n",
    "# concatenate categorical columns with numerical columns to get all columns names\n",
    "all_cols = np.concatenate([num_attribs, new_cat_attribs])\n"
   ]
  },
  {
   "cell_type": "code",
   "execution_count": 191,
   "metadata": {},
   "outputs": [],
   "source": [
    "import seaborn as sns\n",
    "from sklearn.inspection import permutation_importance"
   ]
  },
  {
   "cell_type": "code",
   "execution_count": 172,
   "metadata": {},
   "outputs": [
    {
     "data": {
      "text/html": [
       "<div>\n",
       "<style scoped>\n",
       "    .dataframe tbody tr th:only-of-type {\n",
       "        vertical-align: middle;\n",
       "    }\n",
       "\n",
       "    .dataframe tbody tr th {\n",
       "        vertical-align: top;\n",
       "    }\n",
       "\n",
       "    .dataframe thead th {\n",
       "        text-align: right;\n",
       "    }\n",
       "</style>\n",
       "<table border=\"1\" class=\"dataframe\">\n",
       "  <thead>\n",
       "    <tr style=\"text-align: right;\">\n",
       "      <th></th>\n",
       "      <th>feature</th>\n",
       "      <th>importance</th>\n",
       "      <th>abs_importance</th>\n",
       "      <th>colors</th>\n",
       "    </tr>\n",
       "  </thead>\n",
       "  <tbody>\n",
       "  </tbody>\n",
       "</table>\n",
       "</div>"
      ],
      "text/plain": [
       "Empty DataFrame\n",
       "Columns: [feature, importance, abs_importance, colors]\n",
       "Index: []"
      ]
     },
     "execution_count": 172,
     "metadata": {},
     "output_type": "execute_result"
    }
   ],
   "source": [
    "importance_df[importance_df[\"colors\"] == \"red\"]"
   ]
  },
  {
   "cell_type": "code",
   "execution_count": 199,
   "metadata": {},
   "outputs": [],
   "source": [
    "def plot_feature_importances(model, svc_kernel = \"linear\"):\n",
    "    '''\n",
    "    Plots feature importances for XGBoost, DECTREE and LOGREG.\n",
    "    Will try to generate coefs for SVC if the kernel is set to linear\n",
    "    If kernel set to rbf use permutation importance for SVC_clf but warning that this takes a long time and computationally exp.\n",
    "    '''\n",
    "    new_cat_attribs = models[model][\"best_model\"].named_steps[\"FeatureEngineering\"]\\\n",
    "    .named_transformers_[\"cat\"].get_feature_names_out(cat_attribs)\n",
    "    # concatenate categorical columns with numerical columns to get all columns names\n",
    "    all_cols = np.concatenate([num_attribs, new_cat_attribs])\n",
    "    if model in [\"XGBoost\", \"DECTREE\"]:\n",
    "        importances = models[model][\"best_model\"].named_steps[model].feature_importances_\n",
    "    elif model in [\"LOGREG\"]:\n",
    "        importances = models[model][\"best_model\"].named_steps[model].coef_\n",
    "    elif model in [\"SVC_clf\"] and svc_kernel == \"linear\":\n",
    "        try:\n",
    "            importances = models[model][\"best_model\"].named_steps[model].coef_\n",
    "        except:\n",
    "            # with rbf kernel use permutation importance for feature importance\n",
    "            #importances = permutation_importance(models[model][\"best_model\"], X_test, y_test)\n",
    "            #Takes too long\n",
    "            return \"Only SVC with Linear kernel can generate model coefs and feature importances\"\n",
    "    elif model in [\"SVC_clf\"] and svc_kernel == \"rbf\":\n",
    "        importances = permutation_importance(models[model][\"best_model\"], X_test, y_test)\n",
    "\n",
    "    importance_df = pd.DataFrame(zip(all_cols, importances), columns=[\"feature\", \"importance\"])\n",
    "    #Work out absolute feature importance\n",
    "    importance_df[\"abs_importance\"] = importance_df[\"importance\"].apply(lambda x: abs(x))\n",
    "    #Colour code for features with positive impact on predictions\n",
    "    importance_df[\"colors\"] = importance_df[\"importance\"].apply(lambda x: \"green\" if x > 0 else \"red\")\n",
    "    importance_df = importance_df.sort_values(\"abs_importance\", ascending=False)\n",
    "\n",
    "\n",
    "\n",
    "    %matplotlib inline\n",
    "    fig, ax = plt.subplots(1, 1, figsize=(12, 7))\n",
    "    sns.barplot(y=\"feature\",\n",
    "                x=\"abs_importance\",\n",
    "                data=importance_df.head(25),\n",
    "            palette=importance_df.head(25)[\"colors\"], orient='h')\n",
    "    ax.set_xticklabels(ax.get_xticklabels(), rotation=90, fontsize=20)\n",
    "    ax.set_title(\"Top 25 Features\", fontsize=25)\n",
    "    ax.set_xlabel(\"Importance\", fontsize=22)\n",
    "    ax.set_ylabel(\"Feature Name\", fontsize=22)"
   ]
  },
  {
   "attachments": {},
   "cell_type": "markdown",
   "metadata": {},
   "source": [
    "I learnt about Permutation Importance after looking up how to generate feature importance for SVM Classifiers\n",
    "\n",
    "Feature importance techniques score each predictor on their ability to improve predictions. \n",
    "This allows us to rank the features in our model based on their importance or power to predict our target variable.\n",
    "\n",
    "The idea behind Permutation Importance is that inputs that are useful for prediction contain valuable information and so by randomly shuffling the values of that feature you are destroying that information and thus reducing the quality of our predictions. \n",
    "\n",
    "If there is a small decrease in quality then the feature wasn't great at determining the correct prediction and so the model is still quite good without it. \n",
    "However if there is a large decrease in the quality, then the information in that feature had a large impact on your predictions.\n",
    "\n",
    "This requires us to shuffle a predictor, predict using the model, assess the quality of the new predictions and calculate the decrease in performance. Then by carrying out this process for all features you can rank them in terms of predictive usefulness.\n",
    "\n",
    "As this has to happen across all features it can be computationally expensive."
   ]
  },
  {
   "cell_type": "code",
   "execution_count": null,
   "metadata": {},
   "outputs": [],
   "source": []
  },
  {
   "attachments": {},
   "cell_type": "markdown",
   "metadata": {},
   "source": [
    "Realising that I have lost information by using net capital gains/losses - Having gains of 500 and losses of 500 would be net 0 but this could indicate a very different profile to someone who has 0 gains and zero losses. "
   ]
  },
  {
   "cell_type": "code",
   "execution_count": null,
   "metadata": {},
   "outputs": [],
   "source": []
  }
 ],
 "metadata": {
  "kernelspec": {
   "display_name": "Python 3",
   "language": "python",
   "name": "python3"
  },
  "language_info": {
   "codemirror_mode": {
    "name": "ipython",
    "version": 3
   },
   "file_extension": ".py",
   "mimetype": "text/x-python",
   "name": "python",
   "nbconvert_exporter": "python",
   "pygments_lexer": "ipython3",
   "version": "3.10.9 (main, Dec 15 2022, 18:25:35) [Clang 14.0.0 (clang-1400.0.29.202)]"
  },
  "orig_nbformat": 4,
  "vscode": {
   "interpreter": {
    "hash": "aee8b7b246df8f9039afb4144a1f6fd8d2ca17a180786b69acc140d282b71a49"
   }
  }
 },
 "nbformat": 4,
 "nbformat_minor": 2
}
